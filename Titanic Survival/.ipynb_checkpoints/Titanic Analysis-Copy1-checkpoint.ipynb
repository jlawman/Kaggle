{
 "cells": [
  {
   "cell_type": "code",
   "execution_count": 1,
   "metadata": {
    "collapsed": true
   },
   "outputs": [],
   "source": [
    "import pandas as pd"
   ]
  },
  {
   "cell_type": "code",
   "execution_count": 35,
   "metadata": {
    "collapsed": true
   },
   "outputs": [],
   "source": [
    "import matplotlib.pyplot as plt\n",
    "import seaborn as sns\n",
    "%matplotlib inline"
   ]
  },
  {
   "cell_type": "code",
   "execution_count": 3,
   "metadata": {},
   "outputs": [],
   "source": [
    "gender_sub = pd.read_csv(\"gender_submission.csv\")\n",
    "test_df = pd.read_csv(\"test.csv\")\n",
    "train_df = pd.read_csv(\"train.csv\")"
   ]
  },
  {
   "cell_type": "markdown",
   "metadata": {},
   "source": [
    "---\n",
    "# 1. Big picture"
   ]
  },
  {
   "cell_type": "markdown",
   "metadata": {},
   "source": [
    "1. We are trying to predict the survivors of the Titanic based on limited information regarding each passenger.\n",
    "2. Solution will be used to compete with other predictions on Kaggle leaderboard.\n",
    "3. Current solutions have predictions of up to 100%.\n",
    "4. This is a supervised offline problem.\n",
    "5. Performance will be measure by percentage of passengers scored correctly.\n",
    "6. Performance aligns perfectly with Kaggle goal.\n",
    "7. Minimum performance is approximately 78% to be placed in top 50% of contestant (desired performance: 79.425% for top 25% of contestants).\n",
    "8. I can resuse outlier removal tool.\n",
    "9. Reading about Titanic and survivors may illuminate possible improvements.\n",
    "10. Manual solution is not desriable here.\n",
    "11. I have assumed that class and gender will play a large role in the predictions."
   ]
  },
  {
   "cell_type": "markdown",
   "metadata": {},
   "source": [
    "---\n",
    "# 2. Get the data"
   ]
  },
  {
   "cell_type": "code",
   "execution_count": null,
   "metadata": {
    "collapsed": true
   },
   "outputs": [],
   "source": [
    "gender_sub = pd.read_csv(\"gender_submission.csv\")\n",
    "test_df = pd.read_csv(\"test.csv\")\n",
    "train_df = pd.read_csv(\"train.csv\")"
   ]
  },
  {
   "cell_type": "markdown",
   "metadata": {},
   "source": [
    "### train_df"
   ]
  },
  {
   "cell_type": "code",
   "execution_count": 9,
   "metadata": {},
   "outputs": [
    {
     "data": {
      "text/html": [
       "<div>\n",
       "<style>\n",
       "    .dataframe thead tr:only-child th {\n",
       "        text-align: right;\n",
       "    }\n",
       "\n",
       "    .dataframe thead th {\n",
       "        text-align: left;\n",
       "    }\n",
       "\n",
       "    .dataframe tbody tr th {\n",
       "        vertical-align: top;\n",
       "    }\n",
       "</style>\n",
       "<table border=\"1\" class=\"dataframe\">\n",
       "  <thead>\n",
       "    <tr style=\"text-align: right;\">\n",
       "      <th></th>\n",
       "      <th>PassengerId</th>\n",
       "      <th>Survived</th>\n",
       "      <th>Pclass</th>\n",
       "      <th>Name</th>\n",
       "      <th>Sex</th>\n",
       "      <th>Age</th>\n",
       "      <th>SibSp</th>\n",
       "      <th>Parch</th>\n",
       "      <th>Ticket</th>\n",
       "      <th>Fare</th>\n",
       "      <th>Cabin</th>\n",
       "      <th>Embarked</th>\n",
       "    </tr>\n",
       "  </thead>\n",
       "  <tbody>\n",
       "    <tr>\n",
       "      <th>0</th>\n",
       "      <td>1</td>\n",
       "      <td>0</td>\n",
       "      <td>3</td>\n",
       "      <td>Braund, Mr. Owen Harris</td>\n",
       "      <td>male</td>\n",
       "      <td>22.0</td>\n",
       "      <td>1</td>\n",
       "      <td>0</td>\n",
       "      <td>A/5 21171</td>\n",
       "      <td>7.2500</td>\n",
       "      <td>NaN</td>\n",
       "      <td>S</td>\n",
       "    </tr>\n",
       "    <tr>\n",
       "      <th>1</th>\n",
       "      <td>2</td>\n",
       "      <td>1</td>\n",
       "      <td>1</td>\n",
       "      <td>Cumings, Mrs. John Bradley (Florence Briggs Th...</td>\n",
       "      <td>female</td>\n",
       "      <td>38.0</td>\n",
       "      <td>1</td>\n",
       "      <td>0</td>\n",
       "      <td>PC 17599</td>\n",
       "      <td>71.2833</td>\n",
       "      <td>C85</td>\n",
       "      <td>C</td>\n",
       "    </tr>\n",
       "  </tbody>\n",
       "</table>\n",
       "</div>"
      ],
      "text/plain": [
       "   PassengerId  Survived  Pclass  \\\n",
       "0            1         0       3   \n",
       "1            2         1       1   \n",
       "\n",
       "                                                Name     Sex   Age  SibSp  \\\n",
       "0                            Braund, Mr. Owen Harris    male  22.0      1   \n",
       "1  Cumings, Mrs. John Bradley (Florence Briggs Th...  female  38.0      1   \n",
       "\n",
       "   Parch     Ticket     Fare Cabin Embarked  \n",
       "0      0  A/5 21171   7.2500   NaN        S  \n",
       "1      0   PC 17599  71.2833   C85        C  "
      ]
     },
     "execution_count": 9,
     "metadata": {},
     "output_type": "execute_result"
    }
   ],
   "source": [
    "train_df.head(2)"
   ]
  },
  {
   "cell_type": "code",
   "execution_count": 12,
   "metadata": {},
   "outputs": [
    {
     "name": "stdout",
     "output_type": "stream",
     "text": [
      "<class 'pandas.core.frame.DataFrame'>\n",
      "RangeIndex: 891 entries, 0 to 890\n",
      "Data columns (total 12 columns):\n",
      "PassengerId    891 non-null int64\n",
      "Survived       891 non-null int64\n",
      "Pclass         891 non-null int64\n",
      "Name           891 non-null object\n",
      "Sex            891 non-null object\n",
      "Age            714 non-null float64\n",
      "SibSp          891 non-null int64\n",
      "Parch          891 non-null int64\n",
      "Ticket         891 non-null object\n",
      "Fare           891 non-null float64\n",
      "Cabin          204 non-null object\n",
      "Embarked       889 non-null object\n",
      "dtypes: float64(2), int64(5), object(5)\n",
      "memory usage: 83.6+ KB\n"
     ]
    }
   ],
   "source": [
    "train_df.info()"
   ]
  },
  {
   "cell_type": "markdown",
   "metadata": {},
   "source": [
    "Missing values in Age and Cabin categories"
   ]
  },
  {
   "cell_type": "code",
   "execution_count": 23,
   "metadata": {},
   "outputs": [
    {
     "data": {
      "text/plain": [
       "PassengerId      0\n",
       "Survived         0\n",
       "Pclass           0\n",
       "Name             0\n",
       "Sex              0\n",
       "Age            177\n",
       "SibSp            0\n",
       "Parch            0\n",
       "Ticket           0\n",
       "Fare             0\n",
       "Cabin          687\n",
       "Embarked         2\n",
       "dtype: int64"
      ]
     },
     "execution_count": 23,
     "metadata": {},
     "output_type": "execute_result"
    }
   ],
   "source": [
    "train_df.isnull().sum()"
   ]
  },
  {
   "cell_type": "code",
   "execution_count": 27,
   "metadata": {},
   "outputs": [
    {
     "data": {
      "image/png": "[encoded data removed]",
      "text/plain": [
       "<matplotlib.figure.Figure at 0x1de9ccf7f98>"
      ]
     },
     "metadata": {},
     "output_type": "display_data"
    }
   ],
   "source": [
    "train_df.hist(bins=20,figsize=(20,15));"
   ]
  },
  {
   "cell_type": "markdown",
   "metadata": {},
   "source": [
    "Notable from histogram \n",
    "- Passenger id is evenly spaced\n",
    "- Age is approximately normally distributed with spike of young children. Slightly right skewed.\n",
    "- Most fares are similar with few exceptions (notable outliers).\n",
    "- Most people either had 0 or 1 sibling or spouse (mostly single people and couples?)\n",
    "- Most people have few parents/children"
   ]
  },
  {
   "cell_type": "markdown",
   "metadata": {},
   "source": [
    "### test_df"
   ]
  },
  {
   "cell_type": "code",
   "execution_count": 8,
   "metadata": {},
   "outputs": [
    {
     "data": {
      "text/html": [
       "<div>\n",
       "<style>\n",
       "    .dataframe thead tr:only-child th {\n",
       "        text-align: right;\n",
       "    }\n",
       "\n",
       "    .dataframe thead th {\n",
       "        text-align: left;\n",
       "    }\n",
       "\n",
       "    .dataframe tbody tr th {\n",
       "        vertical-align: top;\n",
       "    }\n",
       "</style>\n",
       "<table border=\"1\" class=\"dataframe\">\n",
       "  <thead>\n",
       "    <tr style=\"text-align: right;\">\n",
       "      <th></th>\n",
       "      <th>PassengerId</th>\n",
       "      <th>Pclass</th>\n",
       "      <th>Name</th>\n",
       "      <th>Sex</th>\n",
       "      <th>Age</th>\n",
       "      <th>SibSp</th>\n",
       "      <th>Parch</th>\n",
       "      <th>Ticket</th>\n",
       "      <th>Fare</th>\n",
       "      <th>Cabin</th>\n",
       "      <th>Embarked</th>\n",
       "    </tr>\n",
       "  </thead>\n",
       "  <tbody>\n",
       "    <tr>\n",
       "      <th>0</th>\n",
       "      <td>892</td>\n",
       "      <td>3</td>\n",
       "      <td>Kelly, Mr. James</td>\n",
       "      <td>male</td>\n",
       "      <td>34.5</td>\n",
       "      <td>0</td>\n",
       "      <td>0</td>\n",
       "      <td>330911</td>\n",
       "      <td>7.8292</td>\n",
       "      <td>NaN</td>\n",
       "      <td>Q</td>\n",
       "    </tr>\n",
       "    <tr>\n",
       "      <th>1</th>\n",
       "      <td>893</td>\n",
       "      <td>3</td>\n",
       "      <td>Wilkes, Mrs. James (Ellen Needs)</td>\n",
       "      <td>female</td>\n",
       "      <td>47.0</td>\n",
       "      <td>1</td>\n",
       "      <td>0</td>\n",
       "      <td>363272</td>\n",
       "      <td>7.0000</td>\n",
       "      <td>NaN</td>\n",
       "      <td>S</td>\n",
       "    </tr>\n",
       "  </tbody>\n",
       "</table>\n",
       "</div>"
      ],
      "text/plain": [
       "   PassengerId  Pclass                              Name     Sex   Age  SibSp  \\\n",
       "0          892       3                  Kelly, Mr. James    male  34.5      0   \n",
       "1          893       3  Wilkes, Mrs. James (Ellen Needs)  female  47.0      1   \n",
       "\n",
       "   Parch  Ticket    Fare Cabin Embarked  \n",
       "0      0  330911  7.8292   NaN        Q  \n",
       "1      0  363272  7.0000   NaN        S  "
      ]
     },
     "execution_count": 8,
     "metadata": {},
     "output_type": "execute_result"
    }
   ],
   "source": [
    "test_df.head(2)"
   ]
  },
  {
   "cell_type": "code",
   "execution_count": 13,
   "metadata": {},
   "outputs": [
    {
     "name": "stdout",
     "output_type": "stream",
     "text": [
      "<class 'pandas.core.frame.DataFrame'>\n",
      "RangeIndex: 418 entries, 0 to 417\n",
      "Data columns (total 11 columns):\n",
      "PassengerId    418 non-null int64\n",
      "Pclass         418 non-null int64\n",
      "Name           418 non-null object\n",
      "Sex            418 non-null object\n",
      "Age            332 non-null float64\n",
      "SibSp          418 non-null int64\n",
      "Parch          418 non-null int64\n",
      "Ticket         418 non-null object\n",
      "Fare           417 non-null float64\n",
      "Cabin          91 non-null object\n",
      "Embarked       418 non-null object\n",
      "dtypes: float64(2), int64(4), object(5)\n",
      "memory usage: 36.0+ KB\n"
     ]
    }
   ],
   "source": [
    "test_df.info()"
   ]
  },
  {
   "cell_type": "markdown",
   "metadata": {},
   "source": [
    "Missing values in Age and Cabin categories."
   ]
  },
  {
   "cell_type": "code",
   "execution_count": 24,
   "metadata": {},
   "outputs": [
    {
     "data": {
      "text/plain": [
       "PassengerId      0\n",
       "Pclass           0\n",
       "Name             0\n",
       "Sex              0\n",
       "Age             86\n",
       "SibSp            0\n",
       "Parch            0\n",
       "Ticket           0\n",
       "Fare             1\n",
       "Cabin          327\n",
       "Embarked         0\n",
       "dtype: int64"
      ]
     },
     "execution_count": 24,
     "metadata": {},
     "output_type": "execute_result"
    }
   ],
   "source": [
    "test_df.isnull().sum()"
   ]
  },
  {
   "cell_type": "markdown",
   "metadata": {},
   "source": [
    "### gender_sub"
   ]
  },
  {
   "cell_type": "code",
   "execution_count": 31,
   "metadata": {},
   "outputs": [
    {
     "data": {
      "text/html": [
       "<div>\n",
       "<style>\n",
       "    .dataframe thead tr:only-child th {\n",
       "        text-align: right;\n",
       "    }\n",
       "\n",
       "    .dataframe thead th {\n",
       "        text-align: left;\n",
       "    }\n",
       "\n",
       "    .dataframe tbody tr th {\n",
       "        vertical-align: top;\n",
       "    }\n",
       "</style>\n",
       "<table border=\"1\" class=\"dataframe\">\n",
       "  <thead>\n",
       "    <tr style=\"text-align: right;\">\n",
       "      <th></th>\n",
       "      <th>PassengerId</th>\n",
       "      <th>Survived</th>\n",
       "    </tr>\n",
       "  </thead>\n",
       "  <tbody>\n",
       "    <tr>\n",
       "      <th>0</th>\n",
       "      <td>892</td>\n",
       "      <td>0</td>\n",
       "    </tr>\n",
       "    <tr>\n",
       "      <th>1</th>\n",
       "      <td>893</td>\n",
       "      <td>1</td>\n",
       "    </tr>\n",
       "  </tbody>\n",
       "</table>\n",
       "</div>"
      ],
      "text/plain": [
       "   PassengerId  Survived\n",
       "0          892         0\n",
       "1          893         1"
      ]
     },
     "execution_count": 31,
     "metadata": {},
     "output_type": "execute_result"
    }
   ],
   "source": [
    "gender_sub.head(2)"
   ]
  },
  {
   "cell_type": "code",
   "execution_count": 14,
   "metadata": {},
   "outputs": [
    {
     "name": "stdout",
     "output_type": "stream",
     "text": [
      "<class 'pandas.core.frame.DataFrame'>\n",
      "RangeIndex: 418 entries, 0 to 417\n",
      "Data columns (total 2 columns):\n",
      "PassengerId    418 non-null int64\n",
      "Survived       418 non-null int64\n",
      "dtypes: int64(2)\n",
      "memory usage: 6.6 KB\n"
     ]
    }
   ],
   "source": [
    "gender_sub.info()"
   ]
  },
  {
   "cell_type": "markdown",
   "metadata": {},
   "source": [
    "---\n",
    "# 3. Explore the data"
   ]
  },
  {
   "cell_type": "code",
   "execution_count": 33,
   "metadata": {
    "collapsed": true
   },
   "outputs": [],
   "source": [
    "passengers = train_df.copy()"
   ]
  },
  {
   "cell_type": "code",
   "execution_count": 70,
   "metadata": {},
   "outputs": [
    {
     "data": {
      "text/plain": [
       "<matplotlib.axes._subplots.AxesSubplot at 0x1dea0aa6eb8>"
      ]
     },
     "execution_count": 70,
     "metadata": {},
     "output_type": "execute_result"
    },
    {
     "data": {
      "image/png": "[encoded data removed]",
      "text/plain": [
       "<matplotlib.figure.Figure at 0x1dea0470390>"
      ]
     },
     "metadata": {},
     "output_type": "display_data"
    }
   ],
   "source": [
    "plt.figure(figsize=(12,10))\n",
    "sns.heatmap(corr_matrix,annot=True)"
   ]
  },
  {
   "cell_type": "markdown",
   "metadata": {},
   "source": [
    "Notable from corr_matrix:\n",
    "- Survived has some obvious linear correlation with Fare, Pclass\n",
    "- Parch and Sibsp are linearly correlated (as we might expect)\n",
    "- Age has an unexpected relationship with Pclass"
   ]
  },
  {
   "cell_type": "markdown",
   "metadata": {},
   "source": [
    "Let's look at the linear correlation between Survived and 1) Fare 2) Pclass:"
   ]
  },
  {
   "cell_type": "code",
   "execution_count": 62,
   "metadata": {},
   "outputs": [
    {
     "data": {
      "text/plain": [
       "<seaborn.axisgrid.FacetGrid at 0x1dea0aee128>"
      ]
     },
     "execution_count": 62,
     "metadata": {},
     "output_type": "execute_result"
    },
    {
     "data": {
      "image/png": "[encoded data removed]",
      "text/plain": [
       "<matplotlib.figure.Figure at 0x1dea09d7ef0>"
      ]
     },
     "metadata": {},
     "output_type": "display_data"
    }
   ],
   "source": [
    "sns.lmplot('Fare','Survived',passengers)"
   ]
  },
  {
   "cell_type": "code",
   "execution_count": 63,
   "metadata": {},
   "outputs": [
    {
     "data": {
      "text/plain": [
       "<seaborn.axisgrid.FacetGrid at 0x1de9d329d30>"
      ]
     },
     "execution_count": 63,
     "metadata": {},
     "output_type": "execute_result"
    },
    {
     "data": {
      "image/png": "[encoded data removed]",
      "text/plain": [
       "<matplotlib.figure.Figure at 0x1de9d329978>"
      ]
     },
     "metadata": {},
     "output_type": "display_data"
    }
   ],
   "source": [
    "sns.lmplot('Pclass','Survived',passengers)"
   ]
  },
  {
   "cell_type": "code",
   "execution_count": 67,
   "metadata": {},
   "outputs": [
    {
     "data": {
      "text/plain": [
       "Survived       1.000000\n",
       "Fare           0.257307\n",
       "Parch          0.081629\n",
       "PassengerId   -0.005007\n",
       "SibSp         -0.035322\n",
       "Age           -0.077221\n",
       "Pclass        -0.338481\n",
       "Name: Survived, dtype: float64"
      ]
     },
     "execution_count": 67,
     "metadata": {},
     "output_type": "execute_result"
    }
   ],
   "source": [
    "corr_matrix = passengers.corr()\n",
    "corr_matrix['Survived'].sort_values(ascending=False)"
   ]
  },
  {
   "cell_type": "markdown",
   "metadata": {},
   "source": [
    "It appears that Parch, Fare, Age, and Pclass are most significantly related in a linear fashion"
   ]
  },
  {
   "cell_type": "code",
   "execution_count": 82,
   "metadata": {
    "scrolled": true
   },
   "outputs": [
    {
     "data": {
      "text/plain": [
       "<seaborn.axisgrid.PairGrid at 0x1dea2e1ba20>"
      ]
     },
     "execution_count": 82,
     "metadata": {},
     "output_type": "execute_result"
    },
    {
     "data": {
      "image/png": "[encoded data removed]",
      "text/plain": [
       "<matplotlib.figure.Figure at 0x1dea5ad9d30>"
      ]
     },
     "metadata": {},
     "output_type": "display_data"
    }
   ],
   "source": [
    "attributes = ['Parch','Fare','Age','Pclass','Survived']\n",
    "sns.pairplot(passengers[attributes].dropna(),hue='Survived')"
   ]
  },
  {
   "cell_type": "code",
   "execution_count": 44,
   "metadata": {},
   "outputs": [
    {
     "data": {
      "text/plain": [
       "<matplotlib.axes._subplots.AxesSubplot at 0x1dea22e3b00>"
      ]
     },
     "execution_count": 44,
     "metadata": {},
     "output_type": "execute_result"
    },
    {
     "data": {
      "image/png": "[encoded data removed]",
      "text/plain": [
       "<matplotlib.figure.Figure at 0x1dea22f42b0>"
      ]
     },
     "metadata": {},
     "output_type": "display_data"
    }
   ],
   "source": [
    "sns.violinplot(x='Sex',y='Age',data=passengers)"
   ]
  },
  {
   "cell_type": "markdown",
   "metadata": {},
   "source": [
    "# 4. Prepare the data"
   ]
  },
  {
   "cell_type": "markdown",
   "metadata": {},
   "source": [
    "### Deal with missing data"
   ]
  },
  {
   "cell_type": "code",
   "execution_count": 86,
   "metadata": {},
   "outputs": [
    {
     "data": {
      "text/plain": [
       "PassengerId      0\n",
       "Survived         0\n",
       "Pclass           0\n",
       "Name             0\n",
       "Sex              0\n",
       "Age            177\n",
       "SibSp            0\n",
       "Parch            0\n",
       "Ticket           0\n",
       "Fare             0\n",
       "Cabin          687\n",
       "Embarked         2\n",
       "dtype: int64"
      ]
     },
     "execution_count": 86,
     "metadata": {},
     "output_type": "execute_result"
    }
   ],
   "source": [
    "passengers.isnull().sum()"
   ]
  },
  {
   "cell_type": "code",
   "execution_count": 85,
   "metadata": {},
   "outputs": [
    {
     "data": {
      "text/plain": [
       "891"
      ]
     },
     "execution_count": 85,
     "metadata": {},
     "output_type": "execute_result"
    }
   ],
   "source": [
    "len(train_df)"
   ]
  },
  {
   "cell_type": "markdown",
   "metadata": {},
   "source": [
    "#### Cabin \n",
    "Category is missing 687/891 values so we will drop that column"
   ]
  },
  {
   "cell_type": "code",
   "execution_count": 87,
   "metadata": {
    "collapsed": true
   },
   "outputs": [],
   "source": [
    "passengers.drop('Cabin',axis=1,inplace=True)"
   ]
  },
  {
   "cell_type": "markdown",
   "metadata": {},
   "source": [
    "#### Age\n",
    "Age was fairly normally distributed, so we will impute the median Age"
   ]
  },
  {
   "cell_type": "code",
   "execution_count": 90,
   "metadata": {
    "collapsed": true
   },
   "outputs": [],
   "source": [
    "from sklearn.preprocessing import Imputer"
   ]
  },
  {
   "cell_type": "code",
   "execution_count": 92,
   "metadata": {
    "collapsed": true
   },
   "outputs": [],
   "source": [
    "imputer = Imputer(strategy=\"median\")"
   ]
  },
  {
   "cell_type": "code",
   "execution_count": 101,
   "metadata": {},
   "outputs": [
    {
     "data": {
      "text/plain": [
       "Imputer(axis=0, copy=True, missing_values='NaN', strategy='median', verbose=0)"
      ]
     },
     "execution_count": 101,
     "metadata": {},
     "output_type": "execute_result"
    }
   ],
   "source": [
    "imputer.fit(passengers['Age'].values.reshape(-1,1))"
   ]
  },
  {
   "cell_type": "code",
   "execution_count": 102,
   "metadata": {},
   "outputs": [
    {
     "data": {
      "text/plain": [
       "array([ 28.])"
      ]
     },
     "execution_count": 102,
     "metadata": {},
     "output_type": "execute_result"
    }
   ],
   "source": [
    "imputer.statistics_"
   ]
  },
  {
   "cell_type": "code",
   "execution_count": 103,
   "metadata": {
    "collapsed": true
   },
   "outputs": [],
   "source": [
    "age_new = imputer.transform(passengers['Age'].values.reshape(-1,1))"
   ]
  },
  {
   "cell_type": "code",
   "execution_count": 104,
   "metadata": {
    "collapsed": true
   },
   "outputs": [],
   "source": [
    "age_tr = pd.DataFrame(age_new,columns=['Age'])"
   ]
  },
  {
   "cell_type": "code",
   "execution_count": 201,
   "metadata": {
    "collapsed": true
   },
   "outputs": [],
   "source": [
    "passengers['Age']=age_tr"
   ]
  },
  {
   "cell_type": "markdown",
   "metadata": {},
   "source": [
    "#### Embarked\n",
    "Embarked is missing 2 values. We will replace these with the most common embarked location."
   ]
  },
  {
   "cell_type": "code",
   "execution_count": 202,
   "metadata": {},
   "outputs": [
    {
     "data": {
      "text/plain": [
       "S    646\n",
       "C    168\n",
       "Q     77\n",
       "Name: Embarked, dtype: int64"
      ]
     },
     "execution_count": 202,
     "metadata": {},
     "output_type": "execute_result"
    }
   ],
   "source": [
    "passengers['Embarked'].value_counts()"
   ]
  },
  {
   "cell_type": "code",
   "execution_count": 203,
   "metadata": {},
   "outputs": [],
   "source": [
    "passengers['Embarked'].fillna('S',inplace=True)"
   ]
  },
  {
   "cell_type": "code",
   "execution_count": 107,
   "metadata": {
    "collapsed": true
   },
   "outputs": [],
   "source": [
    "#imputer = Imputer(strategy=\"most_frequent\")\n",
    "#imputer.fit(passengers['Embarked'].values.reshape(-1,1))\n",
    "#imputer.statistics_"
   ]
  },
  {
   "cell_type": "markdown",
   "metadata": {},
   "source": [
    "### Handling Categorical attributes"
   ]
  },
  {
   "cell_type": "code",
   "execution_count": 204,
   "metadata": {},
   "outputs": [
    {
     "name": "stdout",
     "output_type": "stream",
     "text": [
      "<class 'pandas.core.frame.DataFrame'>\n",
      "RangeIndex: 891 entries, 0 to 890\n",
      "Data columns (total 11 columns):\n",
      "PassengerId    891 non-null int64\n",
      "Survived       891 non-null int64\n",
      "Pclass         891 non-null int64\n",
      "Name           891 non-null object\n",
      "Sex            891 non-null object\n",
      "Age            891 non-null float64\n",
      "SibSp          891 non-null int64\n",
      "Parch          891 non-null int64\n",
      "Ticket         891 non-null object\n",
      "Fare           891 non-null float64\n",
      "Embarked       891 non-null object\n",
      "dtypes: float64(2), int64(5), object(4)\n",
      "memory usage: 76.6+ KB\n"
     ]
    }
   ],
   "source": [
    "passengers.info()"
   ]
  },
  {
   "cell_type": "markdown",
   "metadata": {},
   "source": [
    "The following 4 attributes are text or categorical:\n",
    "- Name\n",
    "- Sex\n",
    "- Ticket\n",
    "- Embarked"
   ]
  },
  {
   "cell_type": "code",
   "execution_count": 205,
   "metadata": {},
   "outputs": [
    {
     "data": {
      "text/html": [
       "<div>\n",
       "<style>\n",
       "    .dataframe thead tr:only-child th {\n",
       "        text-align: right;\n",
       "    }\n",
       "\n",
       "    .dataframe thead th {\n",
       "        text-align: left;\n",
       "    }\n",
       "\n",
       "    .dataframe tbody tr th {\n",
       "        vertical-align: top;\n",
       "    }\n",
       "</style>\n",
       "<table border=\"1\" class=\"dataframe\">\n",
       "  <thead>\n",
       "    <tr style=\"text-align: right;\">\n",
       "      <th></th>\n",
       "      <th>Name</th>\n",
       "      <th>Sex</th>\n",
       "      <th>Ticket</th>\n",
       "      <th>Embarked</th>\n",
       "    </tr>\n",
       "  </thead>\n",
       "  <tbody>\n",
       "    <tr>\n",
       "      <th>0</th>\n",
       "      <td>Braund, Mr. Owen Harris</td>\n",
       "      <td>male</td>\n",
       "      <td>A/5 21171</td>\n",
       "      <td>S</td>\n",
       "    </tr>\n",
       "    <tr>\n",
       "      <th>1</th>\n",
       "      <td>Cumings, Mrs. John Bradley (Florence Briggs Th...</td>\n",
       "      <td>female</td>\n",
       "      <td>PC 17599</td>\n",
       "      <td>C</td>\n",
       "    </tr>\n",
       "  </tbody>\n",
       "</table>\n",
       "</div>"
      ],
      "text/plain": [
       "                                                Name     Sex     Ticket  \\\n",
       "0                            Braund, Mr. Owen Harris    male  A/5 21171   \n",
       "1  Cumings, Mrs. John Bradley (Florence Briggs Th...  female   PC 17599   \n",
       "\n",
       "  Embarked  \n",
       "0        S  \n",
       "1        C  "
      ]
     },
     "execution_count": 205,
     "metadata": {},
     "output_type": "execute_result"
    }
   ],
   "source": [
    "passengers_non_numeric = passengers[['Name','Sex','Ticket','Embarked']]\n",
    "passengers_non_numeric.head(2)"
   ]
  },
  {
   "cell_type": "code",
   "execution_count": 206,
   "metadata": {},
   "outputs": [
    {
     "data": {
      "text/plain": [
       "Name        891\n",
       "Sex           2\n",
       "Ticket      681\n",
       "Embarked      3\n",
       "dtype: int64"
      ]
     },
     "execution_count": 206,
     "metadata": {},
     "output_type": "execute_result"
    }
   ],
   "source": [
    "passengers_non_numeric.nunique()"
   ]
  },
  {
   "cell_type": "markdown",
   "metadata": {},
   "source": [
    "It appears that the name and tickets are mostly unique. We will encode Sex and Embarked."
   ]
  },
  {
   "cell_type": "code",
   "execution_count": 207,
   "metadata": {
    "collapsed": true
   },
   "outputs": [],
   "source": [
    "from sklearn.preprocessing import LabelBinarizer"
   ]
  },
  {
   "cell_type": "code",
   "execution_count": 208,
   "metadata": {
    "collapsed": true
   },
   "outputs": [],
   "source": [
    "encoder = LabelBinarizer()"
   ]
  },
  {
   "cell_type": "code",
   "execution_count": 209,
   "metadata": {
    "collapsed": true
   },
   "outputs": [],
   "source": [
    "cat_features = ['Sex','Embarked']\n",
    "\n",
    "passengers_cat = passengers[cat_features]"
   ]
  },
  {
   "cell_type": "code",
   "execution_count": 210,
   "metadata": {},
   "outputs": [],
   "source": [
    "passengers_sex_encoded = encoder.fit_transform(passengers['Sex'])\n",
    "passengers_embarked_encoded = encoder.fit_transform(passengers['Embarked'])"
   ]
  },
  {
   "cell_type": "code",
   "execution_count": 211,
   "metadata": {},
   "outputs": [],
   "source": [
    "sex_encoded_df = pd.DataFrame(passengers_sex_encoded,columns=['Sex_Encoded'])\n",
    "\n",
    "embarked_encoded_df = pd.DataFrame(passengers_embarked_encoded,columns=passengers['Embarked'].unique())"
   ]
  },
  {
   "cell_type": "code",
   "execution_count": 212,
   "metadata": {},
   "outputs": [],
   "source": [
    "passengers_with_sex = passengers.merge(sex_encoded_df,left_index=True,right_index=True)\n",
    "\n",
    "passengers_encoded = passengers_with_sex.merge(embarked_encoded_df,left_index=True,right_index=True)"
   ]
  },
  {
   "cell_type": "code",
   "execution_count": 213,
   "metadata": {},
   "outputs": [
    {
     "data": {
      "text/html": [
       "<div>\n",
       "<style>\n",
       "    .dataframe thead tr:only-child th {\n",
       "        text-align: right;\n",
       "    }\n",
       "\n",
       "    .dataframe thead th {\n",
       "        text-align: left;\n",
       "    }\n",
       "\n",
       "    .dataframe tbody tr th {\n",
       "        vertical-align: top;\n",
       "    }\n",
       "</style>\n",
       "<table border=\"1\" class=\"dataframe\">\n",
       "  <thead>\n",
       "    <tr style=\"text-align: right;\">\n",
       "      <th></th>\n",
       "      <th>PassengerId</th>\n",
       "      <th>Survived</th>\n",
       "      <th>Pclass</th>\n",
       "      <th>Name</th>\n",
       "      <th>Sex</th>\n",
       "      <th>Age</th>\n",
       "      <th>SibSp</th>\n",
       "      <th>Parch</th>\n",
       "      <th>Ticket</th>\n",
       "      <th>Fare</th>\n",
       "      <th>Embarked</th>\n",
       "      <th>Sex_Encoded</th>\n",
       "      <th>S</th>\n",
       "      <th>C</th>\n",
       "      <th>Q</th>\n",
       "    </tr>\n",
       "  </thead>\n",
       "  <tbody>\n",
       "    <tr>\n",
       "      <th>0</th>\n",
       "      <td>1</td>\n",
       "      <td>0</td>\n",
       "      <td>3</td>\n",
       "      <td>Braund, Mr. Owen Harris</td>\n",
       "      <td>male</td>\n",
       "      <td>22.0</td>\n",
       "      <td>1</td>\n",
       "      <td>0</td>\n",
       "      <td>A/5 21171</td>\n",
       "      <td>7.2500</td>\n",
       "      <td>S</td>\n",
       "      <td>1</td>\n",
       "      <td>0</td>\n",
       "      <td>0</td>\n",
       "      <td>1</td>\n",
       "    </tr>\n",
       "    <tr>\n",
       "      <th>1</th>\n",
       "      <td>2</td>\n",
       "      <td>1</td>\n",
       "      <td>1</td>\n",
       "      <td>Cumings, Mrs. John Bradley (Florence Briggs Th...</td>\n",
       "      <td>female</td>\n",
       "      <td>38.0</td>\n",
       "      <td>1</td>\n",
       "      <td>0</td>\n",
       "      <td>PC 17599</td>\n",
       "      <td>71.2833</td>\n",
       "      <td>C</td>\n",
       "      <td>0</td>\n",
       "      <td>1</td>\n",
       "      <td>0</td>\n",
       "      <td>0</td>\n",
       "    </tr>\n",
       "    <tr>\n",
       "      <th>2</th>\n",
       "      <td>3</td>\n",
       "      <td>1</td>\n",
       "      <td>3</td>\n",
       "      <td>Heikkinen, Miss. Laina</td>\n",
       "      <td>female</td>\n",
       "      <td>26.0</td>\n",
       "      <td>0</td>\n",
       "      <td>0</td>\n",
       "      <td>STON/O2. 3101282</td>\n",
       "      <td>7.9250</td>\n",
       "      <td>S</td>\n",
       "      <td>0</td>\n",
       "      <td>0</td>\n",
       "      <td>0</td>\n",
       "      <td>1</td>\n",
       "    </tr>\n",
       "    <tr>\n",
       "      <th>3</th>\n",
       "      <td>4</td>\n",
       "      <td>1</td>\n",
       "      <td>1</td>\n",
       "      <td>Futrelle, Mrs. Jacques Heath (Lily May Peel)</td>\n",
       "      <td>female</td>\n",
       "      <td>35.0</td>\n",
       "      <td>1</td>\n",
       "      <td>0</td>\n",
       "      <td>113803</td>\n",
       "      <td>53.1000</td>\n",
       "      <td>S</td>\n",
       "      <td>0</td>\n",
       "      <td>0</td>\n",
       "      <td>0</td>\n",
       "      <td>1</td>\n",
       "    </tr>\n",
       "    <tr>\n",
       "      <th>4</th>\n",
       "      <td>5</td>\n",
       "      <td>0</td>\n",
       "      <td>3</td>\n",
       "      <td>Allen, Mr. William Henry</td>\n",
       "      <td>male</td>\n",
       "      <td>35.0</td>\n",
       "      <td>0</td>\n",
       "      <td>0</td>\n",
       "      <td>373450</td>\n",
       "      <td>8.0500</td>\n",
       "      <td>S</td>\n",
       "      <td>1</td>\n",
       "      <td>0</td>\n",
       "      <td>0</td>\n",
       "      <td>1</td>\n",
       "    </tr>\n",
       "  </tbody>\n",
       "</table>\n",
       "</div>"
      ],
      "text/plain": [
       "   PassengerId  Survived  Pclass  \\\n",
       "0            1         0       3   \n",
       "1            2         1       1   \n",
       "2            3         1       3   \n",
       "3            4         1       1   \n",
       "4            5         0       3   \n",
       "\n",
       "                                                Name     Sex   Age  SibSp  \\\n",
       "0                            Braund, Mr. Owen Harris    male  22.0      1   \n",
       "1  Cumings, Mrs. John Bradley (Florence Briggs Th...  female  38.0      1   \n",
       "2                             Heikkinen, Miss. Laina  female  26.0      0   \n",
       "3       Futrelle, Mrs. Jacques Heath (Lily May Peel)  female  35.0      1   \n",
       "4                           Allen, Mr. William Henry    male  35.0      0   \n",
       "\n",
       "   Parch            Ticket     Fare Embarked  Sex_Encoded  S  C  Q  \n",
       "0      0         A/5 21171   7.2500        S            1  0  0  1  \n",
       "1      0          PC 17599  71.2833        C            0  1  0  0  \n",
       "2      0  STON/O2. 3101282   7.9250        S            0  0  0  1  \n",
       "3      0            113803  53.1000        S            0  0  0  1  \n",
       "4      0            373450   8.0500        S            1  0  0  1  "
      ]
     },
     "execution_count": 213,
     "metadata": {},
     "output_type": "execute_result"
    }
   ],
   "source": [
    "passengers_encoded.head()"
   ]
  },
  {
   "cell_type": "markdown",
   "metadata": {},
   "source": [
    "### Feature scaling"
   ]
  },
  {
   "cell_type": "code",
   "execution_count": 214,
   "metadata": {
    "collapsed": true
   },
   "outputs": [],
   "source": [
    "#from sklearn.preprocessing import StandardScaler"
   ]
  },
  {
   "cell_type": "code",
   "execution_count": 215,
   "metadata": {
    "collapsed": true
   },
   "outputs": [],
   "source": [
    "#scaler = StandardScaler()"
   ]
  },
  {
   "cell_type": "code",
   "execution_count": 216,
   "metadata": {
    "collapsed": true
   },
   "outputs": [],
   "source": [
    "#nurical_features = ['Age','Fare']"
   ]
  },
  {
   "cell_type": "code",
   "execution_count": 217,
   "metadata": {},
   "outputs": [],
   "source": [
    "#scaler.fit_transform(passengers_encoded[numerical_features])"
   ]
  },
  {
   "cell_type": "markdown",
   "metadata": {},
   "source": [
    "### Transform test (replace with pipeline)"
   ]
  },
  {
   "cell_type": "code",
   "execution_count": 328,
   "metadata": {},
   "outputs": [],
   "source": [
    "test=test_df.copy()\n",
    "\n",
    "#Missing Data\n",
    "test.drop('Cabin',axis=1,inplace=True)\n",
    "test['Age'].fillna(28,inplace=True)\n",
    "test['Embarked'].fillna('S',inplace=True)\n",
    "test['Fare'].fillna(14.4542,inplace=True)\n",
    "\n",
    "#Encoding\n",
    "encoder = LabelBinarizer()\n",
    "\n",
    "cat_features = ['Sex','Embarked']\n",
    "test_cat = test[cat_features]\n",
    "\n",
    "test_sex_encoded = encoder.fit_transform(test['Sex'])\n",
    "sex_encoded_df = pd.DataFrame(test_sex_encoded,columns=['Sex_Encoded'])\n",
    "test_with_sex = test.merge(sex_encoded_df,left_index=True,right_index=True)\n",
    "\n",
    "test_embarked_encoded = encoder.fit_transform(test['Embarked'])\n",
    "embarked_encoded_df = pd.DataFrame(test_embarked_encoded,columns=test['Embarked'].unique())\n",
    "\n",
    "\n",
    "test_encoded = test_with_sex.merge(embarked_encoded_df,left_index=True,right_index=True)\n",
    "\n",
    "#Feature selection:\n",
    "features = ['Pclass', 'Age', 'SibSp','Parch', 'Fare', 'Sex_Encoded', 'C', 'Q']\n",
    "test_prepared = test_encoded[features]"
   ]
  },
  {
   "cell_type": "code",
   "execution_count": 329,
   "metadata": {},
   "outputs": [
    {
     "data": {
      "text/html": [
       "<div>\n",
       "<style>\n",
       "    .dataframe thead tr:only-child th {\n",
       "        text-align: right;\n",
       "    }\n",
       "\n",
       "    .dataframe thead th {\n",
       "        text-align: left;\n",
       "    }\n",
       "\n",
       "    .dataframe tbody tr th {\n",
       "        vertical-align: top;\n",
       "    }\n",
       "</style>\n",
       "<table border=\"1\" class=\"dataframe\">\n",
       "  <thead>\n",
       "    <tr style=\"text-align: right;\">\n",
       "      <th></th>\n",
       "      <th>Pclass</th>\n",
       "      <th>Age</th>\n",
       "      <th>SibSp</th>\n",
       "      <th>Parch</th>\n",
       "      <th>Fare</th>\n",
       "      <th>Sex_Encoded</th>\n",
       "      <th>C</th>\n",
       "      <th>Q</th>\n",
       "    </tr>\n",
       "  </thead>\n",
       "  <tbody>\n",
       "  </tbody>\n",
       "</table>\n",
       "</div>"
      ],
      "text/plain": [
       "Empty DataFrame\n",
       "Columns: [Pclass, Age, SibSp, Parch, Fare, Sex_Encoded, C, Q]\n",
       "Index: []"
      ]
     },
     "execution_count": 329,
     "metadata": {},
     "output_type": "execute_result"
    }
   ],
   "source": [
    "test_prepared[test_prepared.isnull().any(axis=1)]"
   ]
  },
  {
   "cell_type": "code",
   "execution_count": 314,
   "metadata": {},
   "outputs": [
    {
     "data": {
      "text/html": [
       "<div>\n",
       "<style>\n",
       "    .dataframe thead tr:only-child th {\n",
       "        text-align: right;\n",
       "    }\n",
       "\n",
       "    .dataframe thead th {\n",
       "        text-align: left;\n",
       "    }\n",
       "\n",
       "    .dataframe tbody tr th {\n",
       "        vertical-align: top;\n",
       "    }\n",
       "</style>\n",
       "<table border=\"1\" class=\"dataframe\">\n",
       "  <thead>\n",
       "    <tr style=\"text-align: right;\">\n",
       "      <th></th>\n",
       "      <th>Pclass</th>\n",
       "      <th>Age</th>\n",
       "      <th>SibSp</th>\n",
       "      <th>Parch</th>\n",
       "      <th>Fare</th>\n",
       "      <th>Sex_Encoded</th>\n",
       "      <th>C</th>\n",
       "      <th>Q</th>\n",
       "    </tr>\n",
       "  </thead>\n",
       "  <tbody>\n",
       "    <tr>\n",
       "      <th>0</th>\n",
       "      <td>3</td>\n",
       "      <td>34.5</td>\n",
       "      <td>0</td>\n",
       "      <td>0</td>\n",
       "      <td>7.8292</td>\n",
       "      <td>1</td>\n",
       "      <td>0</td>\n",
       "      <td>0</td>\n",
       "    </tr>\n",
       "    <tr>\n",
       "      <th>1</th>\n",
       "      <td>3</td>\n",
       "      <td>47.0</td>\n",
       "      <td>1</td>\n",
       "      <td>0</td>\n",
       "      <td>7.0000</td>\n",
       "      <td>0</td>\n",
       "      <td>1</td>\n",
       "      <td>0</td>\n",
       "    </tr>\n",
       "  </tbody>\n",
       "</table>\n",
       "</div>"
      ],
      "text/plain": [
       "   Pclass   Age  SibSp  Parch    Fare  Sex_Encoded  C  Q\n",
       "0       3  34.5      0      0  7.8292            1  0  0\n",
       "1       3  47.0      1      0  7.0000            0  1  0"
      ]
     },
     "execution_count": 314,
     "metadata": {},
     "output_type": "execute_result"
    }
   ],
   "source": [
    "test_prepared.head(2)"
   ]
  },
  {
   "cell_type": "markdown",
   "metadata": {},
   "source": [
    "### Pipeline"
   ]
  },
  {
   "cell_type": "code",
   "execution_count": 310,
   "metadata": {
    "collapsed": true
   },
   "outputs": [],
   "source": [
    "\"\"\"\n",
    "from sklearn.pipeline import Pipeline\n",
    "from sklearn.pipeline import FeatureUnion\n",
    "\"\"\""
   ]
  },
  {
   "cell_type": "code",
   "execution_count": null,
   "metadata": {
    "collapsed": true
   },
   "outputs": [],
   "source": [
    "\"\"\"\n",
    "num_attributes = \n",
    "cat_attributes = ['']\n",
    "\"\"\""
   ]
  },
  {
   "cell_type": "code",
   "execution_count": null,
   "metadata": {
    "collapsed": true
   },
   "outputs": [],
   "source": [
    "\"\"\"\n",
    "from sklearn.base import BaseEstimator, TransformerMixin\n",
    "\n",
    "class DataFrameSelector(BaseEstimator, TransformerMixin):\n",
    "    def __init__(self, attribute_names):\n",
    "        self.attribute_names = attribute_names\n",
    "    def fit(self, X, y=None):\n",
    "        return self\n",
    "    def transform(self, X):\n",
    "        return X[self.attribute_names].values\n",
    "\"\"\""
   ]
  },
  {
   "cell_type": "code",
   "execution_count": null,
   "metadata": {
    "collapsed": true
   },
   "outputs": [],
   "source": [
    "\"\"\"\n",
    "num_pipeline = Pipeline([\n",
    "    ('imputer',Imputer(strategy='median')), #Impute median age for missing values\n",
    "])\n",
    "\"\"\""
   ]
  },
  {
   "cell_type": "code",
   "execution_count": null,
   "metadata": {
    "collapsed": true
   },
   "outputs": [],
   "source": [
    "\"\"\"\n",
    "def fill_embarked_with_S(df:\n",
    "    passengers['Embarked'].fillna('S',inplace=True)\n",
    "\"\"\""
   ]
  },
  {
   "cell_type": "code",
   "execution_count": 219,
   "metadata": {
    "collapsed": true
   },
   "outputs": [],
   "source": [
    "\"\"\"\n",
    "cat_pipeline = ([\n",
    "    ()\n",
    "])\n",
    "\"\"\""
   ]
  },
  {
   "cell_type": "code",
   "execution_count": null,
   "metadata": {
    "collapsed": true
   },
   "outputs": [],
   "source": [
    "\"\"\"\n",
    "full_pipeline = FeatureUnion(transformer_list=[\n",
    "    (\"num_pipeline\",num_pipeline),\n",
    "    (\"cat_pipeline\",cat_pipeline),\n",
    "])\n",
    "\"\"\""
   ]
  },
  {
   "cell_type": "code",
   "execution_count": null,
   "metadata": {
    "collapsed": true
   },
   "outputs": [],
   "source": [
    "# Note drop cabin\n",
    "#passengers.drop('Cabin',axis=1,inplace=True)"
   ]
  },
  {
   "cell_type": "markdown",
   "metadata": {},
   "source": [
    "---\n",
    "# 5. Short-list promising models"
   ]
  },
  {
   "cell_type": "code",
   "execution_count": 220,
   "metadata": {},
   "outputs": [
    {
     "data": {
      "text/plain": [
       "Index(['PassengerId', 'Survived', 'Pclass', 'Name', 'Sex', 'Age', 'SibSp',\n",
       "       'Parch', 'Ticket', 'Fare', 'Embarked', 'Sex_Encoded', 'S', 'C', 'Q'],\n",
       "      dtype='object')"
      ]
     },
     "execution_count": 220,
     "metadata": {},
     "output_type": "execute_result"
    }
   ],
   "source": [
    "passengers_encoded.columns"
   ]
  },
  {
   "cell_type": "code",
   "execution_count": 364,
   "metadata": {
    "collapsed": true
   },
   "outputs": [],
   "source": [
    "features = ['Pclass', 'Age', 'SibSp','Parch', 'Fare', 'Sex_Encoded', 'C', 'Q']"
   ]
  },
  {
   "cell_type": "code",
   "execution_count": 523,
   "metadata": {
    "collapsed": true
   },
   "outputs": [],
   "source": [
    "passengers_prepared = passengers_encoded[features]\n",
    "passengers_labels = passengers_encoded['Survived']"
   ]
  },
  {
   "cell_type": "markdown",
   "metadata": {},
   "source": [
    "#### Classifier overview"
   ]
  },
  {
   "cell_type": "code",
   "execution_count": 242,
   "metadata": {
    "collapsed": true
   },
   "outputs": [],
   "source": [
    "from sklearn.model_selection import cross_val_score"
   ]
  },
  {
   "cell_type": "code",
   "execution_count": 267,
   "metadata": {
    "collapsed": true
   },
   "outputs": [],
   "source": [
    "from sklearn.ensemble import RandomForestClassifier,AdaBoostClassifier,BaggingClassifier,ExtraTreesClassifier,GradientBoostingClassifier\n",
    "from sklearn.svm import SVC\n",
    "from sklearn.neighbors import KNeighborsClassifier"
   ]
  },
  {
   "cell_type": "code",
   "execution_count": 269,
   "metadata": {
    "collapsed": true
   },
   "outputs": [],
   "source": [
    "#Ensemble\n",
    "rfc = RandomForestClassifier()\n",
    "ada_boost = AdaBoostClassifier()\n",
    "bag = BaggingClassifier()\n",
    "extra_trees = ExtraTreesClassifier()\n",
    "grad_boost = GradientBoostingClassifier()\n",
    "\n",
    "#SVM\n",
    "svc = SVC()\n",
    "\n",
    "#Neigbors\n",
    "knn = KNeighborsClassifier()"
   ]
  },
  {
   "cell_type": "code",
   "execution_count": 270,
   "metadata": {},
   "outputs": [],
   "source": [
    "classifiers = [rfc,ada_boost,bag,extra_trees,grad_boost,svc,knn]"
   ]
  },
  {
   "cell_type": "code",
   "execution_count": 284,
   "metadata": {},
   "outputs": [
    {
     "name": "stdout",
     "output_type": "stream",
     "text": [
      "\n",
      "RandomForestClassifier(bootstrap=True, class_weight=None, criterion='gini',\n",
      "            max_depth=None, max_features='auto', max_leaf_nodes=None,\n",
      "            min_impurity_decrease=0.0, min_impurity_split=None,\n",
      "            min_samples_leaf=1, min_samples_split=2,\n",
      "            min_weight_fraction_leaf=0.0, n_estimators=10, n_jobs=1,\n",
      "            oob_score=False, random_state=None, verbose=0,\n",
      "            warm_start=False):\n",
      "\n",
      "\tTraining Score: 0.9674523007856342 \n",
      "\tCV Scores: 0.8048269208943367\n",
      "\n",
      "AdaBoostClassifier(algorithm='SAMME.R', base_estimator=None,\n",
      "          learning_rate=1.0, n_estimators=50, random_state=None):\n",
      "\n",
      "\tTraining Score: 0.8338945005611672 \n",
      "\tCV Scores: 0.8115687776642833\n",
      "\n",
      "BaggingClassifier(base_estimator=None, bootstrap=True,\n",
      "         bootstrap_features=False, max_features=1.0, max_samples=1.0,\n",
      "         n_estimators=10, n_jobs=1, oob_score=False, random_state=None,\n",
      "         verbose=0, warm_start=False):\n",
      "\n",
      "\tTraining Score: 0.9640852974186308 \n",
      "\tCV Scores: 0.8115821132675066\n",
      "\n",
      "ExtraTreesClassifier(bootstrap=False, class_weight=None, criterion='gini',\n",
      "           max_depth=None, max_features='auto', max_leaf_nodes=None,\n",
      "           min_impurity_decrease=0.0, min_impurity_split=None,\n",
      "           min_samples_leaf=1, min_samples_split=2,\n",
      "           min_weight_fraction_leaf=0.0, n_estimators=10, n_jobs=1,\n",
      "           oob_score=False, random_state=None, verbose=0, warm_start=False):\n",
      "\n",
      "\tTraining Score: 0.9797979797979798 \n",
      "\tCV Scores: 0.7914067642719329\n",
      "\n",
      "GradientBoostingClassifier(criterion='friedman_mse', init=None,\n",
      "              learning_rate=0.1, loss='deviance', max_depth=3,\n",
      "              max_features=None, max_leaf_nodes=None,\n",
      "              min_impurity_decrease=0.0, min_impurity_split=None,\n",
      "              min_samples_leaf=1, min_samples_split=2,\n",
      "              min_weight_fraction_leaf=0.0, n_estimators=100,\n",
      "              presort='auto', random_state=None, subsample=1.0, verbose=0,\n",
      "              warm_start=False):\n",
      "\n",
      "\tTraining Score: 0.8888888888888888 \n",
      "\tCV Scores: 0.8339663488820792\n",
      "\n",
      "SVC(C=1.0, cache_size=200, class_weight=None, coef0=0.0,\n",
      "  decision_function_shape='ovr', degree=3, gamma='auto', kernel='rbf',\n",
      "  max_iter=-1, probability=False, random_state=None, shrinking=True,\n",
      "  tol=0.001, verbose=False):\n",
      "\n",
      "\tTraining Score: 0.8832772166105499 \n",
      "\tCV Scores: 0.707372886165021\n",
      "\n",
      "KNeighborsClassifier(algorithm='auto', leaf_size=30, metric='minkowski',\n",
      "           metric_params=None, n_jobs=1, n_neighbors=5, p=2,\n",
      "           weights='uniform'):\n",
      "\n",
      "\tTraining Score: 0.8069584736251403 \n",
      "\tCV Scores: 0.703965213937124\n",
      "\n",
      "\n",
      "----------------\n",
      "Best estimator:GradientBoostingClassifier(criterion='friedman_mse', init=None,\n",
      "              learning_rate=0.1, loss='deviance', max_depth=3,\n",
      "              max_features=None, max_leaf_nodes=None,\n",
      "              min_impurity_decrease=0.0, min_impurity_split=None,\n",
      "              min_samples_leaf=1, min_samples_split=2,\n",
      "              min_weight_fraction_leaf=0.0, n_estimators=100,\n",
      "              presort='auto', random_state=None, subsample=1.0, verbose=0,\n",
      "              warm_start=False)\n",
      "\n",
      "\tTraining Score: 0.8339663488820792 \n",
      "\tCV Scores: 0.8888888888888888\n"
     ]
    }
   ],
   "source": [
    "highest_score=0\n",
    "best_classifier=\"\"\n",
    "best_classifier_training_score=0\n",
    "\n",
    "for clf in classifiers:\n",
    "    clf.fit(passengers_prepared,passengers_labels)\n",
    "\n",
    "    pred = clf.predict(passengers_prepared)\n",
    "\n",
    "    scores = cross_val_score(clf, passengers_prepared, passengers_labels, cv=10)\n",
    "    \n",
    "    training_score=clf.score(passengers_prepared,passengers_labels)\n",
    "    cv_score_mean = scores.mean()\n",
    "    \n",
    "    if cv_score_mean>highest_score:\n",
    "        highest_score=cv_score_mean\n",
    "        best_classifier=clf\n",
    "        best_classifier_training_score=training_score\n",
    "\n",
    "    print(\"\\n{}:\\n\\n\\tTraining Score: {} \\n\\tCV Scores: {}\".format(clf,training_score,cv_score_mean))\n",
    "    \n",
    "print('\\n\\n----------------\\nBest estimator:{}\\n\\n\\tTraining Score: {} \\n\\tCV Scores: {}'.format(best_classifier,highest_score,best_classifier_training_score))"
   ]
  },
  {
   "cell_type": "markdown",
   "metadata": {},
   "source": [
    "Gradient Boosting Classifier is our best scoring with default values"
   ]
  },
  {
   "cell_type": "code",
   "execution_count": 286,
   "metadata": {},
   "outputs": [
    {
     "data": {
      "text/plain": [
       "GradientBoostingClassifier(criterion='friedman_mse', init=None,\n",
       "              learning_rate=0.1, loss='deviance', max_depth=3,\n",
       "              max_features=None, max_leaf_nodes=None,\n",
       "              min_impurity_decrease=0.0, min_impurity_split=None,\n",
       "              min_samples_leaf=1, min_samples_split=2,\n",
       "              min_weight_fraction_leaf=0.0, n_estimators=100,\n",
       "              presort='auto', random_state=None, subsample=1.0, verbose=0,\n",
       "              warm_start=False)"
      ]
     },
     "execution_count": 286,
     "metadata": {},
     "output_type": "execute_result"
    }
   ],
   "source": [
    "best_classifier"
   ]
  },
  {
   "cell_type": "markdown",
   "metadata": {},
   "source": [
    "---\n",
    "# 6. Fine-tune the system"
   ]
  },
  {
   "cell_type": "code",
   "execution_count": 287,
   "metadata": {
    "collapsed": true
   },
   "outputs": [],
   "source": [
    "from sklearn.model_selection import GridSearchCV"
   ]
  },
  {
   "cell_type": "markdown",
   "metadata": {},
   "source": [
    "#### Round 1"
   ]
  },
  {
   "cell_type": "code",
   "execution_count": 289,
   "metadata": {},
   "outputs": [
    {
     "data": {
      "text/plain": [
       "8"
      ]
     },
     "execution_count": 289,
     "metadata": {},
     "output_type": "execute_result"
    }
   ],
   "source": [
    "#8 total features\n",
    "len(passengers_prepared.columns)"
   ]
  },
  {
   "cell_type": "code",
   "execution_count": 291,
   "metadata": {},
   "outputs": [],
   "source": [
    "param_grid = [\n",
    "    {'max_depth':[1,3,10],'max_features':[2,4,6,8],'min_samples_split':[2,4]}\n",
    "]"
   ]
  },
  {
   "cell_type": "code",
   "execution_count": 299,
   "metadata": {
    "collapsed": true
   },
   "outputs": [],
   "source": [
    "grid_search = GridSearchCV(grad_boost,param_grid,cv=5,verbose=3)"
   ]
  },
  {
   "cell_type": "code",
   "execution_count": 301,
   "metadata": {},
   "outputs": [
    {
     "name": "stdout",
     "output_type": "stream",
     "text": [
      "Fitting 5 folds for each of 24 candidates, totalling 120 fits\n",
      "[CV] max_depth=1, max_features=2, min_samples_split=2 ................\n",
      "[CV]  max_depth=1, max_features=2, min_samples_split=2, score=0.7932960893854749, total=   0.0s\n",
      "[CV] max_depth=1, max_features=2, min_samples_split=2 ................\n",
      "[CV]  max_depth=1, max_features=2, min_samples_split=2, score=0.8212290502793296, total=   0.0s\n",
      "[CV] max_depth=1, max_features=2, min_samples_split=2 ................\n",
      "[CV]  max_depth=1, max_features=2, min_samples_split=2, score=0.797752808988764, total=   0.0s\n",
      "[CV] max_depth=1, max_features=2, min_samples_split=2 ................\n",
      "[CV]  max_depth=1, max_features=2, min_samples_split=2, score=0.7696629213483146, total=   0.0s\n",
      "[CV] max_depth=1, max_features=2, min_samples_split=2 ................\n",
      "[CV]  max_depth=1, max_features=2, min_samples_split=2, score=0.8022598870056498, total=   0.0s\n",
      "[CV] max_depth=1, max_features=2, min_samples_split=4 ................\n",
      "[CV]  max_depth=1, max_features=2, min_samples_split=4, score=0.7877094972067039, total=   0.0s\n",
      "[CV] max_depth=1, max_features=2, min_samples_split=4 ................\n",
      "[CV]  max_depth=1, max_features=2, min_samples_split=4, score=0.8156424581005587, total=   0.0s"
     ]
    },
    {
     "name": "stderr",
     "output_type": "stream",
     "text": [
      "[Parallel(n_jobs=1)]: Done   1 out of   1 | elapsed:    0.0s remaining:    0.0s\n",
      "[Parallel(n_jobs=1)]: Done   2 out of   2 | elapsed:    0.0s remaining:    0.0s\n"
     ]
    },
    {
     "name": "stdout",
     "output_type": "stream",
     "text": [
      "\n",
      "[CV] max_depth=1, max_features=2, min_samples_split=4 ................\n",
      "[CV]  max_depth=1, max_features=2, min_samples_split=4, score=0.7921348314606742, total=   0.0s\n",
      "[CV] max_depth=1, max_features=2, min_samples_split=4 ................\n",
      "[CV]  max_depth=1, max_features=2, min_samples_split=4, score=0.7921348314606742, total=   0.0s\n",
      "[CV] max_depth=1, max_features=2, min_samples_split=4 ................\n",
      "[CV]  max_depth=1, max_features=2, min_samples_split=4, score=0.7966101694915254, total=   0.0s\n",
      "[CV] max_depth=1, max_features=4, min_samples_split=2 ................\n",
      "[CV]  max_depth=1, max_features=4, min_samples_split=2, score=0.7988826815642458, total=   0.0s\n",
      "[CV] max_depth=1, max_features=4, min_samples_split=2 ................\n",
      "[CV]  max_depth=1, max_features=4, min_samples_split=2, score=0.8268156424581006, total=   0.0s\n",
      "[CV] max_depth=1, max_features=4, min_samples_split=2 ................\n",
      "[CV]  max_depth=1, max_features=4, min_samples_split=2, score=0.8033707865168539, total=   0.0s\n",
      "[CV] max_depth=1, max_features=4, min_samples_split=2 ................\n",
      "[CV]  max_depth=1, max_features=4, min_samples_split=2, score=0.7696629213483146, total=   0.0s\n",
      "[CV] max_depth=1, max_features=4, min_samples_split=2 ................\n",
      "[CV]  max_depth=1, max_features=4, min_samples_split=2, score=0.8135593220338984, total=   0.0s\n",
      "[CV] max_depth=1, max_features=4, min_samples_split=4 ................\n",
      "[CV]  max_depth=1, max_features=4, min_samples_split=4, score=0.7988826815642458, total=   0.0s\n",
      "[CV] max_depth=1, max_features=4, min_samples_split=4 ................\n",
      "[CV]  max_depth=1, max_features=4, min_samples_split=4, score=0.8268156424581006, total=   0.0s\n",
      "[CV] max_depth=1, max_features=4, min_samples_split=4 ................\n",
      "[CV]  max_depth=1, max_features=4, min_samples_split=4, score=0.8033707865168539, total=   0.0s\n",
      "[CV] max_depth=1, max_features=4, min_samples_split=4 ................\n",
      "[CV]  max_depth=1, max_features=4, min_samples_split=4, score=0.7696629213483146, total=   0.0s\n",
      "[CV] max_depth=1, max_features=4, min_samples_split=4 ................\n",
      "[CV]  max_depth=1, max_features=4, min_samples_split=4, score=0.8135593220338984, total=   0.0s\n",
      "[CV] max_depth=1, max_features=6, min_samples_split=2 ................\n",
      "[CV]  max_depth=1, max_features=6, min_samples_split=2, score=0.7932960893854749, total=   0.0s\n",
      "[CV] max_depth=1, max_features=6, min_samples_split=2 ................\n",
      "[CV]  max_depth=1, max_features=6, min_samples_split=2, score=0.8268156424581006, total=   0.0s\n",
      "[CV] max_depth=1, max_features=6, min_samples_split=2 ................\n",
      "[CV]  max_depth=1, max_features=6, min_samples_split=2, score=0.8033707865168539, total=   0.0s\n",
      "[CV] max_depth=1, max_features=6, min_samples_split=2 ................\n",
      "[CV]  max_depth=1, max_features=6, min_samples_split=2, score=0.7696629213483146, total=   0.0s\n",
      "[CV] max_depth=1, max_features=6, min_samples_split=2 ................\n",
      "[CV]  max_depth=1, max_features=6, min_samples_split=2, score=0.8135593220338984, total=   0.0s\n",
      "[CV] max_depth=1, max_features=6, min_samples_split=4 ................\n",
      "[CV]  max_depth=1, max_features=6, min_samples_split=4, score=0.7932960893854749, total=   0.0s\n",
      "[CV] max_depth=1, max_features=6, min_samples_split=4 ................\n",
      "[CV]  max_depth=1, max_features=6, min_samples_split=4, score=0.8268156424581006, total=   0.0s\n",
      "[CV] max_depth=1, max_features=6, min_samples_split=4 ................\n",
      "[CV]  max_depth=1, max_features=6, min_samples_split=4, score=0.8033707865168539, total=   0.0s\n",
      "[CV] max_depth=1, max_features=6, min_samples_split=4 ................\n",
      "[CV]  max_depth=1, max_features=6, min_samples_split=4, score=0.7696629213483146, total=   0.0s\n",
      "[CV] max_depth=1, max_features=6, min_samples_split=4 ................\n",
      "[CV]  max_depth=1, max_features=6, min_samples_split=4, score=0.8135593220338984, total=   0.0s\n",
      "[CV] max_depth=1, max_features=8, min_samples_split=2 ................\n",
      "[CV]  max_depth=1, max_features=8, min_samples_split=2, score=0.7988826815642458, total=   0.0s\n",
      "[CV] max_depth=1, max_features=8, min_samples_split=2 ................\n",
      "[CV]  max_depth=1, max_features=8, min_samples_split=2, score=0.8268156424581006, total=   0.0s\n",
      "[CV] max_depth=1, max_features=8, min_samples_split=2 ................\n",
      "[CV]  max_depth=1, max_features=8, min_samples_split=2, score=0.8033707865168539, total=   0.0s\n",
      "[CV] max_depth=1, max_features=8, min_samples_split=2 ................\n",
      "[CV]  max_depth=1, max_features=8, min_samples_split=2, score=0.7696629213483146, total=   0.0s\n",
      "[CV] max_depth=1, max_features=8, min_samples_split=2 ................\n",
      "[CV]  max_depth=1, max_features=8, min_samples_split=2, score=0.8135593220338984, total=   0.0s\n",
      "[CV] max_depth=1, max_features=8, min_samples_split=4 ................\n",
      "[CV]  max_depth=1, max_features=8, min_samples_split=4, score=0.7988826815642458, total=   0.0s\n",
      "[CV] max_depth=1, max_features=8, min_samples_split=4 ................\n",
      "[CV]  max_depth=1, max_features=8, min_samples_split=4, score=0.8268156424581006, total=   0.0s\n",
      "[CV] max_depth=1, max_features=8, min_samples_split=4 ................\n",
      "[CV]  max_depth=1, max_features=8, min_samples_split=4, score=0.8033707865168539, total=   0.0s\n",
      "[CV] max_depth=1, max_features=8, min_samples_split=4 ................\n",
      "[CV]  max_depth=1, max_features=8, min_samples_split=4, score=0.7696629213483146, total=   0.0s\n",
      "[CV] max_depth=1, max_features=8, min_samples_split=4 ................\n",
      "[CV]  max_depth=1, max_features=8, min_samples_split=4, score=0.8135593220338984, total=   0.0s\n",
      "[CV] max_depth=3, max_features=2, min_samples_split=2 ................\n",
      "[CV]  max_depth=3, max_features=2, min_samples_split=2, score=0.7988826815642458, total=   0.0s\n",
      "[CV] max_depth=3, max_features=2, min_samples_split=2 ................\n",
      "[CV]  max_depth=3, max_features=2, min_samples_split=2, score=0.8100558659217877, total=   0.0s\n",
      "[CV] max_depth=3, max_features=2, min_samples_split=2 ................\n",
      "[CV]  max_depth=3, max_features=2, min_samples_split=2, score=0.8258426966292135, total=   0.0s\n",
      "[CV] max_depth=3, max_features=2, min_samples_split=2 ................\n",
      "[CV]  max_depth=3, max_features=2, min_samples_split=2, score=0.797752808988764, total=   0.0s\n",
      "[CV] max_depth=3, max_features=2, min_samples_split=2 ................\n",
      "[CV]  max_depth=3, max_features=2, min_samples_split=2, score=0.8587570621468926, total=   0.0s\n",
      "[CV] max_depth=3, max_features=2, min_samples_split=4 ................\n",
      "[CV]  max_depth=3, max_features=2, min_samples_split=4, score=0.7988826815642458, total=   0.0s\n",
      "[CV] max_depth=3, max_features=2, min_samples_split=4 ................\n",
      "[CV]  max_depth=3, max_features=2, min_samples_split=4, score=0.8379888268156425, total=   0.0s\n",
      "[CV] max_depth=3, max_features=2, min_samples_split=4 ................\n",
      "[CV]  max_depth=3, max_features=2, min_samples_split=4, score=0.8426966292134831, total=   0.0s\n",
      "[CV] max_depth=3, max_features=2, min_samples_split=4 ................\n",
      "[CV]  max_depth=3, max_features=2, min_samples_split=4, score=0.7752808988764045, total=   0.0s\n",
      "[CV] max_depth=3, max_features=2, min_samples_split=4 ................\n",
      "[CV]  max_depth=3, max_features=2, min_samples_split=4, score=0.8587570621468926, total=   0.0s\n",
      "[CV] max_depth=3, max_features=4, min_samples_split=2 ................\n",
      "[CV]  max_depth=3, max_features=4, min_samples_split=2, score=0.7932960893854749, total=   0.0s\n",
      "[CV] max_depth=3, max_features=4, min_samples_split=2 ................\n",
      "[CV]  max_depth=3, max_features=4, min_samples_split=2, score=0.7988826815642458, total=   0.0s\n",
      "[CV] max_depth=3, max_features=4, min_samples_split=2 ................\n",
      "[CV]  max_depth=3, max_features=4, min_samples_split=2, score=0.8426966292134831, total=   0.0s\n",
      "[CV] max_depth=3, max_features=4, min_samples_split=2 ................\n",
      "[CV]  max_depth=3, max_features=4, min_samples_split=2, score=0.7865168539325843, total=   0.0s\n",
      "[CV] max_depth=3, max_features=4, min_samples_split=2 ................\n",
      "[CV]  max_depth=3, max_features=4, min_samples_split=2, score=0.847457627118644, total=   0.0s\n",
      "[CV] max_depth=3, max_features=4, min_samples_split=4 ................\n",
      "[CV]  max_depth=3, max_features=4, min_samples_split=4, score=0.8100558659217877, total=   0.0s\n",
      "[CV] max_depth=3, max_features=4, min_samples_split=4 ................\n"
     ]
    },
    {
     "name": "stdout",
     "output_type": "stream",
     "text": [
      "[CV]  max_depth=3, max_features=4, min_samples_split=4, score=0.8212290502793296, total=   0.0s\n",
      "[CV] max_depth=3, max_features=4, min_samples_split=4 ................\n",
      "[CV]  max_depth=3, max_features=4, min_samples_split=4, score=0.8314606741573034, total=   0.0s\n",
      "[CV] max_depth=3, max_features=4, min_samples_split=4 ................\n",
      "[CV]  max_depth=3, max_features=4, min_samples_split=4, score=0.8033707865168539, total=   0.0s\n",
      "[CV] max_depth=3, max_features=4, min_samples_split=4 ................\n",
      "[CV]  max_depth=3, max_features=4, min_samples_split=4, score=0.8531073446327684, total=   0.0s\n",
      "[CV] max_depth=3, max_features=6, min_samples_split=2 ................\n",
      "[CV]  max_depth=3, max_features=6, min_samples_split=2, score=0.8044692737430168, total=   0.0s\n",
      "[CV] max_depth=3, max_features=6, min_samples_split=2 ................\n",
      "[CV]  max_depth=3, max_features=6, min_samples_split=2, score=0.8100558659217877, total=   0.0s\n",
      "[CV] max_depth=3, max_features=6, min_samples_split=2 ................\n",
      "[CV]  max_depth=3, max_features=6, min_samples_split=2, score=0.848314606741573, total=   0.0s\n",
      "[CV] max_depth=3, max_features=6, min_samples_split=2 ................\n",
      "[CV]  max_depth=3, max_features=6, min_samples_split=2, score=0.8033707865168539, total=   0.0s\n",
      "[CV] max_depth=3, max_features=6, min_samples_split=2 ................\n",
      "[CV]  max_depth=3, max_features=6, min_samples_split=2, score=0.8531073446327684, total=   0.0s\n",
      "[CV] max_depth=3, max_features=6, min_samples_split=4 ................\n",
      "[CV]  max_depth=3, max_features=6, min_samples_split=4, score=0.8100558659217877, total=   0.0s\n",
      "[CV] max_depth=3, max_features=6, min_samples_split=4 ................\n",
      "[CV]  max_depth=3, max_features=6, min_samples_split=4, score=0.8100558659217877, total=   0.0s\n",
      "[CV] max_depth=3, max_features=6, min_samples_split=4 ................\n",
      "[CV]  max_depth=3, max_features=6, min_samples_split=4, score=0.8370786516853933, total=   0.0s\n",
      "[CV] max_depth=3, max_features=6, min_samples_split=4 ................\n",
      "[CV]  max_depth=3, max_features=6, min_samples_split=4, score=0.8089887640449438, total=   0.0s\n",
      "[CV] max_depth=3, max_features=6, min_samples_split=4 ................\n",
      "[CV]  max_depth=3, max_features=6, min_samples_split=4, score=0.847457627118644, total=   0.0s\n",
      "[CV] max_depth=3, max_features=8, min_samples_split=2 ................\n",
      "[CV]  max_depth=3, max_features=8, min_samples_split=2, score=0.8100558659217877, total=   0.0s\n",
      "[CV] max_depth=3, max_features=8, min_samples_split=2 ................\n",
      "[CV]  max_depth=3, max_features=8, min_samples_split=2, score=0.8156424581005587, total=   0.0s\n",
      "[CV] max_depth=3, max_features=8, min_samples_split=2 ................\n",
      "[CV]  max_depth=3, max_features=8, min_samples_split=2, score=0.8314606741573034, total=   0.0s\n",
      "[CV] max_depth=3, max_features=8, min_samples_split=2 ................\n",
      "[CV]  max_depth=3, max_features=8, min_samples_split=2, score=0.8202247191011236, total=   0.0s\n",
      "[CV] max_depth=3, max_features=8, min_samples_split=2 ................\n",
      "[CV]  max_depth=3, max_features=8, min_samples_split=2, score=0.847457627118644, total=   0.0s\n",
      "[CV] max_depth=3, max_features=8, min_samples_split=4 ................\n",
      "[CV]  max_depth=3, max_features=8, min_samples_split=4, score=0.8044692737430168, total=   0.0s\n",
      "[CV] max_depth=3, max_features=8, min_samples_split=4 ................\n",
      "[CV]  max_depth=3, max_features=8, min_samples_split=4, score=0.8212290502793296, total=   0.0s\n",
      "[CV] max_depth=3, max_features=8, min_samples_split=4 ................\n",
      "[CV]  max_depth=3, max_features=8, min_samples_split=4, score=0.848314606741573, total=   0.0s\n",
      "[CV] max_depth=3, max_features=8, min_samples_split=4 ................\n",
      "[CV]  max_depth=3, max_features=8, min_samples_split=4, score=0.8258426966292135, total=   0.0s\n",
      "[CV] max_depth=3, max_features=8, min_samples_split=4 ................\n",
      "[CV]  max_depth=3, max_features=8, min_samples_split=4, score=0.8531073446327684, total=   0.0s\n",
      "[CV] max_depth=10, max_features=2, min_samples_split=2 ...............\n",
      "[CV]  max_depth=10, max_features=2, min_samples_split=2, score=0.7932960893854749, total=   0.4s\n",
      "[CV] max_depth=10, max_features=2, min_samples_split=2 ...............\n",
      "[CV]  max_depth=10, max_features=2, min_samples_split=2, score=0.7877094972067039, total=   0.4s\n",
      "[CV] max_depth=10, max_features=2, min_samples_split=2 ...............\n",
      "[CV]  max_depth=10, max_features=2, min_samples_split=2, score=0.8314606741573034, total=   0.4s\n",
      "[CV] max_depth=10, max_features=2, min_samples_split=2 ...............\n",
      "[CV]  max_depth=10, max_features=2, min_samples_split=2, score=0.7865168539325843, total=   0.4s\n",
      "[CV] max_depth=10, max_features=2, min_samples_split=2 ...............\n",
      "[CV]  max_depth=10, max_features=2, min_samples_split=2, score=0.8248587570621468, total=   0.4s\n",
      "[CV] max_depth=10, max_features=2, min_samples_split=4 ...............\n",
      "[CV]  max_depth=10, max_features=2, min_samples_split=4, score=0.7988826815642458, total=   0.2s\n",
      "[CV] max_depth=10, max_features=2, min_samples_split=4 ...............\n",
      "[CV]  max_depth=10, max_features=2, min_samples_split=4, score=0.8044692737430168, total=   0.2s\n",
      "[CV] max_depth=10, max_features=2, min_samples_split=4 ...............\n",
      "[CV]  max_depth=10, max_features=2, min_samples_split=4, score=0.8202247191011236, total=   0.2s\n",
      "[CV] max_depth=10, max_features=2, min_samples_split=4 ...............\n",
      "[CV]  max_depth=10, max_features=2, min_samples_split=4, score=0.7865168539325843, total=   0.3s\n",
      "[CV] max_depth=10, max_features=2, min_samples_split=4 ...............\n",
      "[CV]  max_depth=10, max_features=2, min_samples_split=4, score=0.8192090395480226, total=   0.2s\n",
      "[CV] max_depth=10, max_features=4, min_samples_split=2 ...............\n",
      "[CV]  max_depth=10, max_features=4, min_samples_split=2, score=0.7877094972067039, total=   0.4s\n",
      "[CV] max_depth=10, max_features=4, min_samples_split=2 ...............\n",
      "[CV]  max_depth=10, max_features=4, min_samples_split=2, score=0.8156424581005587, total=   0.3s\n",
      "[CV] max_depth=10, max_features=4, min_samples_split=2 ...............\n",
      "[CV]  max_depth=10, max_features=4, min_samples_split=2, score=0.8370786516853933, total=   0.3s\n",
      "[CV] max_depth=10, max_features=4, min_samples_split=2 ...............\n",
      "[CV]  max_depth=10, max_features=4, min_samples_split=2, score=0.7640449438202247, total=   0.3s\n",
      "[CV] max_depth=10, max_features=4, min_samples_split=2 ...............\n",
      "[CV]  max_depth=10, max_features=4, min_samples_split=2, score=0.8248587570621468, total=   0.3s\n",
      "[CV] max_depth=10, max_features=4, min_samples_split=4 ...............\n",
      "[CV]  max_depth=10, max_features=4, min_samples_split=4, score=0.7821229050279329, total=   0.2s\n",
      "[CV] max_depth=10, max_features=4, min_samples_split=4 ...............\n",
      "[CV]  max_depth=10, max_features=4, min_samples_split=4, score=0.8100558659217877, total=   0.2s\n",
      "[CV] max_depth=10, max_features=4, min_samples_split=4 ...............\n",
      "[CV]  max_depth=10, max_features=4, min_samples_split=4, score=0.8370786516853933, total=   0.2s\n",
      "[CV] max_depth=10, max_features=4, min_samples_split=4 ...............\n",
      "[CV]  max_depth=10, max_features=4, min_samples_split=4, score=0.7808988764044944, total=   0.2s\n",
      "[CV] max_depth=10, max_features=4, min_samples_split=4 ...............\n",
      "[CV]  max_depth=10, max_features=4, min_samples_split=4, score=0.8248587570621468, total=   0.2s\n",
      "[CV] max_depth=10, max_features=6, min_samples_split=2 ...............\n",
      "[CV]  max_depth=10, max_features=6, min_samples_split=2, score=0.7932960893854749, total=   0.3s\n",
      "[CV] max_depth=10, max_features=6, min_samples_split=2 ...............\n",
      "[CV]  max_depth=10, max_features=6, min_samples_split=2, score=0.8268156424581006, total=   0.3s\n",
      "[CV] max_depth=10, max_features=6, min_samples_split=2 ...............\n",
      "[CV]  max_depth=10, max_features=6, min_samples_split=2, score=0.8314606741573034, total=   0.3s\n",
      "[CV] max_depth=10, max_features=6, min_samples_split=2 ...............\n",
      "[CV]  max_depth=10, max_features=6, min_samples_split=2, score=0.7640449438202247, total=   0.3s\n",
      "[CV] max_depth=10, max_features=6, min_samples_split=2 ...............\n",
      "[CV]  max_depth=10, max_features=6, min_samples_split=2, score=0.8418079096045198, total=   0.3s\n",
      "[CV] max_depth=10, max_features=6, min_samples_split=4 ...............\n"
     ]
    },
    {
     "name": "stdout",
     "output_type": "stream",
     "text": [
      "[CV]  max_depth=10, max_features=6, min_samples_split=4, score=0.7821229050279329, total=   0.2s\n",
      "[CV] max_depth=10, max_features=6, min_samples_split=4 ...............\n",
      "[CV]  max_depth=10, max_features=6, min_samples_split=4, score=0.8268156424581006, total=   0.2s\n",
      "[CV] max_depth=10, max_features=6, min_samples_split=4 ...............\n",
      "[CV]  max_depth=10, max_features=6, min_samples_split=4, score=0.8146067415730337, total=   0.2s\n",
      "[CV] max_depth=10, max_features=6, min_samples_split=4 ...............\n",
      "[CV]  max_depth=10, max_features=6, min_samples_split=4, score=0.7865168539325843, total=   0.2s\n",
      "[CV] max_depth=10, max_features=6, min_samples_split=4 ...............\n",
      "[CV]  max_depth=10, max_features=6, min_samples_split=4, score=0.8192090395480226, total=   0.2s\n",
      "[CV] max_depth=10, max_features=8, min_samples_split=2 ...............\n",
      "[CV]  max_depth=10, max_features=8, min_samples_split=2, score=0.7653631284916201, total=   0.3s\n",
      "[CV] max_depth=10, max_features=8, min_samples_split=2 ...............\n",
      "[CV]  max_depth=10, max_features=8, min_samples_split=2, score=0.8212290502793296, total=   0.2s\n",
      "[CV] max_depth=10, max_features=8, min_samples_split=2 ...............\n",
      "[CV]  max_depth=10, max_features=8, min_samples_split=2, score=0.8539325842696629, total=   0.3s\n",
      "[CV] max_depth=10, max_features=8, min_samples_split=2 ...............\n",
      "[CV]  max_depth=10, max_features=8, min_samples_split=2, score=0.7584269662921348, total=   0.3s\n",
      "[CV] max_depth=10, max_features=8, min_samples_split=2 ...............\n",
      "[CV]  max_depth=10, max_features=8, min_samples_split=2, score=0.8248587570621468, total=   0.3s\n",
      "[CV] max_depth=10, max_features=8, min_samples_split=4 ...............\n",
      "[CV]  max_depth=10, max_features=8, min_samples_split=4, score=0.7430167597765364, total=   0.2s\n",
      "[CV] max_depth=10, max_features=8, min_samples_split=4 ...............\n",
      "[CV]  max_depth=10, max_features=8, min_samples_split=4, score=0.8212290502793296, total=   0.2s\n",
      "[CV] max_depth=10, max_features=8, min_samples_split=4 ...............\n",
      "[CV]  max_depth=10, max_features=8, min_samples_split=4, score=0.8370786516853933, total=   0.2s\n",
      "[CV] max_depth=10, max_features=8, min_samples_split=4 ...............\n",
      "[CV]  max_depth=10, max_features=8, min_samples_split=4, score=0.7752808988764045, total=   0.2s\n",
      "[CV] max_depth=10, max_features=8, min_samples_split=4 ...............\n",
      "[CV]  max_depth=10, max_features=8, min_samples_split=4, score=0.8361581920903954, total=   0.2s\n"
     ]
    },
    {
     "name": "stderr",
     "output_type": "stream",
     "text": [
      "[Parallel(n_jobs=1)]: Done 120 out of 120 | elapsed:   18.3s finished\n"
     ]
    },
    {
     "data": {
      "text/plain": [
       "GridSearchCV(cv=5, error_score='raise',\n",
       "       estimator=GradientBoostingClassifier(criterion='friedman_mse', init=None,\n",
       "              learning_rate=0.1, loss='deviance', max_depth=3,\n",
       "              max_features=None, max_leaf_nodes=None,\n",
       "              min_impurity_decrease=0.0, min_impurity_split=None,\n",
       "              min_samples_leaf=1, min_samples_split=2,\n",
       "              min_weight_fraction_leaf=0.0, n_estimators=100,\n",
       "              presort='auto', random_state=None, subsample=1.0, verbose=0,\n",
       "              warm_start=False),\n",
       "       fit_params=None, iid=True, n_jobs=1,\n",
       "       param_grid=[{'max_depth': [1, 3, 10], 'max_features': [2, 4, 6, 8], 'min_samples_split': [2, 4]}],\n",
       "       pre_dispatch='2*n_jobs', refit=True, return_train_score=True,\n",
       "       scoring=None, verbose=3)"
      ]
     },
     "execution_count": 301,
     "metadata": {},
     "output_type": "execute_result"
    }
   ],
   "source": [
    "grid_search.fit(passengers_prepared,passengers_labels)"
   ]
  },
  {
   "cell_type": "code",
   "execution_count": 302,
   "metadata": {
    "collapsed": true
   },
   "outputs": [],
   "source": [
    "#from sklearn.model_selection import RandomizedSearchCV\n",
    "#rand_search = RandomizedSearchCV(grad_boost,param_grid,cv=5)\n",
    "#rand_search.fit(passengers_prepared,passengers_labels)"
   ]
  },
  {
   "cell_type": "code",
   "execution_count": 303,
   "metadata": {},
   "outputs": [
    {
     "data": {
      "text/plain": [
       "{'max_depth': 3, 'max_features': 8, 'min_samples_split': 4}"
      ]
     },
     "execution_count": 303,
     "metadata": {},
     "output_type": "execute_result"
    }
   ],
   "source": [
    "grid_search.best_params_"
   ]
  },
  {
   "cell_type": "code",
   "execution_count": 304,
   "metadata": {},
   "outputs": [
    {
     "data": {
      "text/plain": [
       "0.83052749719416386"
      ]
     },
     "execution_count": 304,
     "metadata": {},
     "output_type": "execute_result"
    }
   ],
   "source": [
    "grid_search.best_score_"
   ]
  },
  {
   "cell_type": "code",
   "execution_count": 306,
   "metadata": {},
   "outputs": [
    {
     "data": {
      "text/plain": [
       "array([ 0.05750185,  0.32313836,  0.04165673,  0.01425025,  0.3984754 ,\n",
       "        0.13179281,  0.00427073,  0.02891387])"
      ]
     },
     "execution_count": 306,
     "metadata": {},
     "output_type": "execute_result"
    }
   ],
   "source": [
    "feature_importances = grid_search.best_estimator_.feature_importances_\n",
    "feature_importances"
   ]
  },
  {
   "cell_type": "code",
   "execution_count": 307,
   "metadata": {},
   "outputs": [
    {
     "data": {
      "text/plain": [
       "[(0.39847540381000562, 'Fare'),\n",
       " (0.32313836001089585, 'Age'),\n",
       " (0.13179280605732163, 'Sex_Encoded'),\n",
       " (0.057501849179834794, 'Pclass'),\n",
       " (0.041656729261218148, 'SibSp'),\n",
       " (0.028913870228815006, 'Q'),\n",
       " (0.014250250476022921, 'Parch'),\n",
       " (0.0042707309758859054, 'C')]"
      ]
     },
     "execution_count": 307,
     "metadata": {},
     "output_type": "execute_result"
    }
   ],
   "source": [
    "sorted(zip(feature_importances,passengers_prepared.columns),reverse=True)"
   ]
  },
  {
   "cell_type": "code",
   "execution_count": 345,
   "metadata": {
    "collapsed": true
   },
   "outputs": [],
   "source": [
    "from sklearn.externals import joblib"
   ]
  },
  {
   "cell_type": "code",
   "execution_count": 346,
   "metadata": {},
   "outputs": [
    {
     "data": {
      "text/plain": [
       "['Gradient Boosting 1.pkl']"
      ]
     },
     "execution_count": 346,
     "metadata": {},
     "output_type": "execute_result"
    }
   ],
   "source": [
    "joblib.dump(grid_search.best_estimator_, \"Gradient Boosting 1.pkl\")"
   ]
  },
  {
   "cell_type": "markdown",
   "metadata": {},
   "source": [
    "Our current model sees fare, age, and sex as the most important attributes."
   ]
  },
  {
   "cell_type": "markdown",
   "metadata": {},
   "source": [
    "#### Round 2 - remove less related features and min_samples_split"
   ]
  },
  {
   "cell_type": "code",
   "execution_count": 366,
   "metadata": {},
   "outputs": [
    {
     "data": {
      "text/plain": [
       "['Pclass', 'Age', 'SibSp', 'Parch', 'Fare', 'Sex_Encoded', 'C', 'Q']"
      ]
     },
     "execution_count": 366,
     "metadata": {},
     "output_type": "execute_result"
    }
   ],
   "source": [
    "features"
   ]
  },
  {
   "cell_type": "code",
   "execution_count": 365,
   "metadata": {},
   "outputs": [
    {
     "data": {
      "text/plain": [
       "['Pclass', 'Age', 'SibSp', 'Fare', 'Sex_Encoded']"
      ]
     },
     "execution_count": 365,
     "metadata": {},
     "output_type": "execute_result"
    }
   ],
   "source": [
    "limited_features = features.copy()\n",
    "\n",
    "for feature in ['C','Q','Parch']:\n",
    "    limited_features.remove(feature)\n",
    "    \n",
    "limited_features"
   ]
  },
  {
   "cell_type": "code",
   "execution_count": 382,
   "metadata": {
    "collapsed": true
   },
   "outputs": [],
   "source": [
    "passengers_prepared = passengers_encoded[limited_features]"
   ]
  },
  {
   "cell_type": "code",
   "execution_count": 369,
   "metadata": {},
   "outputs": [
    {
     "data": {
      "text/plain": [
       "[{'max_depth': [1, 3, 10],\n",
       "  'max_features': [2, 4, 6, 8],\n",
       "  'min_samples_split': [2, 4]}]"
      ]
     },
     "execution_count": 369,
     "metadata": {},
     "output_type": "execute_result"
    }
   ],
   "source": [
    "#Old model param_grid\n",
    "grid_search.param_grid"
   ]
  },
  {
   "cell_type": "code",
   "execution_count": 368,
   "metadata": {},
   "outputs": [
    {
     "data": {
      "text/plain": [
       "{'max_depth': 3, 'max_features': 8, 'min_samples_split': 4}"
      ]
     },
     "execution_count": 368,
     "metadata": {},
     "output_type": "execute_result"
    }
   ],
   "source": [
    "grid_search.best_params_"
   ]
  },
  {
   "cell_type": "code",
   "execution_count": 383,
   "metadata": {
    "collapsed": true
   },
   "outputs": [],
   "source": [
    "param_grid = [\n",
    "    {'max_depth':[3],'min_samples_split':[4,10,20,30,40,50,60,100]}\n",
    "]"
   ]
  },
  {
   "cell_type": "code",
   "execution_count": 384,
   "metadata": {},
   "outputs": [
    {
     "name": "stdout",
     "output_type": "stream",
     "text": [
      "Fitting 5 folds for each of 8 candidates, totalling 40 fits\n"
     ]
    },
    {
     "name": "stderr",
     "output_type": "stream",
     "text": [
      "[Parallel(n_jobs=1)]: Done  40 out of  40 | elapsed:    1.7s finished\n"
     ]
    },
    {
     "data": {
      "text/plain": [
       "GridSearchCV(cv=5, error_score='raise',\n",
       "       estimator=GradientBoostingClassifier(criterion='friedman_mse', init=None,\n",
       "              learning_rate=0.1, loss='deviance', max_depth=3,\n",
       "              max_features=None, max_leaf_nodes=None,\n",
       "              min_impurity_decrease=0.0, min_impurity_split=None,\n",
       "              min_samples_leaf=1, min_samples_split=2,\n",
       "              min_weight_fraction_leaf=0.0, n_estimators=100,\n",
       "              presort='auto', random_state=None, subsample=1.0, verbose=0,\n",
       "              warm_start=False),\n",
       "       fit_params=None, iid=True, n_jobs=1,\n",
       "       param_grid=[{'max_depth': [3], 'min_samples_split': [4, 10, 20, 30, 40, 50, 60, 100]}],\n",
       "       pre_dispatch='2*n_jobs', refit=True, return_train_score=True,\n",
       "       scoring=None, verbose=1)"
      ]
     },
     "execution_count": 384,
     "metadata": {},
     "output_type": "execute_result"
    }
   ],
   "source": [
    "grid_search = GridSearchCV(grad_boost,param_grid,cv=5,verbose=1)\n",
    "grid_search.fit(passengers_prepared,passengers_labels)"
   ]
  },
  {
   "cell_type": "code",
   "execution_count": 385,
   "metadata": {},
   "outputs": [
    {
     "data": {
      "text/plain": [
       "{'max_depth': 3, 'min_samples_split': 20}"
      ]
     },
     "execution_count": 385,
     "metadata": {},
     "output_type": "execute_result"
    }
   ],
   "source": [
    "grid_search.best_params_"
   ]
  },
  {
   "cell_type": "code",
   "execution_count": 386,
   "metadata": {},
   "outputs": [
    {
     "data": {
      "text/plain": [
       "0.8271604938271605"
      ]
     },
     "execution_count": 386,
     "metadata": {},
     "output_type": "execute_result"
    }
   ],
   "source": [
    "grid_search.best_score_"
   ]
  },
  {
   "cell_type": "markdown",
   "metadata": {},
   "source": [
    "Lower score, but I think we may be overfitting less."
   ]
  },
  {
   "cell_type": "markdown",
   "metadata": {},
   "source": [
    "*min_samples_split = 20*"
   ]
  },
  {
   "cell_type": "markdown",
   "metadata": {},
   "source": [
    "#### Round 3 - Max depth"
   ]
  },
  {
   "cell_type": "code",
   "execution_count": 395,
   "metadata": {
    "collapsed": true
   },
   "outputs": [],
   "source": [
    "param_grid = [\n",
    "    {'max_depth':[1,2,3,4,5,6],'min_samples_split':[20]}\n",
    "]"
   ]
  },
  {
   "cell_type": "code",
   "execution_count": 396,
   "metadata": {},
   "outputs": [
    {
     "name": "stdout",
     "output_type": "stream",
     "text": [
      "Fitting 5 folds for each of 6 candidates, totalling 30 fits\n"
     ]
    },
    {
     "name": "stderr",
     "output_type": "stream",
     "text": [
      "[Parallel(n_jobs=1)]: Done  30 out of  30 | elapsed:    1.5s finished\n"
     ]
    },
    {
     "data": {
      "text/plain": [
       "GridSearchCV(cv=5, error_score='raise',\n",
       "       estimator=GradientBoostingClassifier(criterion='friedman_mse', init=None,\n",
       "              learning_rate=0.1, loss='deviance', max_depth=3,\n",
       "              max_features=None, max_leaf_nodes=None,\n",
       "              min_impurity_decrease=0.0, min_impurity_split=None,\n",
       "              min_samples_leaf=1, min_samples_split=2,\n",
       "              min_weight_fraction_leaf=0.0, n_estimators=100,\n",
       "              presort='auto', random_state=None, subsample=1.0, verbose=0,\n",
       "              warm_start=False),\n",
       "       fit_params=None, iid=True, n_jobs=1,\n",
       "       param_grid=[{'max_depth': [1, 2, 3, 4, 5, 6], 'min_samples_split': [20]}],\n",
       "       pre_dispatch='2*n_jobs', refit=True, return_train_score=True,\n",
       "       scoring=None, verbose=1)"
      ]
     },
     "execution_count": 396,
     "metadata": {},
     "output_type": "execute_result"
    }
   ],
   "source": [
    "grid_search = GridSearchCV(grad_boost,param_grid,cv=5,verbose=1)\n",
    "grid_search.fit(passengers_prepared,passengers_labels)"
   ]
  },
  {
   "cell_type": "code",
   "execution_count": 397,
   "metadata": {},
   "outputs": [
    {
     "data": {
      "text/plain": [
       "{'max_depth': 5, 'min_samples_split': 20}"
      ]
     },
     "execution_count": 397,
     "metadata": {},
     "output_type": "execute_result"
    }
   ],
   "source": [
    "grid_search.best_params_"
   ]
  },
  {
   "cell_type": "code",
   "execution_count": 399,
   "metadata": {},
   "outputs": [
    {
     "data": {
      "text/plain": [
       "0.83389450056116721"
      ]
     },
     "execution_count": 399,
     "metadata": {},
     "output_type": "execute_result"
    }
   ],
   "source": [
    "grid_search.best_score_"
   ]
  },
  {
   "cell_type": "markdown",
   "metadata": {},
   "source": [
    "*max_depth = 5*"
   ]
  },
  {
   "cell_type": "markdown",
   "metadata": {},
   "source": [
    "#### Round 4 - Learning Rate"
   ]
  },
  {
   "cell_type": "code",
   "execution_count": 405,
   "metadata": {},
   "outputs": [
    {
     "data": {
      "text/plain": [
       "{'learning_rate': 0.1, 'max_depth': 5, 'min_samples_split': 20}"
      ]
     },
     "execution_count": 405,
     "metadata": {},
     "output_type": "execute_result"
    }
   ],
   "source": [
    "param_grid = [\n",
    "    {'max_depth':[5],'min_samples_split':[20],'learning_rate':[0.2,0.1,0.01,0.001]}\n",
    "]\n",
    "\n",
    "grid_search = GridSearchCV(grad_boost,param_grid,cv=5,verbose=0)\n",
    "grid_search.fit(passengers_prepared,passengers_labels)\n",
    "\n",
    "grid_search.best_params_"
   ]
  },
  {
   "cell_type": "markdown",
   "metadata": {},
   "source": [
    "*learning_rate = 0.1 * (default)"
   ]
  },
  {
   "cell_type": "markdown",
   "metadata": {},
   "source": [
    "#### Round 5 - min_samples_leaf"
   ]
  },
  {
   "cell_type": "code",
   "execution_count": 408,
   "metadata": {},
   "outputs": [
    {
     "data": {
      "text/plain": [
       "{'max_depth': 5, 'min_samples_leaf': 50, 'min_samples_split': 20}"
      ]
     },
     "execution_count": 408,
     "metadata": {},
     "output_type": "execute_result"
    }
   ],
   "source": [
    "param_grid = [\n",
    "    {'max_depth':[5],'min_samples_split':[20],'min_samples_leaf':[1,20,30,40,50,60,70,80,100]}\n",
    "]\n",
    "\n",
    "grid_search = GridSearchCV(grad_boost,param_grid,cv=5,verbose=0)\n",
    "grid_search.fit(passengers_prepared,passengers_labels)\n",
    "\n",
    "grid_search.best_params_"
   ]
  },
  {
   "cell_type": "code",
   "execution_count": 419,
   "metadata": {},
   "outputs": [
    {
     "data": {
      "text/plain": [
       "0.84175084175084181"
      ]
     },
     "execution_count": 419,
     "metadata": {},
     "output_type": "execute_result"
    }
   ],
   "source": [
    "grid_search.best_score_"
   ]
  },
  {
   "cell_type": "markdown",
   "metadata": {},
   "source": [
    "*min_samples_leaf = 50*"
   ]
  },
  {
   "cell_type": "markdown",
   "metadata": {},
   "source": [
    "#### Round 6 - All parameters exploration"
   ]
  },
  {
   "cell_type": "code",
   "execution_count": 420,
   "metadata": {},
   "outputs": [
    {
     "data": {
      "text/plain": [
       "{'max_depth': 5, 'min_samples_leaf': 50, 'min_samples_split': 15}"
      ]
     },
     "execution_count": 420,
     "metadata": {},
     "output_type": "execute_result"
    }
   ],
   "source": [
    "param_grid = [\n",
    "    {'max_depth':[3,4,5],'min_samples_split':[15,20,25],'min_samples_leaf':[40,50,60]}\n",
    "]\n",
    "\n",
    "grid_search = GridSearchCV(grad_boost,param_grid,cv=5,verbose=0)\n",
    "grid_search.fit(passengers_prepared,passengers_labels)\n",
    "\n",
    "grid_search.best_params_"
   ]
  },
  {
   "cell_type": "code",
   "execution_count": 418,
   "metadata": {},
   "outputs": [
    {
     "data": {
      "text/plain": [
       "0.84175084175084181"
      ]
     },
     "execution_count": 418,
     "metadata": {},
     "output_type": "execute_result"
    }
   ],
   "source": [
    "grid_search.best_score_"
   ]
  },
  {
   "cell_type": "markdown",
   "metadata": {},
   "source": [
    "#### Save final model"
   ]
  },
  {
   "cell_type": "code",
   "execution_count": 443,
   "metadata": {
    "collapsed": true
   },
   "outputs": [],
   "source": [
    "final_grad_boost_model = grid_search.best_estimator_"
   ]
  },
  {
   "cell_type": "markdown",
   "metadata": {},
   "source": [
    "## Alternative method - XGB"
   ]
  },
  {
   "cell_type": "code",
   "execution_count": 430,
   "metadata": {
    "collapsed": true
   },
   "outputs": [],
   "source": [
    "import xgboost as xgb"
   ]
  },
  {
   "cell_type": "code",
   "execution_count": 432,
   "metadata": {
    "collapsed": true
   },
   "outputs": [],
   "source": [
    "xg = xgb.XGBClassifier()"
   ]
  },
  {
   "cell_type": "code",
   "execution_count": 435,
   "metadata": {},
   "outputs": [
    {
     "data": {
      "text/plain": [
       "XGBClassifier(base_score=0.5, booster='gbtree', colsample_bylevel=1,\n",
       "       colsample_bytree=1, gamma=0, learning_rate=0.1, max_delta_step=0,\n",
       "       max_depth=3, min_child_weight=1, missing=None, n_estimators=100,\n",
       "       n_jobs=1, nthread=None, objective='binary:logistic', random_state=0,\n",
       "       reg_alpha=0, reg_lambda=1, scale_pos_weight=1, seed=None,\n",
       "       silent=True, subsample=1)"
      ]
     },
     "execution_count": 435,
     "metadata": {},
     "output_type": "execute_result"
    }
   ],
   "source": [
    "xg.fit(passengers_prepared,passengers_labels)"
   ]
  },
  {
   "cell_type": "code",
   "execution_count": 437,
   "metadata": {},
   "outputs": [
    {
     "data": {
      "text/plain": [
       "0.87317620650953987"
      ]
     },
     "execution_count": 437,
     "metadata": {},
     "output_type": "execute_result"
    }
   ],
   "source": [
    "xg.score(passengers_prepared,passengers_labels)"
   ]
  },
  {
   "cell_type": "code",
   "execution_count": 439,
   "metadata": {},
   "outputs": [],
   "source": [
    "pred = xg.predict(test_prepared[limited_features])"
   ]
  },
  {
   "cell_type": "code",
   "execution_count": null,
   "metadata": {
    "collapsed": true
   },
   "outputs": [],
   "source": []
  },
  {
   "cell_type": "markdown",
   "metadata": {},
   "source": [
    "#### Round 1"
   ]
  },
  {
   "cell_type": "code",
   "execution_count": 482,
   "metadata": {
    "collapsed": true
   },
   "outputs": [],
   "source": [
    "max_depth = [2,3,4,5]\n",
    "learning_rate = [0.3,0.2,0.1,0.01]"
   ]
  },
  {
   "cell_type": "code",
   "execution_count": 483,
   "metadata": {},
   "outputs": [
    {
     "data": {
      "text/plain": [
       "{'learning_rate': 0.3, 'max_depth': 2}"
      ]
     },
     "execution_count": 483,
     "metadata": {},
     "output_type": "execute_result"
    }
   ],
   "source": [
    "param_grid=[{'max_depth':max_depth,'learning_rate':learning_rate}]\n",
    "\n",
    "grid_search = GridSearchCV(xg,param_grid,cv=10,verbose=0)\n",
    "grid_search.fit(passengers_prepared,passengers_labels)\n",
    "\n",
    "grid_search.best_params_"
   ]
  },
  {
   "cell_type": "code",
   "execution_count": 457,
   "metadata": {},
   "outputs": [
    {
     "data": {
      "text/plain": [
       "0.83838383838383834"
      ]
     },
     "execution_count": 457,
     "metadata": {},
     "output_type": "execute_result"
    }
   ],
   "source": [
    "grid_search.best_score_"
   ]
  },
  {
   "cell_type": "code",
   "execution_count": 464,
   "metadata": {},
   "outputs": [
    {
     "data": {
      "text/plain": [
       "0.88215488215488214"
      ]
     },
     "execution_count": 464,
     "metadata": {},
     "output_type": "execute_result"
    }
   ],
   "source": [
    "grid_search.best_estimator_.score(passengers_prepared,passengers_labels)"
   ]
  },
  {
   "cell_type": "code",
   "execution_count": 475,
   "metadata": {
    "collapsed": true
   },
   "outputs": [],
   "source": [
    "def plot_grid_search(cv_results, grid_param_1, grid_param_2, name_param_1, name_param_2):\n",
    "\n",
    "    # Get Test Scores Mean and std for each grid search\n",
    "    scores_mean = cv_results['mean_test_score']\n",
    "    scores_mean = np.array(scores_mean).reshape(len(grid_param_2),len(grid_param_1))\n",
    "\n",
    "    scores_sd = cv_results['std_test_score']\n",
    "    scores_sd = np.array(scores_sd).reshape(len(grid_param_2),len(grid_param_1))\n",
    "\n",
    "    # Plot Grid search scores\n",
    "    _, ax = plt.subplots(1,1)\n",
    "\n",
    "    # Param1 is the X-axis, Param 2 is represented as a different curve (color line)\n",
    "    for idx, val in enumerate(grid_param_2):\n",
    "        ax.plot(grid_param_1, scores_mean[idx,:], '-o', label= name_param_2 + ': ' + str(val))\n",
    "\n",
    "    ax.set_title(\"Grid Search Scores\", fontsize=20, fontweight='bold')\n",
    "    ax.set_xlabel(name_param_1, fontsize=16)\n",
    "    ax.set_ylabel('CV Average Score', fontsize=16)\n",
    "    ax.legend(loc=\"best\", fontsize=15)\n",
    "    ax.grid('on')"
   ]
  },
  {
   "cell_type": "code",
   "execution_count": 484,
   "metadata": {},
   "outputs": [
    {
     "data": {
      "image/png": "[encoded data removed]",
      "text/plain": [
       "<matplotlib.figure.Figure at 0x1dea3b6c0f0>"
      ]
     },
     "metadata": {},
     "output_type": "display_data"
    }
   ],
   "source": [
    "# Calling Method \n",
    "plot_grid_search(grid_search.cv_results_, max_depth, learning_rate, 'Max Depth', 'Learning Rate')"
   ]
  },
  {
   "cell_type": "code",
   "execution_count": 485,
   "metadata": {},
   "outputs": [
    {
     "data": {
      "text/plain": [
       "{'learning_rate': 0.3, 'max_depth': 2}"
      ]
     },
     "execution_count": 485,
     "metadata": {},
     "output_type": "execute_result"
    }
   ],
   "source": [
    "grid_search.best_params_"
   ]
  },
  {
   "cell_type": "markdown",
   "metadata": {},
   "source": [
    "#### Round 2"
   ]
  },
  {
   "cell_type": "code",
   "execution_count": 488,
   "metadata": {},
   "outputs": [
    {
     "data": {
      "text/plain": [
       "<bound method XGBModel.get_params of XGBClassifier(base_score=0.5, booster='gbtree', colsample_bylevel=1,\n",
       "       colsample_bytree=1, gamma=0, learning_rate=0.1, max_delta_step=0,\n",
       "       max_depth=3, min_child_weight=1, missing=None, n_estimators=100,\n",
       "       n_jobs=1, nthread=None, objective='binary:logistic', random_state=0,\n",
       "       reg_alpha=0, reg_lambda=1, scale_pos_weight=1, seed=None,\n",
       "       silent=True, subsample=1)>"
      ]
     },
     "execution_count": 488,
     "metadata": {},
     "output_type": "execute_result"
    }
   ],
   "source": [
    "xg.get_params"
   ]
  },
  {
   "cell_type": "code",
   "execution_count": null,
   "metadata": {
    "collapsed": true
   },
   "outputs": [],
   "source": []
  },
  {
   "cell_type": "code",
   "execution_count": 498,
   "metadata": {},
   "outputs": [
    {
     "data": {
      "text/plain": [
       "dict_keys(['base_score', 'booster', 'colsample_bylevel', 'colsample_bytree', 'gamma', 'learning_rate', 'max_delta_step', 'max_depth', 'min_child_weight', 'missing', 'n_estimators', 'n_jobs', 'nthread', 'objective', 'random_state', 'reg_alpha', 'reg_lambda', 'scale_pos_weight', 'seed', 'silent', 'subsample'])"
      ]
     },
     "execution_count": 498,
     "metadata": {},
     "output_type": "execute_result"
    }
   ],
   "source": [
    "xg.get_params().keys()"
   ]
  },
  {
   "cell_type": "code",
   "execution_count": 526,
   "metadata": {},
   "outputs": [
    {
     "data": {
      "text/plain": [
       "{'base_score': 0.99, 'learning_rate': 0.1, 'max_depth': 5}"
      ]
     },
     "execution_count": 526,
     "metadata": {},
     "output_type": "execute_result"
    }
   ],
   "source": [
    "max_depth = [2,3,4,5]\n",
    "learning_rate = [0.3,0.2,0.1,0.01]\n",
    "base_score = [0.8,0.9,.95,.99]#[0.1,0.2,0.4,0.5,0.6,0.8,0.9]\n",
    "\n",
    "param_grid=[{'max_depth':max_depth,'learning_rate':learning_rate,'base_score':base_score}]\n",
    "\n",
    "grid_search = GridSearchCV(xg,param_grid,cv=10,verbose=0)\n",
    "grid_search.fit(passengers_prepared,passengers_labels)\n",
    "\n",
    "grid_search.best_params_"
   ]
  },
  {
   "cell_type": "code",
   "execution_count": 527,
   "metadata": {},
   "outputs": [
    {
     "data": {
      "text/plain": [
       "0.83838383838383834"
      ]
     },
     "execution_count": 527,
     "metadata": {},
     "output_type": "execute_result"
    }
   ],
   "source": [
    "grid_search.best_score_"
   ]
  },
  {
   "cell_type": "code",
   "execution_count": 524,
   "metadata": {},
   "outputs": [
    {
     "data": {
      "text/plain": [
       "{'base_score': 0.9, 'learning_rate': 0.3, 'max_depth': 2, 'n_estimators': 100}"
      ]
     },
     "execution_count": 524,
     "metadata": {},
     "output_type": "execute_result"
    }
   ],
   "source": [
    "max_depth = [2]\n",
    "learning_rate = [0.3]\n",
    "base_score = [0.9]#[0.1,0.2,0.4,0.5,0.6,0.8,0.9]\n",
    "n_estimators = [100]#,200,300]\n",
    "\n",
    "\n",
    "param_grid=[{'max_depth':max_depth,'learning_rate':learning_rate,'base_score':base_score,'n_estimators':n_estimators}]\n",
    "\n",
    "grid_search = GridSearchCV(xg,param_grid,cv=10,verbose=0)\n",
    "grid_search.fit(passengers_prepared,passengers_labels)\n",
    "\n",
    "grid_search.best_params_"
   ]
  },
  {
   "cell_type": "code",
   "execution_count": 525,
   "metadata": {},
   "outputs": [
    {
     "data": {
      "text/plain": [
       "0.83164983164983164"
      ]
     },
     "execution_count": 525,
     "metadata": {},
     "output_type": "execute_result"
    }
   ],
   "source": [
    "grid_search.best_score_"
   ]
  },
  {
   "cell_type": "code",
   "execution_count": 540,
   "metadata": {
    "collapsed": true
   },
   "outputs": [],
   "source": [
    "parameters = grid_search.best_params_"
   ]
  },
  {
   "cell_type": "markdown",
   "metadata": {},
   "source": [
    "#### Save final model"
   ]
  },
  {
   "cell_type": "code",
   "execution_count": 528,
   "metadata": {
    "collapsed": true
   },
   "outputs": [],
   "source": [
    "final_xg_model = grid_search.best_estimator_"
   ]
  },
  {
   "cell_type": "markdown",
   "metadata": {},
   "source": [
    "#### XGBoost training"
   ]
  },
  {
   "cell_type": "code",
   "execution_count": 536,
   "metadata": {
    "collapsed": true
   },
   "outputs": [],
   "source": [
    "from sklearn.model_selection import train_test_split"
   ]
  },
  {
   "cell_type": "code",
   "execution_count": 538,
   "metadata": {},
   "outputs": [],
   "source": [
    "X_train, X_test, y_train, y_test = train_test_split(passengers_prepared.values,passengers_labels, test_size=0.2, random_state=42)\n",
    "\n",
    "dtrain = xgb.DMatrix(X_train,label=y_train)\n",
    "dtest = xgb.DMatrix(X_test,label=y_test)\n",
    "\n",
    "watchlist = [(dtrain,'dtrain'),(dtest,'dtest')]"
   ]
  },
  {
   "cell_type": "code",
   "execution_count": 543,
   "metadata": {},
   "outputs": [
    {
     "name": "stdout",
     "output_type": "stream",
     "text": [
      "[0]\tdtrain-rmse:0.71916\tdtest-rmse:0.700428\n",
      "Multiple eval metrics have been passed: 'dtest-rmse' will be used for early stopping.\n",
      "\n",
      "Will train until dtest-rmse hasn't improved in 40 rounds.\n",
      "[10]\tdtrain-rmse:0.392591\tdtest-rmse:0.417726\n",
      "[20]\tdtrain-rmse:0.313612\tdtest-rmse:0.372436\n",
      "[30]\tdtrain-rmse:0.291004\tdtest-rmse:0.367908\n",
      "[40]\tdtrain-rmse:0.280168\tdtest-rmse:0.365738\n",
      "[50]\tdtrain-rmse:0.270538\tdtest-rmse:0.365322\n",
      "[60]\tdtrain-rmse:0.259297\tdtest-rmse:0.364712\n",
      "[70]\tdtrain-rmse:0.252602\tdtest-rmse:0.365676\n",
      "[80]\tdtrain-rmse:0.2447\tdtest-rmse:0.367416\n",
      "[90]\tdtrain-rmse:0.237329\tdtest-rmse:0.368228\n",
      "Stopping. Best iteration:\n",
      "[54]\tdtrain-rmse:0.266011\tdtest-rmse:0.363003\n",
      "\n"
     ]
    }
   ],
   "source": [
    "xgbr = xgb.train(params=parameters,\n",
    "                 dtrain=dtrain,\n",
    "                 num_boost_round=200,\n",
    "                 evals=watchlist,\n",
    "                 early_stopping_rounds=40,\n",
    "                 maximize=False,\n",
    "                verbose_eval=10)"
   ]
  },
  {
   "cell_type": "code",
   "execution_count": 544,
   "metadata": {},
   "outputs": [
    {
     "data": {
      "text/plain": [
       "0.363003"
      ]
     },
     "execution_count": 544,
     "metadata": {},
     "output_type": "execute_result"
    }
   ],
   "source": [
    "xgbr.best_score"
   ]
  },
  {
   "cell_type": "code",
   "execution_count": 547,
   "metadata": {},
   "outputs": [],
   "source": [
    "dfinal = xgb.DMatrix(test_prepared.values)"
   ]
  },
  {
   "cell_type": "code",
   "execution_count": 583,
   "metadata": {},
   "outputs": [],
   "source": [
    "pred = xgbr.predict(dfinal)"
   ]
  },
  {
   "cell_type": "code",
   "execution_count": 588,
   "metadata": {},
   "outputs": [],
   "source": [
    "pred=np.round(pred).astype(int)"
   ]
  },
  {
   "cell_type": "markdown",
   "metadata": {},
   "source": [
    "---\n",
    "# 7. Present your solution"
   ]
  },
  {
   "cell_type": "markdown",
   "metadata": {},
   "source": [
    "We used Gradient boosted trees on all of the features which were applicable.\n",
    "\n",
    "We imputed median values for missing numeric values and the most common value for port of departure.\n",
    "\n",
    "We used a limited grid search to hyper tune parameters.\n",
    "\n",
    "To improve the model, the further fine-typing could be preformed or xgboost could be experimented with.\n",
    "\n",
    "For personal improvement, I need to work on the pipeline and learn how to transform the test data with the pipeline."
   ]
  },
  {
   "cell_type": "markdown",
   "metadata": {},
   "source": [
    "# 8 Launch"
   ]
  },
  {
   "cell_type": "code",
   "execution_count": 549,
   "metadata": {
    "collapsed": true
   },
   "outputs": [],
   "source": [
    "final_model = final_xg_model #final_grad_boost_model"
   ]
  },
  {
   "cell_type": "code",
   "execution_count": 552,
   "metadata": {},
   "outputs": [],
   "source": [
    "pred = final_model.predict(test_prepared)"
   ]
  },
  {
   "cell_type": "code",
   "execution_count": 589,
   "metadata": {
    "collapsed": true
   },
   "outputs": [],
   "source": [
    "pred_df = pd.DataFrame(pred,columns=['Survived'])\n",
    "ids_df = pd.DataFrame(test['PassengerId'],columns=['PassengerId'])"
   ]
  },
  {
   "cell_type": "code",
   "execution_count": 590,
   "metadata": {},
   "outputs": [],
   "source": [
    "sub_df = ids_df.merge(pred_df,left_index=True,right_index=True)"
   ]
  },
  {
   "cell_type": "code",
   "execution_count": 591,
   "metadata": {
    "collapsed": true
   },
   "outputs": [],
   "source": [
    "sub_df.to_csv('XGBoost with training.csv',index=False)"
   ]
  },
  {
   "cell_type": "code",
   "execution_count": null,
   "metadata": {
    "collapsed": true
   },
   "outputs": [],
   "source": []
  }
 ],
 "metadata": {
  "kernelspec": {
   "display_name": "Python 3",
   "language": "python",
   "name": "python3"
  },
  "language_info": {
   "codemirror_mode": {
    "name": "ipython",
    "version": 3
   },
   "file_extension": ".py",
   "mimetype": "text/x-python",
   "name": "python",
   "nbconvert_exporter": "python",
   "pygments_lexer": "ipython3",
   "version": "3.6.1"
  }
 },
 "nbformat": 4,
 "nbformat_minor": 2
}
