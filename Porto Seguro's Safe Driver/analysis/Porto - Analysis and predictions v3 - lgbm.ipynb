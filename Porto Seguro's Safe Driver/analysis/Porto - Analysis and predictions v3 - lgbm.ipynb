{
 "cells": [
  {
   "cell_type": "markdown",
   "metadata": {},
   "source": [
    "### Load data"
   ]
  },
  {
   "cell_type": "code",
   "execution_count": 1,
   "metadata": {
    "collapsed": true
   },
   "outputs": [],
   "source": [
    "# %load \"../scripts/load_porto.py\"\n",
    "import pandas as pd\n",
    "import numpy as np\n",
    "\n",
    "#Import data\n",
    "train = pd.read_csv('../data/train.csv')\n",
    "test = pd.read_csv('../data/test.csv')\n",
    "\n",
    "#Create train and test variables\n",
    "train_id = train['id']\n",
    "train_target = train['target']\n",
    "train = train.drop(['id','target'],axis=1)\n",
    "\n",
    "test_id = test['id']\n",
    "test = test.drop('id',axis=1)"
   ]
  },
  {
   "cell_type": "markdown",
   "metadata": {},
   "source": [
    "### Columns suggest to drop"
   ]
  },
  {
   "cell_type": "code",
   "execution_count": 2,
   "metadata": {
    "collapsed": true
   },
   "outputs": [],
   "source": [
    "col_drop = train.columns[train.columns.str.startswith('ps_calc')]\n",
    "\n",
    "train = train.drop(col_drop,axis=1)\n",
    "test = test.drop(col_drop,axis=1)"
   ]
  },
  {
   "cell_type": "markdown",
   "metadata": {},
   "source": [
    "### Deal with missing data"
   ]
  },
  {
   "cell_type": "code",
   "execution_count": 3,
   "metadata": {
    "collapsed": true
   },
   "outputs": [],
   "source": [
    "# %load \"../scripts/handle_missing_data.py\"\n",
    "# Replace -1 values (missing values) with nan\n",
    "train = train.replace(to_replace=-1,value=np.nan)\n",
    "test = test.replace(to_replace=-1,value=np.nan)\n",
    "\n",
    "# Missing data 1: drop columns with 20%+ missing data\n",
    "incomplete_columns = list(train.isnull().sum()[train.isnull().sum()>len(train)*.2].index)\n",
    "\n",
    "train = train.drop(incomplete_columns,axis=1)\n",
    "test = test.drop(incomplete_columns, axis=1)\n",
    "\n",
    "# Missing data 2: fill binary and categorical columns with mode\n",
    "fill_with_mode = [col for col in train.columns if col.endswith('cat')] +[col for col in train.columns if col.endswith('bin')]\n",
    "train[fill_with_mode].fillna(train[fill_with_mode].mode())\n",
    "test[fill_with_mode].fillna(test[fill_with_mode].mode())\n",
    "\n",
    "# Missing data 3: impute median values to remaining columns\n",
    "train = train.fillna(train.median())\n",
    "test = test.fillna(test.median())"
   ]
  },
  {
   "cell_type": "markdown",
   "metadata": {},
   "source": [
    "### Scaling data"
   ]
  },
  {
   "cell_type": "code",
   "execution_count": 4,
   "metadata": {},
   "outputs": [
    {
     "data": {
      "text/plain": [
       "'from sklearn.preprocessing import StandardScaler\\n\\nscaler = StandardScaler()   #Initalize scaler estimator\\n\\nscaler.fit(train) #Remember to only fit scaler to training data\\n\\ntrain = pd.DataFrame(scaler.transform(train),columns=train.columns)\\ntest = pd.DataFrame(scaler.transform(test),columns=test.columns)'"
      ]
     },
     "execution_count": 4,
     "metadata": {},
     "output_type": "execute_result"
    }
   ],
   "source": [
    "\"\"\"from sklearn.preprocessing import StandardScaler\n",
    "\n",
    "scaler = StandardScaler()   #Initalize scaler estimator\n",
    "\n",
    "scaler.fit(train) #Remember to only fit scaler to training data\n",
    "\n",
    "train = pd.DataFrame(scaler.transform(train),columns=train.columns)\n",
    "test = pd.DataFrame(scaler.transform(test),columns=test.columns)\"\"\""
   ]
  },
  {
   "cell_type": "markdown",
   "metadata": {},
   "source": [
    "### Convert categorical features to binary values"
   ]
  },
  {
   "cell_type": "code",
   "execution_count": 5,
   "metadata": {
    "collapsed": true
   },
   "outputs": [],
   "source": [
    "# %load \"../scripts/convert_categorical_features_to_binary.py\"\n",
    "cat_feat = [col for col in train.columns if col.endswith('cat')]\n",
    "\n",
    "for df in [train,test]:\n",
    "    for column in cat_feat:\n",
    "        dummies = pd.get_dummies(df[column],drop_first=True)\n",
    "        df = pd.concat([df,dummies],axis=1)\n",
    "        df = df.drop([column],axis=1)"
   ]
  },
  {
   "cell_type": "markdown",
   "metadata": {},
   "source": [
    "### Gini calculators"
   ]
  },
  {
   "cell_type": "code",
   "execution_count": 6,
   "metadata": {
    "collapsed": true
   },
   "outputs": [],
   "source": [
    "# %load \"../scripts/gini_calculator.py\"\n",
    "#From: https://www.kaggle.com/batzner/gini-coefficient-an-intuitive-explanation\n",
    "\n",
    "def gini(actual, pred):\n",
    "    assert (len(actual) == len(pred))\n",
    "    all = np.asarray(np.c_[actual, pred, np.arange(len(actual))], dtype=np.float)\n",
    "    all = all[np.lexsort((all[:, 2], -1 * all[:, 1]))]\n",
    "    totalLosses = all[:, 0].sum()\n",
    "    giniSum = all[:, 0].cumsum().sum() / totalLosses\n",
    "\n",
    "    giniSum -= (len(actual) + 1) / 2.\n",
    "    return giniSum / len(actual)\n",
    "\n",
    "\n",
    "def gini_normalized(actual, pred):\n",
    "    return gini(actual, pred) / gini(actual, actual)"
   ]
  },
  {
   "cell_type": "code",
   "execution_count": 7,
   "metadata": {
    "collapsed": true
   },
   "outputs": [],
   "source": [
    "#LightGBM\n",
    "#From: https://www.kaggle.com/the1owl/forza-baseline/code\n",
    "def gini_lgb(preds, dtrain):\n",
    "    y = list(dtrain.get_label())\n",
    "    score = gini(y, preds) / gini(y, y)\n",
    "    return 'gini', score, True"
   ]
  },
  {
   "cell_type": "markdown",
   "metadata": {},
   "source": [
    "### Light GBM Classifier"
   ]
  },
  {
   "cell_type": "code",
   "execution_count": 9,
   "metadata": {
    "collapsed": true
   },
   "outputs": [],
   "source": [
    "from sklearn.model_selection import RandomizedSearchCV\n",
    "from lightgbm import LGBMClassifier"
   ]
  },
  {
   "cell_type": "code",
   "execution_count": null,
   "metadata": {
    "collapsed": true
   },
   "outputs": [],
   "source": [
    "import lightgbm as lgb\n",
    "from sklearn.model_selection import train_test_split\n",
    "X_train, X_valid, y_train, y_valid = train_test_split(train.values,train_target.values, test_size=0.3, random_state=42)\n",
    "\n",
    "train_set = lgb.Dataset(X_train, label=y_train)\n",
    "valid_set = lgb.Dataset(X_valid, label=y_valid)"
   ]
  },
  {
   "cell_type": "markdown",
   "metadata": {},
   "source": [
    "### Randomized Search"
   ]
  },
  {
   "cell_type": "code",
   "execution_count": 10,
   "metadata": {
    "collapsed": true
   },
   "outputs": [],
   "source": [
    "lgb_class = LGBMClassifier()"
   ]
  },
  {
   "cell_type": "code",
   "execution_count": 61,
   "metadata": {},
   "outputs": [
    {
     "data": {
      "text/plain": [
       "{'learning_rate': [0.01, 0.02, 0.05, 0.1],\n",
       " 'max_depth': [-1, 3, 4, 5, 6, 10, 30, 50],\n",
       " 'n_estimators': [20],\n",
       " 'num_leaves': [10, 20, 25, 31, 40],\n",
       " 'objective': 'binary'}"
      ]
     },
     "execution_count": 61,
     "metadata": {},
     "output_type": "execute_result"
    }
   ],
   "source": [
    "lgb_params = {}\n",
    "lgb_params['learning_rate']=[.01,.02,.05,.10]\n",
    "lgb_params['n_estimators']=[20]\n",
    "lgb_params['num_leaves']=[10,20,25,31,40]\n",
    "lgb_params['max_depth']=[-1,3,4,5,6,10,30,50]\n",
    "lgb_params['objective']='binary'\n",
    "#lgb_params['boosting_type']=['gbdt','dart','goss','rf']\n",
    "\n",
    "lgb_params"
   ]
  },
  {
   "cell_type": "code",
   "execution_count": 62,
   "metadata": {},
   "outputs": [
    {
     "name": "stdout",
     "output_type": "stream",
     "text": [
      "Fitting 3 folds for each of 30 candidates, totalling 90 fits\n",
      "[CV] objective=b, num_leaves=31, n_estimators=20, max_depth=3, learning_rate=0.02 \n",
      "[CV]  objective=b, num_leaves=31, n_estimators=20, max_depth=3, learning_rate=0.02, score=0.9635493057130616, total=   1.2s\n",
      "[CV] objective=b, num_leaves=31, n_estimators=20, max_depth=3, learning_rate=0.02 \n"
     ]
    },
    {
     "name": "stderr",
     "output_type": "stream",
     "text": [
      "[Parallel(n_jobs=1)]: Done   1 out of   1 | elapsed:    1.8s remaining:    0.0s\n"
     ]
    },
    {
     "name": "stdout",
     "output_type": "stream",
     "text": [
      "[CV]  objective=b, num_leaves=31, n_estimators=20, max_depth=3, learning_rate=0.02, score=0.9635541622144714, total=   1.3s\n",
      "[CV] objective=b, num_leaves=31, n_estimators=20, max_depth=3, learning_rate=0.02 \n"
     ]
    },
    {
     "name": "stderr",
     "output_type": "stream",
     "text": [
      "[Parallel(n_jobs=1)]: Done   2 out of   2 | elapsed:    3.8s remaining:    0.0s\n"
     ]
    },
    {
     "name": "stdout",
     "output_type": "stream",
     "text": [
      "[CV]  objective=b, num_leaves=31, n_estimators=20, max_depth=3, learning_rate=0.02, score=0.96355397851847, total=   1.3s\n",
      "[CV] objective=i, num_leaves=20, n_estimators=20, max_depth=30, learning_rate=0.02 \n",
      "[CV]  objective=i, num_leaves=20, n_estimators=20, max_depth=30, learning_rate=0.02, score=0.9635493057130616, total=   1.5s\n",
      "[CV] objective=i, num_leaves=20, n_estimators=20, max_depth=30, learning_rate=0.02 \n",
      "[CV]  objective=i, num_leaves=20, n_estimators=20, max_depth=30, learning_rate=0.02, score=0.9635541622144714, total=   1.6s\n",
      "[CV] objective=i, num_leaves=20, n_estimators=20, max_depth=30, learning_rate=0.02 \n",
      "[CV]  objective=i, num_leaves=20, n_estimators=20, max_depth=30, learning_rate=0.02, score=0.96355397851847, total=   1.5s\n",
      "[CV] objective=n, num_leaves=20, n_estimators=20, max_depth=50, learning_rate=0.1 \n",
      "[CV]  objective=n, num_leaves=20, n_estimators=20, max_depth=50, learning_rate=0.1, score=0.9635493057130616, total=   1.6s\n",
      "[CV] objective=n, num_leaves=20, n_estimators=20, max_depth=50, learning_rate=0.1 \n",
      "[CV]  objective=n, num_leaves=20, n_estimators=20, max_depth=50, learning_rate=0.1, score=0.9635541622144714, total=   1.6s\n",
      "[CV] objective=n, num_leaves=20, n_estimators=20, max_depth=50, learning_rate=0.1 \n",
      "[CV]  objective=n, num_leaves=20, n_estimators=20, max_depth=50, learning_rate=0.1, score=0.96355397851847, total=   1.7s\n",
      "[CV] objective=i, num_leaves=31, n_estimators=20, max_depth=50, learning_rate=0.1 \n",
      "[CV]  objective=i, num_leaves=31, n_estimators=20, max_depth=50, learning_rate=0.1, score=0.9635493057130616, total=   1.7s\n",
      "[CV] objective=i, num_leaves=31, n_estimators=20, max_depth=50, learning_rate=0.1 \n",
      "[CV]  objective=i, num_leaves=31, n_estimators=20, max_depth=50, learning_rate=0.1, score=0.9635541622144714, total=   1.9s\n",
      "[CV] objective=i, num_leaves=31, n_estimators=20, max_depth=50, learning_rate=0.1 \n",
      "[CV]  objective=i, num_leaves=31, n_estimators=20, max_depth=50, learning_rate=0.1, score=0.96355397851847, total=   2.1s\n",
      "[CV] objective=n, num_leaves=20, n_estimators=20, max_depth=6, learning_rate=0.1 \n",
      "[CV]  objective=n, num_leaves=20, n_estimators=20, max_depth=6, learning_rate=0.1, score=0.9635493057130616, total=   1.7s\n",
      "[CV] objective=n, num_leaves=20, n_estimators=20, max_depth=6, learning_rate=0.1 \n",
      "[CV]  objective=n, num_leaves=20, n_estimators=20, max_depth=6, learning_rate=0.1, score=0.9635541622144714, total=   1.5s\n",
      "[CV] objective=n, num_leaves=20, n_estimators=20, max_depth=6, learning_rate=0.1 \n",
      "[CV]  objective=n, num_leaves=20, n_estimators=20, max_depth=6, learning_rate=0.1, score=0.96355397851847, total=   2.1s\n",
      "[CV] objective=n, num_leaves=10, n_estimators=20, max_depth=-1, learning_rate=0.01 \n",
      "[CV]  objective=n, num_leaves=10, n_estimators=20, max_depth=-1, learning_rate=0.01, score=0.9635493057130616, total=   1.7s\n",
      "[CV] objective=n, num_leaves=10, n_estimators=20, max_depth=-1, learning_rate=0.01 \n",
      "[CV]  objective=n, num_leaves=10, n_estimators=20, max_depth=-1, learning_rate=0.01, score=0.9635541622144714, total=   1.5s\n",
      "[CV] objective=n, num_leaves=10, n_estimators=20, max_depth=-1, learning_rate=0.01 \n",
      "[CV]  objective=n, num_leaves=10, n_estimators=20, max_depth=-1, learning_rate=0.01, score=0.96355397851847, total=   1.6s\n",
      "[CV] objective=b, num_leaves=40, n_estimators=20, max_depth=30, learning_rate=0.01 \n",
      "[CV]  objective=b, num_leaves=40, n_estimators=20, max_depth=30, learning_rate=0.01, score=0.9635493057130616, total=   2.0s\n",
      "[CV] objective=b, num_leaves=40, n_estimators=20, max_depth=30, learning_rate=0.01 \n",
      "[CV]  objective=b, num_leaves=40, n_estimators=20, max_depth=30, learning_rate=0.01, score=0.9635541622144714, total=   1.8s\n",
      "[CV] objective=b, num_leaves=40, n_estimators=20, max_depth=30, learning_rate=0.01 \n",
      "[CV]  objective=b, num_leaves=40, n_estimators=20, max_depth=30, learning_rate=0.01, score=0.96355397851847, total=   1.9s\n",
      "[CV] objective=y, num_leaves=20, n_estimators=20, max_depth=30, learning_rate=0.01 \n",
      "[CV]  objective=y, num_leaves=20, n_estimators=20, max_depth=30, learning_rate=0.01, score=0.9635493057130616, total=   1.8s\n",
      "[CV] objective=y, num_leaves=20, n_estimators=20, max_depth=30, learning_rate=0.01 \n",
      "[CV]  objective=y, num_leaves=20, n_estimators=20, max_depth=30, learning_rate=0.01, score=0.9635541622144714, total=   1.7s\n",
      "[CV] objective=y, num_leaves=20, n_estimators=20, max_depth=30, learning_rate=0.01 \n",
      "[CV]  objective=y, num_leaves=20, n_estimators=20, max_depth=30, learning_rate=0.01, score=0.96355397851847, total=   1.5s\n",
      "[CV] objective=b, num_leaves=25, n_estimators=20, max_depth=4, learning_rate=0.01 \n",
      "[CV]  objective=b, num_leaves=25, n_estimators=20, max_depth=4, learning_rate=0.01, score=0.9635493057130616, total=   1.4s\n",
      "[CV] objective=b, num_leaves=25, n_estimators=20, max_depth=4, learning_rate=0.01 \n",
      "[CV]  objective=b, num_leaves=25, n_estimators=20, max_depth=4, learning_rate=0.01, score=0.9635541622144714, total=   1.9s\n",
      "[CV] objective=b, num_leaves=25, n_estimators=20, max_depth=4, learning_rate=0.01 \n",
      "[CV]  objective=b, num_leaves=25, n_estimators=20, max_depth=4, learning_rate=0.01, score=0.96355397851847, total=   1.6s\n",
      "[CV] objective=n, num_leaves=25, n_estimators=20, max_depth=10, learning_rate=0.01 \n",
      "[CV]  objective=n, num_leaves=25, n_estimators=20, max_depth=10, learning_rate=0.01, score=0.9635493057130616, total=   1.6s\n",
      "[CV] objective=n, num_leaves=25, n_estimators=20, max_depth=10, learning_rate=0.01 \n",
      "[CV]  objective=n, num_leaves=25, n_estimators=20, max_depth=10, learning_rate=0.01, score=0.9635541622144714, total=   1.5s\n",
      "[CV] objective=n, num_leaves=25, n_estimators=20, max_depth=10, learning_rate=0.01 \n",
      "[CV]  objective=n, num_leaves=25, n_estimators=20, max_depth=10, learning_rate=0.01, score=0.96355397851847, total=   1.6s\n",
      "[CV] objective=i, num_leaves=40, n_estimators=20, max_depth=4, learning_rate=0.1 \n",
      "[CV]  objective=i, num_leaves=40, n_estimators=20, max_depth=4, learning_rate=0.1, score=0.9635493057130616, total=   1.4s\n",
      "[CV] objective=i, num_leaves=40, n_estimators=20, max_depth=4, learning_rate=0.1 \n",
      "[CV]  objective=i, num_leaves=40, n_estimators=20, max_depth=4, learning_rate=0.1, score=0.9635541622144714, total=   1.7s\n",
      "[CV] objective=i, num_leaves=40, n_estimators=20, max_depth=4, learning_rate=0.1 \n",
      "[CV]  objective=i, num_leaves=40, n_estimators=20, max_depth=4, learning_rate=0.1, score=0.96355397851847, total=   1.4s\n",
      "[CV] objective=b, num_leaves=20, n_estimators=20, max_depth=4, learning_rate=0.1 \n",
      "[CV]  objective=b, num_leaves=20, n_estimators=20, max_depth=4, learning_rate=0.1, score=0.9635493057130616, total=   1.4s\n",
      "[CV] objective=b, num_leaves=20, n_estimators=20, max_depth=4, learning_rate=0.1 \n",
      "[CV]  objective=b, num_leaves=20, n_estimators=20, max_depth=4, learning_rate=0.1, score=0.9635541622144714, total=   1.4s\n",
      "[CV] objective=b, num_leaves=20, n_estimators=20, max_depth=4, learning_rate=0.1 \n",
      "[CV]  objective=b, num_leaves=20, n_estimators=20, max_depth=4, learning_rate=0.1, score=0.96355397851847, total=   1.4s\n",
      "[CV] objective=i, num_leaves=20, n_estimators=20, max_depth=50, learning_rate=0.1 \n",
      "[CV]  objective=i, num_leaves=20, n_estimators=20, max_depth=50, learning_rate=0.1, score=0.9635493057130616, total=   1.6s\n",
      "[CV] objective=i, num_leaves=20, n_estimators=20, max_depth=50, learning_rate=0.1 \n",
      "[CV]  objective=i, num_leaves=20, n_estimators=20, max_depth=50, learning_rate=0.1, score=0.9635541622144714, total=   1.7s\n",
      "[CV] objective=i, num_leaves=20, n_estimators=20, max_depth=50, learning_rate=0.1 \n",
      "[CV]  objective=i, num_leaves=20, n_estimators=20, max_depth=50, learning_rate=0.1, score=0.96355397851847, total=   1.5s\n",
      "[CV] objective=a, num_leaves=25, n_estimators=20, max_depth=50, learning_rate=0.1 \n",
      "[CV]  objective=a, num_leaves=25, n_estimators=20, max_depth=50, learning_rate=0.1, score=0.9635493057130616, total=   1.9s\n",
      "[CV] objective=a, num_leaves=25, n_estimators=20, max_depth=50, learning_rate=0.1 \n",
      "[CV]  objective=a, num_leaves=25, n_estimators=20, max_depth=50, learning_rate=0.1, score=0.9635541622144714, total=   1.6s\n",
      "[CV] objective=a, num_leaves=25, n_estimators=20, max_depth=50, learning_rate=0.1 \n",
      "[CV]  objective=a, num_leaves=25, n_estimators=20, max_depth=50, learning_rate=0.1, score=0.96355397851847, total=   1.6s\n",
      "[CV] objective=y, num_leaves=20, n_estimators=20, max_depth=10, learning_rate=0.1 \n"
     ]
    },
    {
     "name": "stdout",
     "output_type": "stream",
     "text": [
      "[CV]  objective=y, num_leaves=20, n_estimators=20, max_depth=10, learning_rate=0.1, score=0.9635493057130616, total=   1.6s\n",
      "[CV] objective=y, num_leaves=20, n_estimators=20, max_depth=10, learning_rate=0.1 \n",
      "[CV]  objective=y, num_leaves=20, n_estimators=20, max_depth=10, learning_rate=0.1, score=0.9635541622144714, total=   1.6s\n",
      "[CV] objective=y, num_leaves=20, n_estimators=20, max_depth=10, learning_rate=0.1 \n",
      "[CV]  objective=y, num_leaves=20, n_estimators=20, max_depth=10, learning_rate=0.1, score=0.96355397851847, total=   1.6s\n",
      "[CV] objective=r, num_leaves=10, n_estimators=20, max_depth=4, learning_rate=0.05 \n",
      "[CV]  objective=r, num_leaves=10, n_estimators=20, max_depth=4, learning_rate=0.05, score=0.9635493057130616, total=   1.4s\n",
      "[CV] objective=r, num_leaves=10, n_estimators=20, max_depth=4, learning_rate=0.05 \n",
      "[CV]  objective=r, num_leaves=10, n_estimators=20, max_depth=4, learning_rate=0.05, score=0.9635541622144714, total=   1.4s\n",
      "[CV] objective=r, num_leaves=10, n_estimators=20, max_depth=4, learning_rate=0.05 \n",
      "[CV]  objective=r, num_leaves=10, n_estimators=20, max_depth=4, learning_rate=0.05, score=0.96355397851847, total=   1.4s\n",
      "[CV] objective=a, num_leaves=20, n_estimators=20, max_depth=10, learning_rate=0.01 \n",
      "[CV]  objective=a, num_leaves=20, n_estimators=20, max_depth=10, learning_rate=0.01, score=0.9635493057130616, total=   1.8s\n",
      "[CV] objective=a, num_leaves=20, n_estimators=20, max_depth=10, learning_rate=0.01 \n",
      "[CV]  objective=a, num_leaves=20, n_estimators=20, max_depth=10, learning_rate=0.01, score=0.9635541622144714, total=   1.7s\n",
      "[CV] objective=a, num_leaves=20, n_estimators=20, max_depth=10, learning_rate=0.01 \n",
      "[CV]  objective=a, num_leaves=20, n_estimators=20, max_depth=10, learning_rate=0.01, score=0.96355397851847, total=   1.6s\n",
      "[CV] objective=r, num_leaves=20, n_estimators=20, max_depth=3, learning_rate=0.02 \n",
      "[CV]  objective=r, num_leaves=20, n_estimators=20, max_depth=3, learning_rate=0.02, score=0.9635493057130616, total=   1.3s\n",
      "[CV] objective=r, num_leaves=20, n_estimators=20, max_depth=3, learning_rate=0.02 \n",
      "[CV]  objective=r, num_leaves=20, n_estimators=20, max_depth=3, learning_rate=0.02, score=0.9635541622144714, total=   1.4s\n",
      "[CV] objective=r, num_leaves=20, n_estimators=20, max_depth=3, learning_rate=0.02 \n",
      "[CV]  objective=r, num_leaves=20, n_estimators=20, max_depth=3, learning_rate=0.02, score=0.96355397851847, total=   1.3s\n",
      "[CV] objective=i, num_leaves=10, n_estimators=20, max_depth=10, learning_rate=0.02 \n",
      "[CV]  objective=i, num_leaves=10, n_estimators=20, max_depth=10, learning_rate=0.02, score=0.9635493057130616, total=   1.4s\n",
      "[CV] objective=i, num_leaves=10, n_estimators=20, max_depth=10, learning_rate=0.02 \n",
      "[CV]  objective=i, num_leaves=10, n_estimators=20, max_depth=10, learning_rate=0.02, score=0.9635541622144714, total=   1.6s\n",
      "[CV] objective=i, num_leaves=10, n_estimators=20, max_depth=10, learning_rate=0.02 \n",
      "[CV]  objective=i, num_leaves=10, n_estimators=20, max_depth=10, learning_rate=0.02, score=0.96355397851847, total=   1.4s\n",
      "[CV] objective=a, num_leaves=40, n_estimators=20, max_depth=4, learning_rate=0.02 \n",
      "[CV]  objective=a, num_leaves=40, n_estimators=20, max_depth=4, learning_rate=0.02, score=0.9635493057130616, total=   1.4s\n",
      "[CV] objective=a, num_leaves=40, n_estimators=20, max_depth=4, learning_rate=0.02 \n",
      "[CV]  objective=a, num_leaves=40, n_estimators=20, max_depth=4, learning_rate=0.02, score=0.9635541622144714, total=   1.6s\n",
      "[CV] objective=a, num_leaves=40, n_estimators=20, max_depth=4, learning_rate=0.02 \n",
      "[CV]  objective=a, num_leaves=40, n_estimators=20, max_depth=4, learning_rate=0.02, score=0.96355397851847, total=   1.8s\n",
      "[CV] objective=y, num_leaves=20, n_estimators=20, max_depth=4, learning_rate=0.02 \n",
      "[CV]  objective=y, num_leaves=20, n_estimators=20, max_depth=4, learning_rate=0.02, score=0.9635493057130616, total=   1.6s\n",
      "[CV] objective=y, num_leaves=20, n_estimators=20, max_depth=4, learning_rate=0.02 \n",
      "[CV]  objective=y, num_leaves=20, n_estimators=20, max_depth=4, learning_rate=0.02, score=0.9635541622144714, total=   1.5s\n",
      "[CV] objective=y, num_leaves=20, n_estimators=20, max_depth=4, learning_rate=0.02 \n",
      "[CV]  objective=y, num_leaves=20, n_estimators=20, max_depth=4, learning_rate=0.02, score=0.96355397851847, total=   1.4s\n",
      "[CV] objective=b, num_leaves=20, n_estimators=20, max_depth=4, learning_rate=0.01 \n",
      "[CV]  objective=b, num_leaves=20, n_estimators=20, max_depth=4, learning_rate=0.01, score=0.9635493057130616, total=   1.4s\n",
      "[CV] objective=b, num_leaves=20, n_estimators=20, max_depth=4, learning_rate=0.01 \n",
      "[CV]  objective=b, num_leaves=20, n_estimators=20, max_depth=4, learning_rate=0.01, score=0.9635541622144714, total=   1.4s\n",
      "[CV] objective=b, num_leaves=20, n_estimators=20, max_depth=4, learning_rate=0.01 \n",
      "[CV]  objective=b, num_leaves=20, n_estimators=20, max_depth=4, learning_rate=0.01, score=0.96355397851847, total=   1.7s\n",
      "[CV] objective=i, num_leaves=31, n_estimators=20, max_depth=6, learning_rate=0.05 \n",
      "[CV]  objective=i, num_leaves=31, n_estimators=20, max_depth=6, learning_rate=0.05, score=0.9635493057130616, total=   1.8s\n",
      "[CV] objective=i, num_leaves=31, n_estimators=20, max_depth=6, learning_rate=0.05 \n",
      "[CV]  objective=i, num_leaves=31, n_estimators=20, max_depth=6, learning_rate=0.05, score=0.9635541622144714, total=   1.7s\n",
      "[CV] objective=i, num_leaves=31, n_estimators=20, max_depth=6, learning_rate=0.05 \n",
      "[CV]  objective=i, num_leaves=31, n_estimators=20, max_depth=6, learning_rate=0.05, score=0.96355397851847, total=   1.7s\n",
      "[CV] objective=n, num_leaves=20, n_estimators=20, max_depth=-1, learning_rate=0.01 \n",
      "[CV]  objective=n, num_leaves=20, n_estimators=20, max_depth=-1, learning_rate=0.01, score=0.9635493057130616, total=   1.7s\n",
      "[CV] objective=n, num_leaves=20, n_estimators=20, max_depth=-1, learning_rate=0.01 \n",
      "[CV]  objective=n, num_leaves=20, n_estimators=20, max_depth=-1, learning_rate=0.01, score=0.9635541622144714, total=   1.6s\n",
      "[CV] objective=n, num_leaves=20, n_estimators=20, max_depth=-1, learning_rate=0.01 \n",
      "[CV]  objective=n, num_leaves=20, n_estimators=20, max_depth=-1, learning_rate=0.01, score=0.96355397851847, total=   2.0s\n",
      "[CV] objective=y, num_leaves=25, n_estimators=20, max_depth=6, learning_rate=0.01 \n",
      "[CV]  objective=y, num_leaves=25, n_estimators=20, max_depth=6, learning_rate=0.01, score=0.9635493057130616, total=   1.5s\n",
      "[CV] objective=y, num_leaves=25, n_estimators=20, max_depth=6, learning_rate=0.01 \n",
      "[CV]  objective=y, num_leaves=25, n_estimators=20, max_depth=6, learning_rate=0.01, score=0.9635541622144714, total=   1.5s\n",
      "[CV] objective=y, num_leaves=25, n_estimators=20, max_depth=6, learning_rate=0.01 \n",
      "[CV]  objective=y, num_leaves=25, n_estimators=20, max_depth=6, learning_rate=0.01, score=0.96355397851847, total=   2.1s\n",
      "[CV] objective=a, num_leaves=31, n_estimators=20, max_depth=3, learning_rate=0.05 \n",
      "[CV]  objective=a, num_leaves=31, n_estimators=20, max_depth=3, learning_rate=0.05, score=0.9635493057130616, total=   1.3s\n",
      "[CV] objective=a, num_leaves=31, n_estimators=20, max_depth=3, learning_rate=0.05 \n",
      "[CV]  objective=a, num_leaves=31, n_estimators=20, max_depth=3, learning_rate=0.05, score=0.9635541622144714, total=   1.3s\n",
      "[CV] objective=a, num_leaves=31, n_estimators=20, max_depth=3, learning_rate=0.05 \n",
      "[CV]  objective=a, num_leaves=31, n_estimators=20, max_depth=3, learning_rate=0.05, score=0.96355397851847, total=   1.3s\n",
      "[CV] objective=i, num_leaves=25, n_estimators=20, max_depth=6, learning_rate=0.02 \n",
      "[CV]  objective=i, num_leaves=25, n_estimators=20, max_depth=6, learning_rate=0.02, score=0.9635493057130616, total=   1.7s\n",
      "[CV] objective=i, num_leaves=25, n_estimators=20, max_depth=6, learning_rate=0.02 \n",
      "[CV]  objective=i, num_leaves=25, n_estimators=20, max_depth=6, learning_rate=0.02, score=0.9635541622144714, total=   1.6s\n",
      "[CV] objective=i, num_leaves=25, n_estimators=20, max_depth=6, learning_rate=0.02 \n",
      "[CV]  objective=i, num_leaves=25, n_estimators=20, max_depth=6, learning_rate=0.02, score=0.96355397851847, total=   1.7s\n",
      "[CV] objective=i, num_leaves=25, n_estimators=20, max_depth=10, learning_rate=0.02 \n",
      "[CV]  objective=i, num_leaves=25, n_estimators=20, max_depth=10, learning_rate=0.02, score=0.9635493057130616, total=   1.7s\n",
      "[CV] objective=i, num_leaves=25, n_estimators=20, max_depth=10, learning_rate=0.02 \n"
     ]
    },
    {
     "name": "stdout",
     "output_type": "stream",
     "text": [
      "[CV]  objective=i, num_leaves=25, n_estimators=20, max_depth=10, learning_rate=0.02, score=0.9635541622144714, total=   1.6s\n",
      "[CV] objective=i, num_leaves=25, n_estimators=20, max_depth=10, learning_rate=0.02 \n",
      "[CV]  objective=i, num_leaves=25, n_estimators=20, max_depth=10, learning_rate=0.02, score=0.96355397851847, total=   1.6s\n",
      "[CV] objective=a, num_leaves=25, n_estimators=20, max_depth=5, learning_rate=0.05 \n",
      "[CV]  objective=a, num_leaves=25, n_estimators=20, max_depth=5, learning_rate=0.05, score=0.9635493057130616, total=   1.5s\n",
      "[CV] objective=a, num_leaves=25, n_estimators=20, max_depth=5, learning_rate=0.05 \n",
      "[CV]  objective=a, num_leaves=25, n_estimators=20, max_depth=5, learning_rate=0.05, score=0.9635541622144714, total=   1.4s\n",
      "[CV] objective=a, num_leaves=25, n_estimators=20, max_depth=5, learning_rate=0.05 \n",
      "[CV]  objective=a, num_leaves=25, n_estimators=20, max_depth=5, learning_rate=0.05, score=0.96355397851847, total=   1.5s\n",
      "[CV] objective=r, num_leaves=10, n_estimators=20, max_depth=50, learning_rate=0.01 \n",
      "[CV]  objective=r, num_leaves=10, n_estimators=20, max_depth=50, learning_rate=0.01, score=0.9635493057130616, total=   1.4s\n",
      "[CV] objective=r, num_leaves=10, n_estimators=20, max_depth=50, learning_rate=0.01 \n",
      "[CV]  objective=r, num_leaves=10, n_estimators=20, max_depth=50, learning_rate=0.01, score=0.9635541622144714, total=   1.4s\n",
      "[CV] objective=r, num_leaves=10, n_estimators=20, max_depth=50, learning_rate=0.01 \n",
      "[CV]  objective=r, num_leaves=10, n_estimators=20, max_depth=50, learning_rate=0.01, score=0.96355397851847, total=   1.4s\n"
     ]
    },
    {
     "name": "stderr",
     "output_type": "stream",
     "text": [
      "[Parallel(n_jobs=1)]: Done  90 out of  90 | elapsed:  3.5min finished\n"
     ]
    },
    {
     "data": {
      "text/plain": [
       "RandomizedSearchCV(cv=None, error_score='raise',\n",
       "          estimator=LGBMClassifier(boosting_type='gbdt', colsample_bytree=1.0, learning_rate=0.1,\n",
       "        max_bin=255, max_depth=-1, min_child_samples=10,\n",
       "        min_child_weight=5, min_split_gain=0.0, n_estimators=10, n_jobs=-1,\n",
       "        num_leaves=31, objective=None, random_state=0, reg_alpha=0.0,\n",
       "        reg_lambda=0.0, silent=True, subsample=1.0,\n",
       "        subsample_for_bin=50000, subsample_freq=1),\n",
       "          fit_params=None, iid=True, n_iter=30, n_jobs=1,\n",
       "          param_distributions={'learning_rate': [0.01, 0.02, 0.05, 0.1], 'n_estimators': [20], 'num_leaves': [10, 20, 25, 31, 40], 'max_depth': [-1, 3, 4, 5, 6, 10, 30, 50], 'objective': 'binary'},\n",
       "          pre_dispatch='2*n_jobs', random_state=None, refit=True,\n",
       "          return_train_score='warn', scoring=None, verbose=3)"
      ]
     },
     "execution_count": 62,
     "metadata": {},
     "output_type": "execute_result"
    }
   ],
   "source": [
    "rand = RandomizedSearchCV(lgb_class,lgb_params,n_iter=30,verbose=3)\n",
    "\n",
    "rand.fit(train,train_target)"
   ]
  },
  {
   "cell_type": "code",
   "execution_count": 69,
   "metadata": {},
   "outputs": [
    {
     "data": {
      "text/plain": [
       "LGBMClassifier(boosting_type='gbdt', colsample_bytree=1.0, learning_rate=0.02,\n",
       "        max_bin=255, max_depth=3, min_child_samples=10, min_child_weight=5,\n",
       "        min_split_gain=0.0, n_estimators=20, n_jobs=-1, num_leaves=31,\n",
       "        objective='b', random_state=0, reg_alpha=0.0, reg_lambda=0.0,\n",
       "        silent=True, subsample=1.0, subsample_for_bin=50000,\n",
       "        subsample_freq=1)"
      ]
     },
     "execution_count": 69,
     "metadata": {},
     "output_type": "execute_result"
    }
   ],
   "source": [
    "rand.best_estimator_"
   ]
  },
  {
   "cell_type": "code",
   "execution_count": 87,
   "metadata": {},
   "outputs": [
    {
     "data": {
      "text/plain": [
       "{'learning_rate': 0.02,\n",
       " 'max_depth': 3,\n",
       " 'n_estimators': 20,\n",
       " 'num_leaves': 31,\n",
       " 'objective': 'b'}"
      ]
     },
     "execution_count": 87,
     "metadata": {},
     "output_type": "execute_result"
    }
   ],
   "source": [
    "rand.best_params_"
   ]
  },
  {
   "cell_type": "code",
   "execution_count": 90,
   "metadata": {},
   "outputs": [],
   "source": [
    "model_params = rand.best_params_\n",
    "model_params['n_estimators']=100\n",
    "model_params['max_bin']=255\n",
    "model_params['objective']='binary'"
   ]
  },
  {
   "cell_type": "code",
   "execution_count": 28,
   "metadata": {
    "collapsed": true
   },
   "outputs": [],
   "source": [
    "\"\"\"model_params = {'learning_rate': 0.02,\n",
    " 'max_bin': 10,\n",
    " 'min_child_samples': 200,\n",
    " 'n_estimators': 100,\n",
    " 'objective': 'binary'}\n",
    " \"\"\""
   ]
  },
  {
   "cell_type": "markdown",
   "metadata": {},
   "source": [
    "### Training and Predictions"
   ]
  },
  {
   "cell_type": "code",
   "execution_count": 91,
   "metadata": {},
   "outputs": [
    {
     "name": "stdout",
     "output_type": "stream",
     "text": [
      "Training until validation scores don't improve for 200 rounds.\n",
      "[50]\tvalid_0's gini: 0.219986\n",
      "[100]\tvalid_0's gini: 0.227547\n",
      "[150]\tvalid_0's gini: 0.239065\n",
      "[200]\tvalid_0's gini: 0.247652\n",
      "[250]\tvalid_0's gini: 0.255276\n",
      "[300]\tvalid_0's gini: 0.260702\n",
      "[350]\tvalid_0's gini: 0.264862\n",
      "[400]\tvalid_0's gini: 0.267693\n",
      "[450]\tvalid_0's gini: 0.269861\n",
      "[500]\tvalid_0's gini: 0.271891\n"
     ]
    }
   ],
   "source": [
    "lgb_model = lgb.train(params=model_params, train_set=train_set, num_boost_round=500, valid_sets=valid_set,verbose_eval=50, feval=gini_lgb, early_stopping_rounds=200)"
   ]
  },
  {
   "cell_type": "code",
   "execution_count": 57,
   "metadata": {
    "collapsed": true
   },
   "outputs": [],
   "source": [
    "lgb_pred = lgb_model.predict(test,num_iteration=lgb_model.best_iteration)"
   ]
  },
  {
   "cell_type": "markdown",
   "metadata": {},
   "source": [
    "### Ensembling LGB Models"
   ]
  },
  {
   "cell_type": "markdown",
   "metadata": {},
   "source": [
    "Train 3 models on different training set and then take average prediction for each value in the test set."
   ]
  },
  {
   "cell_type": "code",
   "execution_count": 92,
   "metadata": {},
   "outputs": [
    {
     "data": {
      "text/plain": [
       "{'learning_rate': 0.02,\n",
       " 'max_depth': 3,\n",
       " 'n_estimators': 100,\n",
       " 'num_leaves': 31,\n",
       " 'objective': 'binary',\n",
       " 'verbose': 1}"
      ]
     },
     "execution_count": 92,
     "metadata": {},
     "output_type": "execute_result"
    }
   ],
   "source": [
    "model_params"
   ]
  },
  {
   "cell_type": "code",
   "execution_count": 93,
   "metadata": {
    "collapsed": true
   },
   "outputs": [],
   "source": [
    "model_params2 = {'learning_rate': 0.02,\n",
    " 'max_depth': 6,\n",
    " 'n_estimators': 100,\n",
    " 'num_leaves': 25,\n",
    " 'objective': 'binary',\n",
    " 'verbose': 1}"
   ]
  },
  {
   "cell_type": "code",
   "execution_count": 94,
   "metadata": {
    "collapsed": true
   },
   "outputs": [],
   "source": [
    "model_param3={'learning_rate': 0.02,\n",
    " 'max_depth': 4,\n",
    " 'n_estimators': 100,\n",
    " 'num_leaves': 35,\n",
    " 'objective': 'binary',\n",
    " 'verbose': 1}"
   ]
  },
  {
   "cell_type": "code",
   "execution_count": 95,
   "metadata": {
    "collapsed": true
   },
   "outputs": [],
   "source": [
    "param_list = [model_params,model_params2,model_param3]"
   ]
  },
  {
   "cell_type": "code",
   "execution_count": 98,
   "metadata": {},
   "outputs": [
    {
     "name": "stdout",
     "output_type": "stream",
     "text": [
      "Training until validation scores don't improve for 200 rounds.\n",
      "[50]\tvalid_0's gini: 0.210733\n",
      "[100]\tvalid_0's gini: 0.219012\n",
      "[150]\tvalid_0's gini: 0.234409\n",
      "[200]\tvalid_0's gini: 0.245806\n",
      "[250]\tvalid_0's gini: 0.255507\n",
      "[300]\tvalid_0's gini: 0.262545\n",
      "[350]\tvalid_0's gini: 0.266946\n",
      "[400]\tvalid_0's gini: 0.270225\n",
      "[450]\tvalid_0's gini: 0.273031\n",
      "[500]\tvalid_0's gini: 0.275221\n",
      "Training until validation scores don't improve for 200 rounds.\n",
      "[50]\tvalid_0's gini: 0.243049\n",
      "[100]\tvalid_0's gini: 0.248832\n",
      "[150]\tvalid_0's gini: 0.259102\n",
      "[200]\tvalid_0's gini: 0.266101\n",
      "[250]\tvalid_0's gini: 0.271082\n",
      "[300]\tvalid_0's gini: 0.276011\n",
      "[350]\tvalid_0's gini: 0.279434\n",
      "[400]\tvalid_0's gini: 0.281775\n",
      "[450]\tvalid_0's gini: 0.282562\n",
      "[500]\tvalid_0's gini: 0.282467\n",
      "Training until validation scores don't improve for 200 rounds.\n",
      "[50]\tvalid_0's gini: 0.216542\n",
      "[100]\tvalid_0's gini: 0.22265\n",
      "[150]\tvalid_0's gini: 0.236664\n",
      "[200]\tvalid_0's gini: 0.246875\n",
      "[250]\tvalid_0's gini: 0.254269\n",
      "[300]\tvalid_0's gini: 0.258761\n",
      "[350]\tvalid_0's gini: 0.260892\n",
      "[400]\tvalid_0's gini: 0.262932\n",
      "[450]\tvalid_0's gini: 0.264652\n",
      "[500]\tvalid_0's gini: 0.266167\n"
     ]
    }
   ],
   "source": [
    "train_sets=[]\n",
    "valid_sets=[]\n",
    "\n",
    "model_list=[]\n",
    "\n",
    "for i in range(3):\n",
    "    X_train, X_valid, y_train, y_valid = train_test_split(train.values,train_target.values, test_size=0.3,random_state=i)\n",
    "\n",
    "    train_sets.append(lgb.Dataset(X_train, label=y_train))\n",
    "    valid_sets.append(lgb.Dataset(X_valid, label=y_valid))\n",
    "    \n",
    "    new_model = lgb.train(params=param_list[i], train_set=train_sets[i], num_boost_round=500, valid_sets=valid_sets[i],verbose_eval=50, feval=gini_lgb, early_stopping_rounds=200)\n",
    "    model_list.append(new_model)"
   ]
  },
  {
   "cell_type": "code",
   "execution_count": 99,
   "metadata": {
    "collapsed": true
   },
   "outputs": [],
   "source": [
    "preds=[]\n",
    "\n",
    "for model in model_list:\n",
    "    preds.append(model.predict(test))\n",
    "    \n",
    "preds_mean=np.mean(preds,axis=0)"
   ]
  },
  {
   "cell_type": "markdown",
   "metadata": {},
   "source": [
    "## 7. Create output csv"
   ]
  },
  {
   "cell_type": "code",
   "execution_count": 100,
   "metadata": {
    "collapsed": true
   },
   "outputs": [],
   "source": [
    "sub = pd.DataFrame({'id':test_id,'target':preds_mean})\n",
    "\n",
    "sub.to_csv('../predictions/LGBM Mean of 3 Models with diff training sets.csv',index=False)"
   ]
  }
 ],
 "metadata": {
  "kernelspec": {
   "display_name": "Python 3",
   "language": "python",
   "name": "python3"
  },
  "language_info": {
   "codemirror_mode": {
    "name": "ipython",
    "version": 3
   },
   "file_extension": ".py",
   "mimetype": "text/x-python",
   "name": "python",
   "nbconvert_exporter": "python",
   "pygments_lexer": "ipython3",
   "version": "3.6.1"
  }
 },
 "nbformat": 4,
 "nbformat_minor": 2
}
