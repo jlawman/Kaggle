{
 "cells": [
  {
   "cell_type": "markdown",
   "metadata": {},
   "source": [
    "# Simple predictions fitted on hour and distance"
   ]
  },
  {
   "cell_type": "markdown",
   "metadata": {},
   "source": [
    "This notebook creates two new features for the taxi database set, culls outliers, fits a gradient boosted regressor to the data. \n",
    "\n",
    "With 200 trees, it generates a prediction in the to 62%. Note, I have trees set to 50 for a quicker first run of the notebook.\n",
    "\n",
    "This is my first kernel and and so thank you for checking it out. Constructive criticism is welcome."
   ]
  },
  {
   "cell_type": "markdown",
   "metadata": {},
   "source": [
    "# I. Imports"
   ]
  },
  {
   "cell_type": "code",
   "execution_count": 2,
   "metadata": {
    "collapsed": true
   },
   "outputs": [],
   "source": [
    "import pandas as pd\n",
    "import numpy as np\n",
    "import matplotlib.pyplot as plt\n",
    "import seaborn as sns\n",
    "import datetime as dt\n",
    "from sklearn.decomposition import PCA\n",
    "from xgboost import XGBRegressor\n",
    "%matplotlib inline"
   ]
  },
  {
   "cell_type": "code",
   "execution_count": 3,
   "metadata": {
    "collapsed": true
   },
   "outputs": [],
   "source": [
    "from sklearn.model_selection import train_test_split\n",
    "from sklearn.linear_model import LinearRegression\n",
    "from sklearn.ensemble import GradientBoostingRegressor"
   ]
  },
  {
   "cell_type": "code",
   "execution_count": 4,
   "metadata": {
    "collapsed": true
   },
   "outputs": [],
   "source": [
    "train = pd.read_csv('train.csv') #change to '../input/train.csv' for kaggle upload\n",
    "test = pd.read_csv('test.csv') #change to '../input/test.csv' for kaggle upload\n",
    "sample_submission = pd.read_csv('sample_submission.csv') #change to '../input/sample_submission.csv' for kaggle upload"
   ]
  },
  {
   "cell_type": "markdown",
   "metadata": {},
   "source": [
    "# II. Data Overview"
   ]
  },
  {
   "cell_type": "code",
   "execution_count": 182,
   "metadata": {},
   "outputs": [
    {
     "data": {
      "text/html": [
       "<div>\n",
       "<style>\n",
       "    .dataframe thead tr:only-child th {\n",
       "        text-align: right;\n",
       "    }\n",
       "\n",
       "    .dataframe thead th {\n",
       "        text-align: left;\n",
       "    }\n",
       "\n",
       "    .dataframe tbody tr th {\n",
       "        vertical-align: top;\n",
       "    }\n",
       "</style>\n",
       "<table border=\"1\" class=\"dataframe\">\n",
       "  <thead>\n",
       "    <tr style=\"text-align: right;\">\n",
       "      <th></th>\n",
       "      <th>id</th>\n",
       "      <th>vendor_id</th>\n",
       "      <th>pickup_datetime</th>\n",
       "      <th>dropoff_datetime</th>\n",
       "      <th>passenger_count</th>\n",
       "      <th>pickup_longitude</th>\n",
       "      <th>pickup_latitude</th>\n",
       "      <th>dropoff_longitude</th>\n",
       "      <th>dropoff_latitude</th>\n",
       "      <th>store_and_fwd_flag</th>\n",
       "      <th>trip_duration</th>\n",
       "    </tr>\n",
       "  </thead>\n",
       "  <tbody>\n",
       "    <tr>\n",
       "      <th>0</th>\n",
       "      <td>id2875421</td>\n",
       "      <td>2</td>\n",
       "      <td>2016-03-14 17:24:55</td>\n",
       "      <td>2016-03-14 17:32:30</td>\n",
       "      <td>1</td>\n",
       "      <td>-73.982155</td>\n",
       "      <td>40.767937</td>\n",
       "      <td>-73.96463</td>\n",
       "      <td>40.765602</td>\n",
       "      <td>N</td>\n",
       "      <td>455</td>\n",
       "    </tr>\n",
       "  </tbody>\n",
       "</table>\n",
       "</div>"
      ],
      "text/plain": [
       "          id  vendor_id      pickup_datetime     dropoff_datetime  \\\n",
       "0  id2875421          2  2016-03-14 17:24:55  2016-03-14 17:32:30   \n",
       "\n",
       "   passenger_count  pickup_longitude  pickup_latitude  dropoff_longitude  \\\n",
       "0                1        -73.982155        40.767937          -73.96463   \n",
       "\n",
       "   dropoff_latitude store_and_fwd_flag  trip_duration  \n",
       "0         40.765602                  N            455  "
      ]
     },
     "execution_count": 182,
     "metadata": {},
     "output_type": "execute_result"
    }
   ],
   "source": [
    "train.head(1)"
   ]
  },
  {
   "cell_type": "code",
   "execution_count": 183,
   "metadata": {},
   "outputs": [
    {
     "data": {
      "text/html": [
       "<div>\n",
       "<style>\n",
       "    .dataframe thead tr:only-child th {\n",
       "        text-align: right;\n",
       "    }\n",
       "\n",
       "    .dataframe thead th {\n",
       "        text-align: left;\n",
       "    }\n",
       "\n",
       "    .dataframe tbody tr th {\n",
       "        vertical-align: top;\n",
       "    }\n",
       "</style>\n",
       "<table border=\"1\" class=\"dataframe\">\n",
       "  <thead>\n",
       "    <tr style=\"text-align: right;\">\n",
       "      <th></th>\n",
       "      <th>id</th>\n",
       "      <th>vendor_id</th>\n",
       "      <th>pickup_datetime</th>\n",
       "      <th>passenger_count</th>\n",
       "      <th>pickup_longitude</th>\n",
       "      <th>pickup_latitude</th>\n",
       "      <th>dropoff_longitude</th>\n",
       "      <th>dropoff_latitude</th>\n",
       "      <th>store_and_fwd_flag</th>\n",
       "    </tr>\n",
       "  </thead>\n",
       "  <tbody>\n",
       "    <tr>\n",
       "      <th>0</th>\n",
       "      <td>id3004672</td>\n",
       "      <td>1</td>\n",
       "      <td>2016-06-30 23:59:58</td>\n",
       "      <td>1</td>\n",
       "      <td>-73.988129</td>\n",
       "      <td>40.732029</td>\n",
       "      <td>-73.990173</td>\n",
       "      <td>40.75668</td>\n",
       "      <td>N</td>\n",
       "    </tr>\n",
       "  </tbody>\n",
       "</table>\n",
       "</div>"
      ],
      "text/plain": [
       "          id  vendor_id      pickup_datetime  passenger_count  \\\n",
       "0  id3004672          1  2016-06-30 23:59:58                1   \n",
       "\n",
       "   pickup_longitude  pickup_latitude  dropoff_longitude  dropoff_latitude  \\\n",
       "0        -73.988129        40.732029         -73.990173          40.75668   \n",
       "\n",
       "  store_and_fwd_flag  \n",
       "0                  N  "
      ]
     },
     "execution_count": 183,
     "metadata": {},
     "output_type": "execute_result"
    }
   ],
   "source": [
    "test.head(1)"
   ]
  },
  {
   "cell_type": "code",
   "execution_count": 184,
   "metadata": {},
   "outputs": [
    {
     "data": {
      "text/html": [
       "<div>\n",
       "<style>\n",
       "    .dataframe thead tr:only-child th {\n",
       "        text-align: right;\n",
       "    }\n",
       "\n",
       "    .dataframe thead th {\n",
       "        text-align: left;\n",
       "    }\n",
       "\n",
       "    .dataframe tbody tr th {\n",
       "        vertical-align: top;\n",
       "    }\n",
       "</style>\n",
       "<table border=\"1\" class=\"dataframe\">\n",
       "  <thead>\n",
       "    <tr style=\"text-align: right;\">\n",
       "      <th></th>\n",
       "      <th>id</th>\n",
       "      <th>trip_duration</th>\n",
       "    </tr>\n",
       "  </thead>\n",
       "  <tbody>\n",
       "    <tr>\n",
       "      <th>0</th>\n",
       "      <td>id3004672</td>\n",
       "      <td>959</td>\n",
       "    </tr>\n",
       "  </tbody>\n",
       "</table>\n",
       "</div>"
      ],
      "text/plain": [
       "          id  trip_duration\n",
       "0  id3004672            959"
      ]
     },
     "execution_count": 184,
     "metadata": {},
     "output_type": "execute_result"
    }
   ],
   "source": [
    "sample_submission.head(1)"
   ]
  },
  {
   "cell_type": "code",
   "execution_count": 185,
   "metadata": {},
   "outputs": [
    {
     "data": {
      "text/plain": [
       "Index(['id', 'vendor_id', 'pickup_datetime', 'dropoff_datetime',\n",
       "       'passenger_count', 'pickup_longitude', 'pickup_latitude',\n",
       "       'dropoff_longitude', 'dropoff_latitude', 'store_and_fwd_flag',\n",
       "       'trip_duration'],\n",
       "      dtype='object')"
      ]
     },
     "execution_count": 185,
     "metadata": {},
     "output_type": "execute_result"
    }
   ],
   "source": [
    "train.columns"
   ]
  },
  {
   "cell_type": "code",
   "execution_count": 186,
   "metadata": {},
   "outputs": [
    {
     "data": {
      "text/plain": [
       "Index(['id', 'vendor_id', 'pickup_datetime', 'passenger_count',\n",
       "       'pickup_longitude', 'pickup_latitude', 'dropoff_longitude',\n",
       "       'dropoff_latitude', 'store_and_fwd_flag'],\n",
       "      dtype='object')"
      ]
     },
     "execution_count": 186,
     "metadata": {},
     "output_type": "execute_result"
    }
   ],
   "source": [
    "test.columns"
   ]
  },
  {
   "cell_type": "code",
   "execution_count": 187,
   "metadata": {},
   "outputs": [
    {
     "data": {
      "text/plain": [
       "1458644"
      ]
     },
     "execution_count": 187,
     "metadata": {},
     "output_type": "execute_result"
    }
   ],
   "source": [
    "len(train)"
   ]
  },
  {
   "cell_type": "code",
   "execution_count": 188,
   "metadata": {},
   "outputs": [
    {
     "data": {
      "text/plain": [
       "625134"
      ]
     },
     "execution_count": 188,
     "metadata": {},
     "output_type": "execute_result"
    }
   ],
   "source": [
    "len(test)"
   ]
  },
  {
   "cell_type": "code",
   "execution_count": 189,
   "metadata": {},
   "outputs": [
    {
     "data": {
      "text/plain": [
       "['dropoff_datetime', 'trip_duration']"
      ]
     },
     "execution_count": 189,
     "metadata": {},
     "output_type": "execute_result"
    }
   ],
   "source": [
    "# Extra features in train (which are note present in test)\n",
    "[column for column in train.columns if column not in test.columns]"
   ]
  },
  {
   "cell_type": "markdown",
   "metadata": {},
   "source": [
    "# III. Cleaning"
   ]
  },
  {
   "cell_type": "code",
   "execution_count": 190,
   "metadata": {},
   "outputs": [
    {
     "data": {
      "text/plain": [
       "id                    0\n",
       "vendor_id             0\n",
       "pickup_datetime       0\n",
       "dropoff_datetime      0\n",
       "passenger_count       0\n",
       "pickup_longitude      0\n",
       "pickup_latitude       0\n",
       "dropoff_longitude     0\n",
       "dropoff_latitude      0\n",
       "store_and_fwd_flag    0\n",
       "trip_duration         0\n",
       "dtype: int64"
      ]
     },
     "execution_count": 190,
     "metadata": {},
     "output_type": "execute_result"
    }
   ],
   "source": [
    "train.isnull().sum()"
   ]
  },
  {
   "cell_type": "code",
   "execution_count": 191,
   "metadata": {},
   "outputs": [
    {
     "data": {
      "text/html": [
       "<div>\n",
       "<style>\n",
       "    .dataframe thead tr:only-child th {\n",
       "        text-align: right;\n",
       "    }\n",
       "\n",
       "    .dataframe thead th {\n",
       "        text-align: left;\n",
       "    }\n",
       "\n",
       "    .dataframe tbody tr th {\n",
       "        vertical-align: top;\n",
       "    }\n",
       "</style>\n",
       "<table border=\"1\" class=\"dataframe\">\n",
       "  <thead>\n",
       "    <tr style=\"text-align: right;\">\n",
       "      <th></th>\n",
       "      <th>id</th>\n",
       "      <th>vendor_id</th>\n",
       "      <th>pickup_datetime</th>\n",
       "      <th>dropoff_datetime</th>\n",
       "      <th>passenger_count</th>\n",
       "      <th>pickup_longitude</th>\n",
       "      <th>pickup_latitude</th>\n",
       "      <th>dropoff_longitude</th>\n",
       "      <th>dropoff_latitude</th>\n",
       "      <th>store_and_fwd_flag</th>\n",
       "      <th>trip_duration</th>\n",
       "    </tr>\n",
       "  </thead>\n",
       "  <tbody>\n",
       "  </tbody>\n",
       "</table>\n",
       "</div>"
      ],
      "text/plain": [
       "Empty DataFrame\n",
       "Columns: [id, vendor_id, pickup_datetime, dropoff_datetime, passenger_count, pickup_longitude, pickup_latitude, dropoff_longitude, dropoff_latitude, store_and_fwd_flag, trip_duration]\n",
       "Index: []"
      ]
     },
     "execution_count": 191,
     "metadata": {},
     "output_type": "execute_result"
    }
   ],
   "source": [
    "train[train.isnull().any(axis=1)] #No missing values"
   ]
  },
  {
   "cell_type": "code",
   "execution_count": 5,
   "metadata": {
    "collapsed": true
   },
   "outputs": [],
   "source": [
    "def remove_outliers(old_df,number_of_std,columns=\"All\",skip=\"None\"):\n",
    "    \"\"\"\n",
    "    Removes outliers from a dataframe.\n",
    "    \n",
    "    Parameters:\n",
    "    old_df: Series or dataframe\n",
    "    \n",
    "    number_of_std: Number of standard deviations for threshhold. \n",
    "                   Function will remove all outliers beyond this many standard deviations.\n",
    "                   \n",
    "    columns: The columns upon which the operation will be performed. (List of column names)\n",
    "    \n",
    "    skip: List of columns to be skipped.\n",
    "    \n",
    "    Returns:\n",
    "    A dataframe with the outliers removed.\n",
    "    \n",
    "    \"\"\"\n",
    "    \n",
    "    if isinstance(old_df,pd.core.series.Series): #If series passed, then only \n",
    "        current_series = old_df #set current series\n",
    "        \n",
    "        mean = np.mean(current_series)    #Mean\n",
    "        std = np.std(current_series)      #Std\n",
    "        threshold = number_of_std*std     #Threshhold = number of std * std\n",
    "        \n",
    "        new_df = old_df[np.abs(current_series-mean)<threshold] #Remove outliers from series\n",
    "    else:\n",
    "        if columns==\"All\": #Set columns\n",
    "            columns=old_df.columns\n",
    "            \n",
    "        if skip!=\"None\": #Skip any columns to be skipped\n",
    "            columns = columns-skip\n",
    "        \n",
    "        for column in columns:\n",
    "            current_series = old_df[column] #Iterate through each column\n",
    "\n",
    "            mean = np.mean(current_series) #Set up threshold for which x should be within\n",
    "            std = np.std(current_series)\n",
    "            threshold = number_of_std*std\n",
    "\n",
    "            new_df = old_df[np.abs(current_series-mean)<threshold] #Remove outliers from this column\n",
    "    \n",
    "    return new_df"
   ]
  },
  {
   "cell_type": "code",
   "execution_count": 193,
   "metadata": {
    "collapsed": true
   },
   "outputs": [],
   "source": [
    "#Remove outlier trips (in case length was caused by unusual circumstances)\n",
    "#Outlier here defined as points more than 4 standard deviations from the mean (approx 0.3%)\n",
    "#train = remove_outliers(train,4,columns=['trip_duration']) "
   ]
  },
  {
   "cell_type": "code",
   "execution_count": 6,
   "metadata": {
    "collapsed": true
   },
   "outputs": [],
   "source": [
    "train = remove_outliers(train,4,columns=['trip_duration','pickup_longitude','pickup_latitude', 'dropoff_longitude','dropoff_latitude']) "
   ]
  },
  {
   "cell_type": "markdown",
   "metadata": {},
   "source": [
    "***\n",
    "# IV. Feature Engineering\n",
    "\n",
    "Feature engineering:\n",
    "- Direct Distance (as the crow flies)\n",
    "- Manhattan distance\n",
    "- Hour, month, and day of the week of departure\n",
    "- Weekend boolean variable"
   ]
  },
  {
   "cell_type": "markdown",
   "metadata": {},
   "source": [
    "### FE 1: 'dist' (distance travelled)"
   ]
  },
  {
   "cell_type": "code",
   "execution_count": 7,
   "metadata": {
    "collapsed": true
   },
   "outputs": [],
   "source": [
    "train['dist'] = np.sqrt((train['pickup_latitude']-train['dropoff_latitude'])**2 \n",
    "                         + (train['pickup_longitude']-train['dropoff_longitude'])**2) \n",
    "\n",
    "test['dist'] = np.sqrt((test['pickup_latitude']-test['dropoff_latitude'])**2 \n",
    "                         + (test['pickup_longitude']-test['dropoff_longitude'])**2) "
   ]
  },
  {
   "cell_type": "markdown",
   "metadata": {},
   "source": [
    "# FE 2: 'manh' (manhattan distance)"
   ]
  },
  {
   "cell_type": "code",
   "execution_count": 8,
   "metadata": {
    "collapsed": true
   },
   "outputs": [],
   "source": [
    "train['manh'] = abs(train['pickup_latitude']-train['dropoff_latitude']) + abs(train['pickup_longitude']-train['dropoff_longitude'])\n",
    "\n",
    "test['manh'] = abs(test['pickup_latitude']-test['dropoff_latitude']) + abs(test['pickup_longitude']-test['dropoff_longitude'])"
   ]
  },
  {
   "cell_type": "markdown",
   "metadata": {},
   "source": [
    "### FE 3: 'hour' (hour picked up), 'month, and 'dayofweek' (day of the week picked up)"
   ]
  },
  {
   "cell_type": "code",
   "execution_count": 9,
   "metadata": {
    "collapsed": true
   },
   "outputs": [],
   "source": [
    "#Convert to datetime\n",
    "train['pickup_datetime'] = pd.to_datetime(train['pickup_datetime'])\n",
    "test['pickup_datetime'] = pd.to_datetime(test['pickup_datetime'])"
   ]
  },
  {
   "cell_type": "code",
   "execution_count": 10,
   "metadata": {
    "collapsed": true
   },
   "outputs": [],
   "source": [
    "#Hour\n",
    "train['hour'] = train['pickup_datetime'].dt.hour\n",
    "test['hour'] = test['pickup_datetime'].dt.hour\n",
    "\n",
    "#Day of the week\n",
    "train['dayofweek'] = train['pickup_datetime'].dt.dayofweek\n",
    "test['dayofweek'] = test['pickup_datetime'].dt.dayofweek\n",
    "\n",
    "#Month\n",
    "train['month'] = train['pickup_datetime'].dt.month\n",
    "test['month'] = test['pickup_datetime'].dt.month"
   ]
  },
  {
   "cell_type": "markdown",
   "metadata": {},
   "source": [
    "# FE 4: 'weekend'"
   ]
  },
  {
   "cell_type": "code",
   "execution_count": 11,
   "metadata": {
    "collapsed": true
   },
   "outputs": [],
   "source": [
    "train['weekend']=train['dayofweek'].apply(lambda x: 1 if x>5 else 0)\n",
    "test['weekend']=test['dayofweek'].apply(lambda x: 1 if x>5 else 0)"
   ]
  },
  {
   "cell_type": "markdown",
   "metadata": {},
   "source": [
    "# FE 5: PCA of longtitude and latitude"
   ]
  },
  {
   "cell_type": "code",
   "execution_count": null,
   "metadata": {
    "collapsed": true
   },
   "outputs": [],
   "source": [
    "#To complete for a later attempt"
   ]
  },
  {
   "cell_type": "markdown",
   "metadata": {},
   "source": [
    "***\n",
    "# V. Visualization"
   ]
  },
  {
   "cell_type": "code",
   "execution_count": 22,
   "metadata": {},
   "outputs": [
    {
     "data": {
      "text/plain": [
       "(0, 5000)"
      ]
     },
     "execution_count": 22,
     "metadata": {},
     "output_type": "execute_result"
    },
    {
     "data": {
      "image/png": "[encoded data removed]",
      "text/plain": [
       "<matplotlib.figure.Figure at 0x1d02a9aaa90>"
      ]
     },
     "metadata": {},
     "output_type": "display_data"
    }
   ],
   "source": [
    "plt.figure()\n",
    "train[train['vendor_id']==1]['trip_duration'].hist(bins=40)\n",
    "plt.xlim(0,5000)"
   ]
  },
  {
   "cell_type": "code",
   "execution_count": 23,
   "metadata": {},
   "outputs": [
    {
     "data": {
      "text/plain": [
       "(0, 5000)"
      ]
     },
     "execution_count": 23,
     "metadata": {},
     "output_type": "execute_result"
    },
    {
     "data": {
      "image/png": "[encoded data removed]",
      "text/plain": [
       "<matplotlib.figure.Figure at 0x1d02a9aaa58>"
      ]
     },
     "metadata": {},
     "output_type": "display_data"
    }
   ],
   "source": [
    "plt.figure()\n",
    "train[train['vendor_id']==2]['trip_duration'].hist(bins=40)\n",
    "plt.xlim(0,5000)"
   ]
  },
  {
   "cell_type": "code",
   "execution_count": 24,
   "metadata": {},
   "outputs": [
    {
     "name": "stderr",
     "output_type": "stream",
     "text": [
      "C:\\Users\\Josh\\Anaconda3\\lib\\site-packages\\seaborn\\categorical.py:342: DeprecationWarning: pandas.core.common.is_categorical_dtype is deprecated. import from the public API: pandas.api.types.is_categorical_dtype instead\n",
      "  elif is_categorical(y):\n"
     ]
    },
    {
     "data": {
      "text/plain": [
       "<matplotlib.axes._subplots.AxesSubplot at 0x1d02beebf60>"
      ]
     },
     "execution_count": 24,
     "metadata": {},
     "output_type": "execute_result"
    },
    {
     "data": {
      "image/png": "[encoded data removed]",
      "text/plain": [
       "<matplotlib.figure.Figure at 0x1d02bdf84a8>"
      ]
     },
     "metadata": {},
     "output_type": "display_data"
    }
   ],
   "source": [
    "#plt.scatter(x=train['passenger_count'],y=train['trip_duration'])\n",
    "sns.boxplot(x='passenger_count',y='trip_duration',data=train)"
   ]
  },
  {
   "cell_type": "code",
   "execution_count": 25,
   "metadata": {
    "collapsed": true
   },
   "outputs": [],
   "source": [
    "#train[['hour','dist','trip_duration']].corr()"
   ]
  },
  {
   "cell_type": "code",
   "execution_count": 26,
   "metadata": {
    "collapsed": true
   },
   "outputs": [],
   "source": [
    "#sns.barplot(x='hour',y='trip_duration',data=train)"
   ]
  },
  {
   "cell_type": "markdown",
   "metadata": {},
   "source": [
    "# VI. Feature Selection"
   ]
  },
  {
   "cell_type": "code",
   "execution_count": 121,
   "metadata": {},
   "outputs": [
    {
     "data": {
      "text/plain": [
       "Index(['id', 'vendor_id', 'pickup_datetime', 'dropoff_datetime',\n",
       "       'passenger_count', 'pickup_longitude', 'pickup_latitude',\n",
       "       'dropoff_longitude', 'dropoff_latitude', 'store_and_fwd_flag',\n",
       "       'trip_duration', 'dist', 'manh', 'hour', 'dayofweek', 'month',\n",
       "       'weekend'],\n",
       "      dtype='object')"
      ]
     },
     "execution_count": 121,
     "metadata": {},
     "output_type": "execute_result"
    }
   ],
   "source": [
    "train.columns"
   ]
  },
  {
   "cell_type": "code",
   "execution_count": 12,
   "metadata": {
    "collapsed": true
   },
   "outputs": [],
   "source": [
    "features= ['dist', 'manh', 'hour', 'dayofweek', 'month', 'weekend','pickup_longitude','pickup_latitude','dropoff_longitude','dropoff_latitude']"
   ]
  },
  {
   "cell_type": "code",
   "execution_count": 13,
   "metadata": {
    "collapsed": true
   },
   "outputs": [],
   "source": [
    "X = train[features]\n",
    "y = train['trip_duration']\n",
    "\n",
    "X_final = test[features]"
   ]
  },
  {
   "cell_type": "markdown",
   "metadata": {},
   "source": [
    "***\n",
    "# VI. Fitting and predicting"
   ]
  },
  {
   "cell_type": "code",
   "execution_count": 14,
   "metadata": {
    "collapsed": true
   },
   "outputs": [],
   "source": [
    "from sklearn.model_selection import train_test_split\n",
    "X_train, X_test, y_train, y_test = train_test_split(X,y, test_size=0.2, random_state=42)"
   ]
  },
  {
   "cell_type": "markdown",
   "metadata": {},
   "source": [
    "### Model: Gradient Boosting Regressor"
   ]
  },
  {
   "cell_type": "code",
   "execution_count": 57,
   "metadata": {},
   "outputs": [
    {
     "data": {
      "text/plain": [
       "0.40295472958427225"
      ]
     },
     "execution_count": 57,
     "metadata": {},
     "output_type": "execute_result"
    }
   ],
   "source": [
    "gm = GradientBoostingRegressor(n_estimators=5) \n",
    "#Change n_estimators to a higher number (e.g. 100, 150 or 200) for a more accurate score\n",
    "#Note: it takes a long time to run with a higher number of estimators.\n",
    "\n",
    "gm.fit(X_train,y_train)\n",
    "\n",
    "gm.score(X_test,y_test)"
   ]
  },
  {
   "cell_type": "code",
   "execution_count": null,
   "metadata": {
    "collapsed": true
   },
   "outputs": [],
   "source": [
    "gm.fit(X,y)\n",
    "\n",
    "gm_pred = gm.pred(X_final)"
   ]
  },
  {
   "cell_type": "code",
   "execution_count": null,
   "metadata": {
    "collapsed": true
   },
   "outputs": [],
   "source": [
    "gm_pred[gm_pred<0]"
   ]
  },
  {
   "cell_type": "code",
   "execution_count": null,
   "metadata": {
    "collapsed": true
   },
   "outputs": [],
   "source": [
    "#quick fix until I figure out how to make gm_pred[gm_pred<0] empty\n",
    "\n",
    "gm_pred[gm_pred<0]=2"
   ]
  },
  {
   "cell_type": "markdown",
   "metadata": {},
   "source": [
    "## Model: Random Forest Regressor"
   ]
  },
  {
   "cell_type": "code",
   "execution_count": 15,
   "metadata": {
    "collapsed": true
   },
   "outputs": [],
   "source": [
    "from sklearn.ensemble import RandomForestRegressor"
   ]
  },
  {
   "cell_type": "code",
   "execution_count": 212,
   "metadata": {},
   "outputs": [
    {
     "data": {
      "text/plain": [
       "1395863"
      ]
     },
     "execution_count": 212,
     "metadata": {},
     "output_type": "execute_result"
    }
   ],
   "source": [
    "len(X)"
   ]
  },
  {
   "cell_type": "code",
   "execution_count": 213,
   "metadata": {},
   "outputs": [
    {
     "data": {
      "text/plain": [
       "1395863"
      ]
     },
     "execution_count": 213,
     "metadata": {},
     "output_type": "execute_result"
    }
   ],
   "source": [
    "len(y)"
   ]
  },
  {
   "cell_type": "code",
   "execution_count": 214,
   "metadata": {},
   "outputs": [
    {
     "name": "stderr",
     "output_type": "stream",
     "text": [
      "C:\\Users\\Josh\\Anaconda3\\lib\\site-packages\\sklearn\\ensemble\\forest.py:720: UserWarning: Some inputs do not have OOB scores. This probably means too few trees were used to compute any reliable oob estimates.\n",
      "  warn(\"Some inputs do not have OOB scores. \"\n"
     ]
    },
    {
     "data": {
      "text/plain": [
       "0.0094586326167410695"
      ]
     },
     "execution_count": 214,
     "metadata": {},
     "output_type": "execute_result"
    }
   ],
   "source": [
    "rfc = RandomForestRegressor(n_estimators=10, min_samples_leaf=100, oob_score=True,n_jobs=-1)\n",
    "\n",
    "rfc.fit(X_train,y_train)\n",
    "\n",
    "rfc.oob_score_"
   ]
  },
  {
   "cell_type": "code",
   "execution_count": 215,
   "metadata": {},
   "outputs": [
    {
     "data": {
      "text/plain": [
       "0.0034658340510922425"
      ]
     },
     "execution_count": 215,
     "metadata": {},
     "output_type": "execute_result"
    }
   ],
   "source": [
    "rfc.score(X_test,y_test)"
   ]
  },
  {
   "cell_type": "code",
   "execution_count": null,
   "metadata": {
    "collapsed": true
   },
   "outputs": [],
   "source": []
  },
  {
   "cell_type": "code",
   "execution_count": 216,
   "metadata": {},
   "outputs": [
    {
     "ename": "KeyboardInterrupt",
     "evalue": "",
     "output_type": "error",
     "traceback": [
      "\u001b[1;31m---------------------------------------------------------------------------\u001b[0m",
      "\u001b[1;31mKeyboardInterrupt\u001b[0m                         Traceback (most recent call last)",
      "\u001b[1;32m<ipython-input-216-1f806ca37605>\u001b[0m in \u001b[0;36m<module>\u001b[1;34m()\u001b[0m\n\u001b[0;32m      1\u001b[0m \u001b[0mrfc\u001b[0m \u001b[1;33m=\u001b[0m \u001b[0mRandomForestRegressor\u001b[0m\u001b[1;33m(\u001b[0m\u001b[0mn_estimators\u001b[0m\u001b[1;33m=\u001b[0m\u001b[1;36m50\u001b[0m\u001b[1;33m,\u001b[0m \u001b[0mmin_samples_leaf\u001b[0m\u001b[1;33m=\u001b[0m\u001b[1;36m100\u001b[0m\u001b[1;33m,\u001b[0m \u001b[0moob_score\u001b[0m\u001b[1;33m=\u001b[0m\u001b[1;32mTrue\u001b[0m\u001b[1;33m,\u001b[0m\u001b[0mn_jobs\u001b[0m\u001b[1;33m=\u001b[0m\u001b[1;33m-\u001b[0m\u001b[1;36m1\u001b[0m\u001b[1;33m)\u001b[0m\u001b[1;33m\u001b[0m\u001b[0m\n\u001b[0;32m      2\u001b[0m \u001b[1;33m\u001b[0m\u001b[0m\n\u001b[1;32m----> 3\u001b[1;33m \u001b[0mrfc\u001b[0m\u001b[1;33m.\u001b[0m\u001b[0mfit\u001b[0m\u001b[1;33m(\u001b[0m\u001b[0mX\u001b[0m\u001b[1;33m,\u001b[0m\u001b[0my\u001b[0m\u001b[1;33m)\u001b[0m\u001b[1;33m\u001b[0m\u001b[0m\n\u001b[0m\u001b[0;32m      4\u001b[0m \u001b[1;33m\u001b[0m\u001b[0m\n\u001b[0;32m      5\u001b[0m \u001b[0mrfc\u001b[0m\u001b[1;33m.\u001b[0m\u001b[0moob_score_\u001b[0m\u001b[1;33m\u001b[0m\u001b[0m\n",
      "\u001b[1;32mC:\\Users\\Josh\\Anaconda3\\lib\\site-packages\\sklearn\\ensemble\\forest.py\u001b[0m in \u001b[0;36mfit\u001b[1;34m(self, X, y, sample_weight)\u001b[0m\n\u001b[0;32m    325\u001b[0m                     \u001b[0mt\u001b[0m\u001b[1;33m,\u001b[0m \u001b[0mself\u001b[0m\u001b[1;33m,\u001b[0m \u001b[0mX\u001b[0m\u001b[1;33m,\u001b[0m \u001b[0my\u001b[0m\u001b[1;33m,\u001b[0m \u001b[0msample_weight\u001b[0m\u001b[1;33m,\u001b[0m \u001b[0mi\u001b[0m\u001b[1;33m,\u001b[0m \u001b[0mlen\u001b[0m\u001b[1;33m(\u001b[0m\u001b[0mtrees\u001b[0m\u001b[1;33m)\u001b[0m\u001b[1;33m,\u001b[0m\u001b[1;33m\u001b[0m\u001b[0m\n\u001b[0;32m    326\u001b[0m                     verbose=self.verbose, class_weight=self.class_weight)\n\u001b[1;32m--> 327\u001b[1;33m                 for i, t in enumerate(trees))\n\u001b[0m\u001b[0;32m    328\u001b[0m \u001b[1;33m\u001b[0m\u001b[0m\n\u001b[0;32m    329\u001b[0m             \u001b[1;31m# Collect newly grown trees\u001b[0m\u001b[1;33m\u001b[0m\u001b[1;33m\u001b[0m\u001b[0m\n",
      "\u001b[1;32mC:\\Users\\Josh\\Anaconda3\\lib\\site-packages\\sklearn\\externals\\joblib\\parallel.py\u001b[0m in \u001b[0;36m__call__\u001b[1;34m(self, iterable)\u001b[0m\n\u001b[0;32m    787\u001b[0m                 \u001b[1;31m# consumption.\u001b[0m\u001b[1;33m\u001b[0m\u001b[1;33m\u001b[0m\u001b[0m\n\u001b[0;32m    788\u001b[0m                 \u001b[0mself\u001b[0m\u001b[1;33m.\u001b[0m\u001b[0m_iterating\u001b[0m \u001b[1;33m=\u001b[0m \u001b[1;32mFalse\u001b[0m\u001b[1;33m\u001b[0m\u001b[0m\n\u001b[1;32m--> 789\u001b[1;33m             \u001b[0mself\u001b[0m\u001b[1;33m.\u001b[0m\u001b[0mretrieve\u001b[0m\u001b[1;33m(\u001b[0m\u001b[1;33m)\u001b[0m\u001b[1;33m\u001b[0m\u001b[0m\n\u001b[0m\u001b[0;32m    790\u001b[0m             \u001b[1;31m# Make sure that we get a last message telling us we are done\u001b[0m\u001b[1;33m\u001b[0m\u001b[1;33m\u001b[0m\u001b[0m\n\u001b[0;32m    791\u001b[0m             \u001b[0melapsed_time\u001b[0m \u001b[1;33m=\u001b[0m \u001b[0mtime\u001b[0m\u001b[1;33m.\u001b[0m\u001b[0mtime\u001b[0m\u001b[1;33m(\u001b[0m\u001b[1;33m)\u001b[0m \u001b[1;33m-\u001b[0m \u001b[0mself\u001b[0m\u001b[1;33m.\u001b[0m\u001b[0m_start_time\u001b[0m\u001b[1;33m\u001b[0m\u001b[0m\n",
      "\u001b[1;32mC:\\Users\\Josh\\Anaconda3\\lib\\site-packages\\sklearn\\externals\\joblib\\parallel.py\u001b[0m in \u001b[0;36mretrieve\u001b[1;34m(self)\u001b[0m\n\u001b[0;32m    697\u001b[0m             \u001b[1;32mtry\u001b[0m\u001b[1;33m:\u001b[0m\u001b[1;33m\u001b[0m\u001b[0m\n\u001b[0;32m    698\u001b[0m                 \u001b[1;32mif\u001b[0m \u001b[0mgetattr\u001b[0m\u001b[1;33m(\u001b[0m\u001b[0mself\u001b[0m\u001b[1;33m.\u001b[0m\u001b[0m_backend\u001b[0m\u001b[1;33m,\u001b[0m \u001b[1;34m'supports_timeout'\u001b[0m\u001b[1;33m,\u001b[0m \u001b[1;32mFalse\u001b[0m\u001b[1;33m)\u001b[0m\u001b[1;33m:\u001b[0m\u001b[1;33m\u001b[0m\u001b[0m\n\u001b[1;32m--> 699\u001b[1;33m                     \u001b[0mself\u001b[0m\u001b[1;33m.\u001b[0m\u001b[0m_output\u001b[0m\u001b[1;33m.\u001b[0m\u001b[0mextend\u001b[0m\u001b[1;33m(\u001b[0m\u001b[0mjob\u001b[0m\u001b[1;33m.\u001b[0m\u001b[0mget\u001b[0m\u001b[1;33m(\u001b[0m\u001b[0mtimeout\u001b[0m\u001b[1;33m=\u001b[0m\u001b[0mself\u001b[0m\u001b[1;33m.\u001b[0m\u001b[0mtimeout\u001b[0m\u001b[1;33m)\u001b[0m\u001b[1;33m)\u001b[0m\u001b[1;33m\u001b[0m\u001b[0m\n\u001b[0m\u001b[0;32m    700\u001b[0m                 \u001b[1;32melse\u001b[0m\u001b[1;33m:\u001b[0m\u001b[1;33m\u001b[0m\u001b[0m\n\u001b[0;32m    701\u001b[0m                     \u001b[0mself\u001b[0m\u001b[1;33m.\u001b[0m\u001b[0m_output\u001b[0m\u001b[1;33m.\u001b[0m\u001b[0mextend\u001b[0m\u001b[1;33m(\u001b[0m\u001b[0mjob\u001b[0m\u001b[1;33m.\u001b[0m\u001b[0mget\u001b[0m\u001b[1;33m(\u001b[0m\u001b[1;33m)\u001b[0m\u001b[1;33m)\u001b[0m\u001b[1;33m\u001b[0m\u001b[0m\n",
      "\u001b[1;32mC:\\Users\\Josh\\Anaconda3\\lib\\multiprocessing\\pool.py\u001b[0m in \u001b[0;36mget\u001b[1;34m(self, timeout)\u001b[0m\n\u001b[0;32m    600\u001b[0m \u001b[1;33m\u001b[0m\u001b[0m\n\u001b[0;32m    601\u001b[0m     \u001b[1;32mdef\u001b[0m \u001b[0mget\u001b[0m\u001b[1;33m(\u001b[0m\u001b[0mself\u001b[0m\u001b[1;33m,\u001b[0m \u001b[0mtimeout\u001b[0m\u001b[1;33m=\u001b[0m\u001b[1;32mNone\u001b[0m\u001b[1;33m)\u001b[0m\u001b[1;33m:\u001b[0m\u001b[1;33m\u001b[0m\u001b[0m\n\u001b[1;32m--> 602\u001b[1;33m         \u001b[0mself\u001b[0m\u001b[1;33m.\u001b[0m\u001b[0mwait\u001b[0m\u001b[1;33m(\u001b[0m\u001b[0mtimeout\u001b[0m\u001b[1;33m)\u001b[0m\u001b[1;33m\u001b[0m\u001b[0m\n\u001b[0m\u001b[0;32m    603\u001b[0m         \u001b[1;32mif\u001b[0m \u001b[1;32mnot\u001b[0m \u001b[0mself\u001b[0m\u001b[1;33m.\u001b[0m\u001b[0mready\u001b[0m\u001b[1;33m(\u001b[0m\u001b[1;33m)\u001b[0m\u001b[1;33m:\u001b[0m\u001b[1;33m\u001b[0m\u001b[0m\n\u001b[0;32m    604\u001b[0m             \u001b[1;32mraise\u001b[0m \u001b[0mTimeoutError\u001b[0m\u001b[1;33m\u001b[0m\u001b[0m\n",
      "\u001b[1;32mC:\\Users\\Josh\\Anaconda3\\lib\\multiprocessing\\pool.py\u001b[0m in \u001b[0;36mwait\u001b[1;34m(self, timeout)\u001b[0m\n\u001b[0;32m    597\u001b[0m \u001b[1;33m\u001b[0m\u001b[0m\n\u001b[0;32m    598\u001b[0m     \u001b[1;32mdef\u001b[0m \u001b[0mwait\u001b[0m\u001b[1;33m(\u001b[0m\u001b[0mself\u001b[0m\u001b[1;33m,\u001b[0m \u001b[0mtimeout\u001b[0m\u001b[1;33m=\u001b[0m\u001b[1;32mNone\u001b[0m\u001b[1;33m)\u001b[0m\u001b[1;33m:\u001b[0m\u001b[1;33m\u001b[0m\u001b[0m\n\u001b[1;32m--> 599\u001b[1;33m         \u001b[0mself\u001b[0m\u001b[1;33m.\u001b[0m\u001b[0m_event\u001b[0m\u001b[1;33m.\u001b[0m\u001b[0mwait\u001b[0m\u001b[1;33m(\u001b[0m\u001b[0mtimeout\u001b[0m\u001b[1;33m)\u001b[0m\u001b[1;33m\u001b[0m\u001b[0m\n\u001b[0m\u001b[0;32m    600\u001b[0m \u001b[1;33m\u001b[0m\u001b[0m\n\u001b[0;32m    601\u001b[0m     \u001b[1;32mdef\u001b[0m \u001b[0mget\u001b[0m\u001b[1;33m(\u001b[0m\u001b[0mself\u001b[0m\u001b[1;33m,\u001b[0m \u001b[0mtimeout\u001b[0m\u001b[1;33m=\u001b[0m\u001b[1;32mNone\u001b[0m\u001b[1;33m)\u001b[0m\u001b[1;33m:\u001b[0m\u001b[1;33m\u001b[0m\u001b[0m\n",
      "\u001b[1;32mC:\\Users\\Josh\\Anaconda3\\lib\\threading.py\u001b[0m in \u001b[0;36mwait\u001b[1;34m(self, timeout)\u001b[0m\n\u001b[0;32m    549\u001b[0m             \u001b[0msignaled\u001b[0m \u001b[1;33m=\u001b[0m \u001b[0mself\u001b[0m\u001b[1;33m.\u001b[0m\u001b[0m_flag\u001b[0m\u001b[1;33m\u001b[0m\u001b[0m\n\u001b[0;32m    550\u001b[0m             \u001b[1;32mif\u001b[0m \u001b[1;32mnot\u001b[0m \u001b[0msignaled\u001b[0m\u001b[1;33m:\u001b[0m\u001b[1;33m\u001b[0m\u001b[0m\n\u001b[1;32m--> 551\u001b[1;33m                 \u001b[0msignaled\u001b[0m \u001b[1;33m=\u001b[0m \u001b[0mself\u001b[0m\u001b[1;33m.\u001b[0m\u001b[0m_cond\u001b[0m\u001b[1;33m.\u001b[0m\u001b[0mwait\u001b[0m\u001b[1;33m(\u001b[0m\u001b[0mtimeout\u001b[0m\u001b[1;33m)\u001b[0m\u001b[1;33m\u001b[0m\u001b[0m\n\u001b[0m\u001b[0;32m    552\u001b[0m             \u001b[1;32mreturn\u001b[0m \u001b[0msignaled\u001b[0m\u001b[1;33m\u001b[0m\u001b[0m\n\u001b[0;32m    553\u001b[0m \u001b[1;33m\u001b[0m\u001b[0m\n",
      "\u001b[1;32mC:\\Users\\Josh\\Anaconda3\\lib\\threading.py\u001b[0m in \u001b[0;36mwait\u001b[1;34m(self, timeout)\u001b[0m\n\u001b[0;32m    293\u001b[0m         \u001b[1;32mtry\u001b[0m\u001b[1;33m:\u001b[0m    \u001b[1;31m# restore state no matter what (e.g., KeyboardInterrupt)\u001b[0m\u001b[1;33m\u001b[0m\u001b[0m\n\u001b[0;32m    294\u001b[0m             \u001b[1;32mif\u001b[0m \u001b[0mtimeout\u001b[0m \u001b[1;32mis\u001b[0m \u001b[1;32mNone\u001b[0m\u001b[1;33m:\u001b[0m\u001b[1;33m\u001b[0m\u001b[0m\n\u001b[1;32m--> 295\u001b[1;33m                 \u001b[0mwaiter\u001b[0m\u001b[1;33m.\u001b[0m\u001b[0macquire\u001b[0m\u001b[1;33m(\u001b[0m\u001b[1;33m)\u001b[0m\u001b[1;33m\u001b[0m\u001b[0m\n\u001b[0m\u001b[0;32m    296\u001b[0m                 \u001b[0mgotit\u001b[0m \u001b[1;33m=\u001b[0m \u001b[1;32mTrue\u001b[0m\u001b[1;33m\u001b[0m\u001b[0m\n\u001b[0;32m    297\u001b[0m             \u001b[1;32melse\u001b[0m\u001b[1;33m:\u001b[0m\u001b[1;33m\u001b[0m\u001b[0m\n",
      "\u001b[1;31mKeyboardInterrupt\u001b[0m: "
     ]
    }
   ],
   "source": [
    "rfc = RandomForestRegressor(n_estimators=50, min_samples_leaf=100, oob_score=True,n_jobs=-1)\n",
    "\n",
    "rfc.fit(X,y)\n",
    "\n",
    "rfc.oob_score_"
   ]
  },
  {
   "cell_type": "code",
   "execution_count": 163,
   "metadata": {},
   "outputs": [
    {
     "data": {
      "text/plain": [
       "0.7681900370447533"
      ]
     },
     "execution_count": 163,
     "metadata": {},
     "output_type": "execute_result"
    }
   ],
   "source": [
    "rfc = RandomForestRegressor(n_estimators=100, min_samples_leaf=100, oob_score=True,n_jobs=-1)\n",
    "\n",
    "rfc.fit(X,y)\n",
    "\n",
    "rfc.oob_score_"
   ]
  },
  {
   "cell_type": "code",
   "execution_count": 167,
   "metadata": {
    "collapsed": true
   },
   "outputs": [],
   "source": [
    "rfc_pred = rfc.predict(X_final)"
   ]
  },
  {
   "cell_type": "markdown",
   "metadata": {},
   "source": [
    "#### Grid Search on RFC"
   ]
  },
  {
   "cell_type": "code",
   "execution_count": 37,
   "metadata": {
    "collapsed": true
   },
   "outputs": [],
   "source": [
    "from sklearn.model_selection import GridSearchCV"
   ]
  },
  {
   "cell_type": "code",
   "execution_count": 70,
   "metadata": {
    "collapsed": true
   },
   "outputs": [],
   "source": [
    "param_grid = [{'n_estimators':[20],'max_features':[2,4,6]}]\n",
    "\n",
    "# {'boostrap':[False],'n_estimators':[1,2,5],'max_features':[2,4,6]}"
   ]
  },
  {
   "cell_type": "code",
   "execution_count": 71,
   "metadata": {
    "collapsed": true
   },
   "outputs": [],
   "source": [
    "rfc = RandomForestRegressor(n_jobs=-1)\n",
    "\n",
    "grid_search = GridSearchCV(rfc, param_grid, cv=5,scoring='neg_mean_squared_error',verbose=1)"
   ]
  },
  {
   "cell_type": "code",
   "execution_count": 72,
   "metadata": {
    "scrolled": true
   },
   "outputs": [
    {
     "name": "stdout",
     "output_type": "stream",
     "text": [
      "Fitting 5 folds for each of 3 candidates, totalling 15 fits\n"
     ]
    },
    {
     "name": "stderr",
     "output_type": "stream",
     "text": [
      "[Parallel(n_jobs=1)]: Done  15 out of  15 | elapsed: 16.2min finished\n"
     ]
    },
    {
     "data": {
      "text/plain": [
       "GridSearchCV(cv=5, error_score='raise',\n",
       "       estimator=RandomForestRegressor(bootstrap=True, criterion='mse', max_depth=None,\n",
       "           max_features='auto', max_leaf_nodes=None,\n",
       "           min_impurity_decrease=0.0, min_impurity_split=None,\n",
       "           min_samples_leaf=1, min_samples_split=2,\n",
       "           min_weight_fraction_leaf=0.0, n_estimators=10, n_jobs=1,\n",
       "           oob_score=False, random_state=None, verbose=0, warm_start=False),\n",
       "       fit_params=None, iid=True, n_jobs=1,\n",
       "       param_grid=[{'n_estimators': [20], 'max_features': [2, 4, 6]}],\n",
       "       pre_dispatch='2*n_jobs', refit=True, return_train_score=True,\n",
       "       scoring='neg_mean_squared_error', verbose=1)"
      ]
     },
     "execution_count": 72,
     "metadata": {},
     "output_type": "execute_result"
    }
   ],
   "source": [
    "grid_search.fit(X_train,y_train)"
   ]
  },
  {
   "cell_type": "code",
   "execution_count": 73,
   "metadata": {},
   "outputs": [
    {
     "data": {
      "text/plain": [
       "{'max_features': 2, 'n_estimators': 20}"
      ]
     },
     "execution_count": 73,
     "metadata": {},
     "output_type": "execute_result"
    }
   ],
   "source": [
    "grid_search.best_params_"
   ]
  },
  {
   "cell_type": "code",
   "execution_count": 87,
   "metadata": {
    "scrolled": true
   },
   "outputs": [
    {
     "name": "stdout",
     "output_type": "stream",
     "text": [
      "Fitting 5 folds for each of 2 candidates, totalling 10 fits\n",
      "[CV] max_features=4, min_samples_split=10000, n_estimators=20 ........\n",
      "[CV]  max_features=4, min_samples_split=10000, n_estimators=20, score=-145397.81951146794, total=   9.5s\n",
      "[CV] max_features=4, min_samples_split=10000, n_estimators=20 ........\n"
     ]
    },
    {
     "name": "stderr",
     "output_type": "stream",
     "text": [
      "[Parallel(n_jobs=1)]: Done   1 out of   1 | elapsed:   10.0s remaining:    0.0s\n"
     ]
    },
    {
     "name": "stdout",
     "output_type": "stream",
     "text": [
      "[CV]  max_features=4, min_samples_split=10000, n_estimators=20, score=-141882.87451954122, total=   9.6s\n",
      "[CV] max_features=4, min_samples_split=10000, n_estimators=20 ........\n"
     ]
    },
    {
     "name": "stderr",
     "output_type": "stream",
     "text": [
      "[Parallel(n_jobs=1)]: Done   2 out of   2 | elapsed:   20.3s remaining:    0.0s\n"
     ]
    },
    {
     "name": "stdout",
     "output_type": "stream",
     "text": [
      "[CV]  max_features=4, min_samples_split=10000, n_estimators=20, score=-135489.92620572716, total=  10.6s\n",
      "[CV] max_features=4, min_samples_split=10000, n_estimators=20 ........\n",
      "[CV]  max_features=4, min_samples_split=10000, n_estimators=20, score=-139505.99966225444, total=   9.6s\n",
      "[CV] max_features=4, min_samples_split=10000, n_estimators=20 ........\n",
      "[CV]  max_features=4, min_samples_split=10000, n_estimators=20, score=-144286.09013394095, total=  10.0s\n",
      "[CV] max_features=4, min_samples_split=100, n_estimators=20 ..........\n",
      "[CV]  max_features=4, min_samples_split=100, n_estimators=20, score=-128119.48116711227, total=  16.6s\n",
      "[CV] max_features=4, min_samples_split=100, n_estimators=20 ..........\n",
      "[CV]  max_features=4, min_samples_split=100, n_estimators=20, score=-125489.77613846741, total=  16.9s\n",
      "[CV] max_features=4, min_samples_split=100, n_estimators=20 ..........\n",
      "[CV]  max_features=4, min_samples_split=100, n_estimators=20, score=-118535.52072299385, total=  16.4s\n",
      "[CV] max_features=4, min_samples_split=100, n_estimators=20 ..........\n",
      "[CV]  max_features=4, min_samples_split=100, n_estimators=20, score=-122200.99363832774, total=  16.9s\n",
      "[CV] max_features=4, min_samples_split=100, n_estimators=20 ..........\n",
      "[CV]  max_features=4, min_samples_split=100, n_estimators=20, score=-127525.3895413708, total=  15.8s\n"
     ]
    },
    {
     "name": "stderr",
     "output_type": "stream",
     "text": [
      "[Parallel(n_jobs=1)]: Done  10 out of  10 | elapsed:  2.4min finished\n"
     ]
    },
    {
     "data": {
      "text/plain": [
       "GridSearchCV(cv=5, error_score='raise',\n",
       "       estimator=RandomForestRegressor(bootstrap=True, criterion='mse', max_depth=None,\n",
       "           max_features='auto', max_leaf_nodes=None,\n",
       "           min_impurity_decrease=0.0, min_impurity_split=None,\n",
       "           min_samples_leaf=1, min_samples_split=2,\n",
       "           min_weight_fraction_leaf=0.0, n_estimators=10, n_jobs=-1,\n",
       "           oob_score=False, random_state=None, verbose=0, warm_start=False),\n",
       "       fit_params=None, iid=True, n_jobs=1,\n",
       "       param_grid=[{'n_estimators': [20], 'max_features': [4], 'min_samples_split': [10000, 100]}],\n",
       "       pre_dispatch='2*n_jobs', refit=True, return_train_score=True,\n",
       "       scoring='neg_mean_squared_error', verbose=3)"
      ]
     },
     "execution_count": 87,
     "metadata": {},
     "output_type": "execute_result"
    }
   ],
   "source": [
    "\"\"\"\n",
    "param_grid = [{'n_estimators':[100,200],'max_features':[2,4],'min_samples_split':[10000,100]}]\n",
    "\n",
    "rfc = RandomForestRegressor(n_jobs=-1)\n",
    "\n",
    "grid_search = GridSearchCV(rfc, param_grid, cv=5,scoring='neg_mean_squared_error',verbose=3)\n",
    "\n",
    "grid_search.fit(X,y)\n",
    "\"\"\""
   ]
  },
  {
   "cell_type": "code",
   "execution_count": 89,
   "metadata": {
    "collapsed": true
   },
   "outputs": [],
   "source": [
    "#best_params = grid_search.best_params_"
   ]
  },
  {
   "cell_type": "code",
   "execution_count": 96,
   "metadata": {},
   "outputs": [
    {
     "data": {
      "text/plain": [
       "{'max_features': 4, 'min_samples_split': 100, 'n_estimators': 20}"
      ]
     },
     "execution_count": 96,
     "metadata": {},
     "output_type": "execute_result"
    }
   ],
   "source": [
    "grid_search.best_params_"
   ]
  },
  {
   "cell_type": "markdown",
   "metadata": {},
   "source": [
    "#### RFC Prediction"
   ]
  },
  {
   "cell_type": "code",
   "execution_count": 169,
   "metadata": {
    "collapsed": true
   },
   "outputs": [],
   "source": [
    "best_params = {'max_features': 4, 'min_samples_split': 100} #Overwrite since grid search won't be run everytime"
   ]
  },
  {
   "cell_type": "code",
   "execution_count": 173,
   "metadata": {},
   "outputs": [
    {
     "data": {
      "text/plain": [
       "RandomForestRegressor(bootstrap=True, criterion='mse', max_depth=None,\n",
       "           max_features=4, max_leaf_nodes=None, min_impurity_decrease=0.0,\n",
       "           min_impurity_split=None, min_samples_leaf=1,\n",
       "           min_samples_split=100, min_weight_fraction_leaf=0.0,\n",
       "           n_estimators=100, n_jobs=-1, oob_score=True, random_state=None,\n",
       "           verbose=0, warm_start=False)"
      ]
     },
     "execution_count": 173,
     "metadata": {},
     "output_type": "execute_result"
    }
   ],
   "source": [
    "rfc = RandomForestRegressor(**best_params)\n",
    "\n",
    "rfc.set_params(n_jobs=-1,n_estimators=100,oob_score=True)"
   ]
  },
  {
   "cell_type": "code",
   "execution_count": 174,
   "metadata": {},
   "outputs": [
    {
     "data": {
      "text/plain": [
       "RandomForestRegressor(bootstrap=True, criterion='mse', max_depth=None,\n",
       "           max_features=4, max_leaf_nodes=None, min_impurity_decrease=0.0,\n",
       "           min_impurity_split=None, min_samples_leaf=1,\n",
       "           min_samples_split=100, min_weight_fraction_leaf=0.0,\n",
       "           n_estimators=100, n_jobs=-1, oob_score=True, random_state=None,\n",
       "           verbose=0, warm_start=False)"
      ]
     },
     "execution_count": 174,
     "metadata": {},
     "output_type": "execute_result"
    }
   ],
   "source": [
    "rfc.fit(X,y)"
   ]
  },
  {
   "cell_type": "code",
   "execution_count": 175,
   "metadata": {},
   "outputs": [
    {
     "data": {
      "text/plain": [
       "0.77928409506249174"
      ]
     },
     "execution_count": 175,
     "metadata": {},
     "output_type": "execute_result"
    }
   ],
   "source": [
    "rfc.oob_score_"
   ]
  },
  {
   "cell_type": "code",
   "execution_count": 110,
   "metadata": {
    "collapsed": true
   },
   "outputs": [],
   "source": [
    "#rfc.fit(X_train,y_train)\n",
    "#rfc.score(X_test,y_test)"
   ]
  },
  {
   "cell_type": "markdown",
   "metadata": {},
   "source": [
    "## Model: First time XGBoost!"
   ]
  },
  {
   "cell_type": "code",
   "execution_count": 16,
   "metadata": {
    "collapsed": true
   },
   "outputs": [],
   "source": [
    "import xgboost as xgb"
   ]
  },
  {
   "cell_type": "markdown",
   "metadata": {},
   "source": [
    "#### Grid Search XGBoost"
   ]
  },
  {
   "cell_type": "code",
   "execution_count": 89,
   "metadata": {},
   "outputs": [
    {
     "name": "stdout",
     "output_type": "stream",
     "text": [
      "Best was max_child_weight=10 and max_depth=10\n"
     ]
    }
   ],
   "source": [
    "#param_grid = [{'min_child_weight':[1,10],'max_depth':[3,6,10]}]\n",
    "\n",
    "#xgbr = XGBRegressor(n_jobs=-1)\n",
    "\n",
    "#grid_search = GridSearchCV(xgbr, param_grid, cv=3,verbose=3)\n",
    "\n",
    "#grid_search.fit(X,y)\n",
    "\n",
    "print(\"Best was max_child_weight=10 and max_depth=10\")"
   ]
  },
  {
   "cell_type": "code",
   "execution_count": 74,
   "metadata": {},
   "outputs": [
    {
     "data": {
      "text/plain": [
       "{'max_depth': 10, 'min_child_weight': 10}"
      ]
     },
     "execution_count": 74,
     "metadata": {},
     "output_type": "execute_result"
    }
   ],
   "source": [
    "#grid_search.best_params_"
   ]
  },
  {
   "cell_type": "code",
   "execution_count": 75,
   "metadata": {},
   "outputs": [
    {
     "data": {
      "text/plain": [
       "0.72264883257913293"
      ]
     },
     "execution_count": 75,
     "metadata": {},
     "output_type": "execute_result"
    }
   ],
   "source": [
    "#grid_search.best_score_"
   ]
  },
  {
   "cell_type": "code",
   "execution_count": 21,
   "metadata": {
    "collapsed": true
   },
   "outputs": [],
   "source": [
    "parameters = {'max_depth': 10, 'min_child_weight': 10}"
   ]
  },
  {
   "cell_type": "code",
   "execution_count": 141,
   "metadata": {},
   "outputs": [
    {
     "data": {
      "text/plain": [
       "\"\\nparam_grid = [{'min_child_weight':[10],'max_depth':[10]}]\\n\\nxgbr = XGBRegressor(n_jobs=-1)\\n\\ngrid_search = GridSearchCV(xgbr, param_grid, cv=2,verbose=3)\\n\\ngrid_search.fit(X,y)\\n\""
      ]
     },
     "execution_count": 141,
     "metadata": {},
     "output_type": "execute_result"
    }
   ],
   "source": [
    "\"\"\"\n",
    "param_grid = [{'min_child_weight':[10],'max_depth':[10]}]\n",
    "\n",
    "xgbr = XGBRegressor(n_jobs=-1)\n",
    "\n",
    "grid_search = GridSearchCV(xgbr, param_grid, cv=2,verbose=3)\n",
    "\n",
    "grid_search.fit(X,y)\n",
    "\"\"\""
   ]
  },
  {
   "cell_type": "markdown",
   "metadata": {},
   "source": [
    "#### Training XGBoost"
   ]
  },
  {
   "cell_type": "code",
   "execution_count": 17,
   "metadata": {
    "collapsed": true
   },
   "outputs": [],
   "source": [
    "import xgboost as xgb"
   ]
  },
  {
   "cell_type": "code",
   "execution_count": 23,
   "metadata": {
    "collapsed": true
   },
   "outputs": [],
   "source": [
    "y_log = np.log(y + 1)"
   ]
  },
  {
   "cell_type": "code",
   "execution_count": 25,
   "metadata": {
    "collapsed": true
   },
   "outputs": [],
   "source": [
    "X_train, X_test, y_train, y_test = train_test_split(X.values,y_log, test_size=0.2, random_state=42)\n",
    "\n",
    "dtrain = xgb.DMatrix(X_train,label=y_train)\n",
    "dtest = xgb.DMatrix(X_test,label=y_test)\n",
    "\n",
    "dfinal = xgb.DMatrix(X_final.values)\n",
    "watchlist = [(dtrain,'dtrain'),(dtest,'dtest')]"
   ]
  },
  {
   "cell_type": "code",
   "execution_count": 27,
   "metadata": {},
   "outputs": [
    {
     "name": "stdout",
     "output_type": "stream",
     "text": [
      "[0]\tdtrain-rmse:4.22491\tdtest-rmse:4.2259\n",
      "Multiple eval metrics have been passed: 'dtest-rmse' will be used for early stopping.\n",
      "\n",
      "Will train until dtest-rmse hasn't improved in 30 rounds.\n",
      "[10]\tdtrain-rmse:0.425804\tdtest-rmse:0.436509\n",
      "[20]\tdtrain-rmse:0.392838\tdtest-rmse:0.41195\n",
      "[30]\tdtrain-rmse:0.384467\tdtest-rmse:0.408693\n",
      "[40]\tdtrain-rmse:0.375459\tdtest-rmse:0.404799\n",
      "[50]\tdtrain-rmse:0.372093\tdtest-rmse:0.404553\n",
      "[60]\tdtrain-rmse:0.366525\tdtest-rmse:0.40311\n",
      "[70]\tdtrain-rmse:0.362945\tdtest-rmse:0.402879\n",
      "[79]\tdtrain-rmse:0.360851\tdtest-rmse:0.402739\n"
     ]
    }
   ],
   "source": [
    "xgbr = xgb.train(params=parameters,\n",
    "                 dtrain=dtrain,\n",
    "                 num_boost_round=80,\n",
    "                 evals=watchlist,\n",
    "                 early_stopping_rounds=30,\n",
    "                 maximize=False,\n",
    "                verbose_eval=10)"
   ]
  },
  {
   "cell_type": "code",
   "execution_count": 226,
   "metadata": {},
   "outputs": [
    {
     "name": "stdout",
     "output_type": "stream",
     "text": [
      "[0]\tdtrain-rmse:4.20164\tdtest-rmse:4.20313\n",
      "Multiple eval metrics have been passed: 'dtest-rmse' will be used for early stopping.\n",
      "\n",
      "Will train until dtest-rmse hasn't improved in 30 rounds.\n",
      "[10]\tdtrain-rmse:0.425819\tdtest-rmse:0.435584\n",
      "[20]\tdtrain-rmse:0.391942\tdtest-rmse:0.410055\n",
      "[30]\tdtrain-rmse:0.381999\tdtest-rmse:0.406306\n",
      "[40]\tdtrain-rmse:0.374321\tdtest-rmse:0.403478\n",
      "[50]\tdtrain-rmse:0.368479\tdtest-rmse:0.402326\n",
      "[60]\tdtrain-rmse:0.36462\tdtest-rmse:0.401998\n",
      "[70]\tdtrain-rmse:0.360603\tdtest-rmse:0.400772\n",
      "[79]\tdtrain-rmse:0.35546\tdtest-rmse:0.400122\n"
     ]
    }
   ],
   "source": [
    "xgbr = xgb.train(params=parameters,\n",
    "                 dtrain=dtrain,\n",
    "                 num_boost_round=80,\n",
    "                 evals=watchlist,\n",
    "                 early_stopping_rounds=30,\n",
    "                 maximize=False,\n",
    "                verbose_eval=10)"
   ]
  },
  {
   "cell_type": "code",
   "execution_count": null,
   "metadata": {
    "collapsed": true
   },
   "outputs": [],
   "source": []
  },
  {
   "cell_type": "code",
   "execution_count": 158,
   "metadata": {},
   "outputs": [
    {
     "name": "stdout",
     "output_type": "stream",
     "text": [
      "[0]\tdtrain-rmse:787.282\tdtest-rmse:785.986\n",
      "Multiple eval metrics have been passed: 'dtest-rmse' will be used for early stopping.\n",
      "\n",
      "Will train until dtest-rmse hasn't improved in 10 rounds.\n",
      "[9]\tdtrain-rmse:313.092\tdtest-rmse:320.629\n"
     ]
    }
   ],
   "source": [
    "xgbr = xgb.train(params=parameters,\n",
    "                 dtrain=dtrain,\n",
    "                 evals=watchlist,\n",
    "                 early_stopping_rounds=10,\n",
    "                 maximize=False,\n",
    "                verbose_eval=10)"
   ]
  },
  {
   "cell_type": "code",
   "execution_count": 154,
   "metadata": {},
   "outputs": [
    {
     "name": "stdout",
     "output_type": "stream",
     "text": [
      "[0]\tdtrain-rmse:787.282\tdtest-rmse:785.986\n",
      "Multiple eval metrics have been passed: 'dtest-rmse' will be used for early stopping.\n",
      "\n",
      "Will train until dtest-rmse hasn't improved in 10 rounds.\n",
      "[10]\tdtrain-rmse:310.223\tdtest-rmse:318.639\n",
      "[20]\tdtrain-rmse:293.869\tdtest-rmse:308.384\n",
      "[30]\tdtrain-rmse:290.744\tdtest-rmse:307.396\n",
      "[40]\tdtrain-rmse:287.939\tdtest-rmse:306.062\n",
      "[50]\tdtrain-rmse:285.034\tdtest-rmse:305.335\n",
      "[59]\tdtrain-rmse:282.288\tdtest-rmse:304.637\n"
     ]
    }
   ],
   "source": [
    "xgbr = xgb.train(params=parameters,\n",
    "                 dtrain=dtrain,\n",
    "                 num_boost_round=60,\n",
    "                 evals=watchlist,\n",
    "                 early_stopping_rounds=10,\n",
    "                 maximize=False,\n",
    "                verbose_eval=10)"
   ]
  },
  {
   "cell_type": "markdown",
   "metadata": {},
   "source": [
    "#### Feature Importance XGB"
   ]
  },
  {
   "cell_type": "code",
   "execution_count": 227,
   "metadata": {},
   "outputs": [
    {
     "data": {
      "text/html": [
       "<div>\n",
       "<style>\n",
       "    .dataframe thead tr:only-child th {\n",
       "        text-align: right;\n",
       "    }\n",
       "\n",
       "    .dataframe thead th {\n",
       "        text-align: left;\n",
       "    }\n",
       "\n",
       "    .dataframe tbody tr th {\n",
       "        vertical-align: top;\n",
       "    }\n",
       "</style>\n",
       "<table border=\"1\" class=\"dataframe\">\n",
       "  <thead>\n",
       "    <tr style=\"text-align: right;\">\n",
       "      <th></th>\n",
       "      <th>f</th>\n",
       "      <th>importance</th>\n",
       "    </tr>\n",
       "  </thead>\n",
       "  <tbody>\n",
       "    <tr>\n",
       "      <th>1</th>\n",
       "      <td>f6</td>\n",
       "      <td>6059</td>\n",
       "    </tr>\n",
       "    <tr>\n",
       "      <th>2</th>\n",
       "      <td>f7</td>\n",
       "      <td>5918</td>\n",
       "    </tr>\n",
       "    <tr>\n",
       "      <th>6</th>\n",
       "      <td>f9</td>\n",
       "      <td>5575</td>\n",
       "    </tr>\n",
       "    <tr>\n",
       "      <th>7</th>\n",
       "      <td>f8</td>\n",
       "      <td>5366</td>\n",
       "    </tr>\n",
       "    <tr>\n",
       "      <th>0</th>\n",
       "      <td>f0</td>\n",
       "      <td>4982</td>\n",
       "    </tr>\n",
       "    <tr>\n",
       "      <th>5</th>\n",
       "      <td>f1</td>\n",
       "      <td>3404</td>\n",
       "    </tr>\n",
       "    <tr>\n",
       "      <th>4</th>\n",
       "      <td>f2</td>\n",
       "      <td>3212</td>\n",
       "    </tr>\n",
       "    <tr>\n",
       "      <th>3</th>\n",
       "      <td>f3</td>\n",
       "      <td>1719</td>\n",
       "    </tr>\n",
       "    <tr>\n",
       "      <th>8</th>\n",
       "      <td>f4</td>\n",
       "      <td>1155</td>\n",
       "    </tr>\n",
       "  </tbody>\n",
       "</table>\n",
       "</div>"
      ],
      "text/plain": [
       "    f  importance\n",
       "1  f6        6059\n",
       "2  f7        5918\n",
       "6  f9        5575\n",
       "7  f8        5366\n",
       "0  f0        4982\n",
       "5  f1        3404\n",
       "4  f2        3212\n",
       "3  f3        1719\n",
       "8  f4        1155"
      ]
     },
     "execution_count": 227,
     "metadata": {},
     "output_type": "execute_result"
    }
   ],
   "source": [
    "feature_importance_dict = xgbr.get_fscore()\n",
    "fs = ['f%i' % i for i in range(len(features))]\n",
    "f1 = pd.DataFrame({'f': list(feature_importance_dict.keys()), 'importance': list(feature_importance_dict.values())})\n",
    "feature_importance = f1\n",
    "feature_importance = feature_importance.fillna(0)\n",
    "\n",
    "feature_importance[['f', 'importance']].sort_values(by='importance', ascending=False)"
   ]
  },
  {
   "cell_type": "code",
   "execution_count": 28,
   "metadata": {},
   "outputs": [
    {
     "data": {
      "text/plain": [
       "0.402619"
      ]
     },
     "execution_count": 28,
     "metadata": {},
     "output_type": "execute_result"
    }
   ],
   "source": [
    "xgbr.best_score"
   ]
  },
  {
   "cell_type": "code",
   "execution_count": 165,
   "metadata": {},
   "outputs": [
    {
     "data": {
      "text/plain": [
       "303.513397"
      ]
     },
     "execution_count": 165,
     "metadata": {},
     "output_type": "execute_result"
    }
   ],
   "source": [
    "xgbr.best_score #Without log"
   ]
  },
  {
   "cell_type": "markdown",
   "metadata": {},
   "source": [
    "#### XGBoost Predction"
   ]
  },
  {
   "cell_type": "code",
   "execution_count": 29,
   "metadata": {
    "collapsed": true
   },
   "outputs": [],
   "source": [
    "xgb_pred = xgbr.predict(dfinal)"
   ]
  },
  {
   "cell_type": "code",
   "execution_count": 30,
   "metadata": {
    "collapsed": true
   },
   "outputs": [],
   "source": [
    "xgb_pred = np.exp(xgb_pred) - 1"
   ]
  },
  {
   "cell_type": "code",
   "execution_count": 31,
   "metadata": {},
   "outputs": [
    {
     "data": {
      "text/plain": [
       "807.25439"
      ]
     },
     "execution_count": 31,
     "metadata": {},
     "output_type": "execute_result"
    }
   ],
   "source": [
    "xgb_pred.mean()"
   ]
  },
  {
   "cell_type": "code",
   "execution_count": 32,
   "metadata": {},
   "outputs": [
    {
     "data": {
      "text/plain": [
       "956.887730497136"
      ]
     },
     "execution_count": 32,
     "metadata": {},
     "output_type": "execute_result"
    }
   ],
   "source": [
    "train['trip_duration'].mean()"
   ]
  },
  {
   "cell_type": "markdown",
   "metadata": {},
   "source": [
    "***\n",
    "# X. Exporting submission_df"
   ]
  },
  {
   "cell_type": "markdown",
   "metadata": {},
   "source": [
    "Prediction options:\n",
    "- gm_pred\n",
    "- rfc_pred\n",
    "- xgb_pred"
   ]
  },
  {
   "cell_type": "code",
   "execution_count": 33,
   "metadata": {
    "collapsed": true
   },
   "outputs": [],
   "source": [
    "submission_pred = xgb_pred\n",
    "submission_name = 'xgboost with log transformation.csv' "
   ]
  },
  {
   "cell_type": "code",
   "execution_count": 35,
   "metadata": {},
   "outputs": [
    {
     "data": {
      "text/plain": [
       "array([], dtype=float32)"
      ]
     },
     "execution_count": 35,
     "metadata": {},
     "output_type": "execute_result"
    }
   ],
   "source": [
    "submission_pred[submission_pred<0] #Check for invalid submission values"
   ]
  },
  {
   "cell_type": "code",
   "execution_count": 151,
   "metadata": {
    "collapsed": true
   },
   "outputs": [],
   "source": [
    "submission_pred[submission_pred<0]=1 #Correct for negative lengths"
   ]
  },
  {
   "cell_type": "code",
   "execution_count": 36,
   "metadata": {
    "collapsed": true
   },
   "outputs": [],
   "source": [
    "submission_df = pd.DataFrame(submission_pred,index=test['id'],columns=['trip_duration']).reset_index()\n",
    "\n",
    "submission_df.to_csv(submission_name,index=False)"
   ]
  },
  {
   "cell_type": "markdown",
   "metadata": {},
   "source": [
    "***\n",
    "# Thank you for checking out this kernel."
   ]
  },
  {
   "cell_type": "markdown",
   "metadata": {},
   "source": [
    "Ideas: for future exploration - day of the week, regions."
   ]
  },
  {
   "cell_type": "markdown",
   "metadata": {},
   "source": [
    "# Notes from other tutorials"
   ]
  },
  {
   "cell_type": "markdown",
   "metadata": {},
   "source": [
    "For parameter tuning I prefer random search. Usually I try different values for the following parameters\n",
    "\n",
    "- min_child_weight\n",
    "- eta\n",
    "- colsample_bytree\n",
    "- max_depth\n",
    "- subsample\n",
    "- lambda\n",
    "\n",
    "I like sklearn CV options (RandomizedSearchCV or GridSearchCV) however for usual competitions the training for a single model could take hours and I like to save the intermediate results (performance metric, oof predictions etc.) so I use custom search. Based on the results I like to set the grid searchpoints manually. A simple random parameter search would be"
   ]
  },
  {
   "cell_type": "code",
   "execution_count": 132,
   "metadata": {
    "collapsed": true
   },
   "outputs": [],
   "source": [
    "#xgbr = xgb.train(params=xgb_pars,dtrain=dtrain,num_boost_round=60,early_stopping_rounds=10,maximize=False,verbose_eval=10)"
   ]
  },
  {
   "cell_type": "code",
   "execution_count": 47,
   "metadata": {
    "collapsed": true
   },
   "outputs": [],
   "source": [
    "\"\"\"\n",
    "xgb = XGBRegressor()\n",
    "\n",
    "parameters = {\n",
    "        'num_boost_round': [100, 250, 500],\n",
    "        'eta': [0.05, 0.1, 0.3],\n",
    "        'max_depth': [6, 9, 12],\n",
    "        'subsample': [0.9, 1.0],\n",
    "        'colsample_bytree': [0.9, 1.0],\n",
    "    }\n",
    "\n",
    "clf = GridSearchCV(xgb, parameters, n_jobs=1, cv=2,verbose=3)\n",
    "\"\"\""
   ]
  },
  {
   "cell_type": "code",
   "execution_count": 106,
   "metadata": {
    "collapsed": true
   },
   "outputs": [],
   "source": [
    "xgb_pars = {'min_child_weight': 50, 'eta': 0.3, 'colsample_bytree': 0.3, 'max_depth': 10,\n",
    "            'subsample': 0.8, 'lambda': 1., 'nthread': -1, 'booster' : 'gbtree', 'silent': 1,\n",
    "            'eval_metric': 'rmse', 'objective': 'reg:linear'}"
   ]
  },
  {
   "cell_type": "code",
   "execution_count": 45,
   "metadata": {},
   "outputs": [
    {
     "name": "stdout",
     "output_type": "stream",
     "text": [
      "Fitting 3 folds for each of 1 candidates, totalling 3 fits\n"
     ]
    },
    {
     "ename": "JoblibValueError",
     "evalue": "JoblibValueError\n___________________________________________________________________________\nMultiprocessing exception:\n...........................................................................\nC:\\Users\\Josh\\Anaconda3\\lib\\runpy.py in _run_module_as_main(mod_name='ipykernel_launcher', alter_argv=1)\n    188         sys.exit(msg)\n    189     main_globals = sys.modules[\"__main__\"].__dict__\n    190     if alter_argv:\n    191         sys.argv[0] = mod_spec.origin\n    192     return _run_code(code, main_globals, None,\n--> 193                      \"__main__\", mod_spec)\n        mod_spec = ModuleSpec(name='ipykernel_launcher', loader=<_f...nda3\\\\lib\\\\site-packages\\\\ipykernel_launcher.py')\n    194 \n    195 def run_module(mod_name, init_globals=None,\n    196                run_name=None, alter_sys=False):\n    197     \"\"\"Execute a module's code without importing it\n\n...........................................................................\nC:\\Users\\Josh\\Anaconda3\\lib\\runpy.py in _run_code(code=<code object <module> at 0x000001D02285BC90, fil...lib\\site-packages\\ipykernel_launcher.py\", line 5>, run_globals={'__annotations__': {}, '__builtins__': <module 'builtins' (built-in)>, '__cached__': r'C:\\Users\\Josh\\Anaconda3\\lib\\site-packages\\__pycache__\\ipykernel_launcher.cpython-36.pyc', '__doc__': 'Entry point for launching an IPython kernel.\\n\\nTh...orts until\\nafter removing the cwd from sys.path.\\n', '__file__': r'C:\\Users\\Josh\\Anaconda3\\lib\\site-packages\\ipykernel_launcher.py', '__loader__': <_frozen_importlib_external.SourceFileLoader object>, '__name__': '__main__', '__package__': '', '__spec__': ModuleSpec(name='ipykernel_launcher', loader=<_f...nda3\\\\lib\\\\site-packages\\\\ipykernel_launcher.py'), 'app': <module 'ipykernel.kernelapp' from 'C:\\\\Users\\\\J...a3\\\\lib\\\\site-packages\\\\ipykernel\\\\kernelapp.py'>, ...}, init_globals=None, mod_name='__main__', mod_spec=ModuleSpec(name='ipykernel_launcher', loader=<_f...nda3\\\\lib\\\\site-packages\\\\ipykernel_launcher.py'), pkg_name='', script_name=None)\n     80                        __cached__ = cached,\n     81                        __doc__ = None,\n     82                        __loader__ = loader,\n     83                        __package__ = pkg_name,\n     84                        __spec__ = mod_spec)\n---> 85     exec(code, run_globals)\n        code = <code object <module> at 0x000001D02285BC90, fil...lib\\site-packages\\ipykernel_launcher.py\", line 5>\n        run_globals = {'__annotations__': {}, '__builtins__': <module 'builtins' (built-in)>, '__cached__': r'C:\\Users\\Josh\\Anaconda3\\lib\\site-packages\\__pycache__\\ipykernel_launcher.cpython-36.pyc', '__doc__': 'Entry point for launching an IPython kernel.\\n\\nTh...orts until\\nafter removing the cwd from sys.path.\\n', '__file__': r'C:\\Users\\Josh\\Anaconda3\\lib\\site-packages\\ipykernel_launcher.py', '__loader__': <_frozen_importlib_external.SourceFileLoader object>, '__name__': '__main__', '__package__': '', '__spec__': ModuleSpec(name='ipykernel_launcher', loader=<_f...nda3\\\\lib\\\\site-packages\\\\ipykernel_launcher.py'), 'app': <module 'ipykernel.kernelapp' from 'C:\\\\Users\\\\J...a3\\\\lib\\\\site-packages\\\\ipykernel\\\\kernelapp.py'>, ...}\n     86     return run_globals\n     87 \n     88 def _run_module_code(code, init_globals=None,\n     89                     mod_name=None, mod_spec=None,\n\n...........................................................................\nC:\\Users\\Josh\\Anaconda3\\lib\\site-packages\\ipykernel_launcher.py in <module>()\n     11     # This is added back by InteractiveShellApp.init_path()\n     12     if sys.path[0] == '':\n     13         del sys.path[0]\n     14 \n     15     from ipykernel import kernelapp as app\n---> 16     app.launch_new_instance()\n\n...........................................................................\nC:\\Users\\Josh\\Anaconda3\\lib\\site-packages\\traitlets\\config\\application.py in launch_instance(cls=<class 'ipykernel.kernelapp.IPKernelApp'>, argv=None, **kwargs={})\n    653 \n    654         If a global instance already exists, this reinitializes and starts it\n    655         \"\"\"\n    656         app = cls.instance(**kwargs)\n    657         app.initialize(argv)\n--> 658         app.start()\n        app.start = <bound method IPKernelApp.start of <ipykernel.kernelapp.IPKernelApp object>>\n    659 \n    660 #-----------------------------------------------------------------------------\n    661 # utility functions, for convenience\n    662 #-----------------------------------------------------------------------------\n\n...........................................................................\nC:\\Users\\Josh\\Anaconda3\\lib\\site-packages\\ipykernel\\kernelapp.py in start(self=<ipykernel.kernelapp.IPKernelApp object>)\n    472             return self.subapp.start()\n    473         if self.poller is not None:\n    474             self.poller.start()\n    475         self.kernel.start()\n    476         try:\n--> 477             ioloop.IOLoop.instance().start()\n    478         except KeyboardInterrupt:\n    479             pass\n    480 \n    481 launch_new_instance = IPKernelApp.launch_instance\n\n...........................................................................\nC:\\Users\\Josh\\Anaconda3\\lib\\site-packages\\zmq\\eventloop\\ioloop.py in start(self=<zmq.eventloop.ioloop.ZMQIOLoop object>)\n    172             )\n    173         return loop\n    174     \n    175     def start(self):\n    176         try:\n--> 177             super(ZMQIOLoop, self).start()\n        self.start = <bound method ZMQIOLoop.start of <zmq.eventloop.ioloop.ZMQIOLoop object>>\n    178         except ZMQError as e:\n    179             if e.errno == ETERM:\n    180                 # quietly return on ETERM\n    181                 pass\n\n...........................................................................\nC:\\Users\\Josh\\Anaconda3\\lib\\site-packages\\tornado\\ioloop.py in start(self=<zmq.eventloop.ioloop.ZMQIOLoop object>)\n    883                 self._events.update(event_pairs)\n    884                 while self._events:\n    885                     fd, events = self._events.popitem()\n    886                     try:\n    887                         fd_obj, handler_func = self._handlers[fd]\n--> 888                         handler_func(fd_obj, events)\n        handler_func = <function wrap.<locals>.null_wrapper>\n        fd_obj = <zmq.sugar.socket.Socket object>\n        events = 1\n    889                     except (OSError, IOError) as e:\n    890                         if errno_from_exception(e) == errno.EPIPE:\n    891                             # Happens when the client closes the connection\n    892                             pass\n\n...........................................................................\nC:\\Users\\Josh\\Anaconda3\\lib\\site-packages\\tornado\\stack_context.py in null_wrapper(*args=(<zmq.sugar.socket.Socket object>, 1), **kwargs={})\n    272         # Fast path when there are no active contexts.\n    273         def null_wrapper(*args, **kwargs):\n    274             try:\n    275                 current_state = _state.contexts\n    276                 _state.contexts = cap_contexts[0]\n--> 277                 return fn(*args, **kwargs)\n        args = (<zmq.sugar.socket.Socket object>, 1)\n        kwargs = {}\n    278             finally:\n    279                 _state.contexts = current_state\n    280         null_wrapper._wrapped = True\n    281         return null_wrapper\n\n...........................................................................\nC:\\Users\\Josh\\Anaconda3\\lib\\site-packages\\zmq\\eventloop\\zmqstream.py in _handle_events(self=<zmq.eventloop.zmqstream.ZMQStream object>, fd=<zmq.sugar.socket.Socket object>, events=1)\n    435             # dispatch events:\n    436             if events & IOLoop.ERROR:\n    437                 gen_log.error(\"got POLLERR event on ZMQStream, which doesn't make sense\")\n    438                 return\n    439             if events & IOLoop.READ:\n--> 440                 self._handle_recv()\n        self._handle_recv = <bound method ZMQStream._handle_recv of <zmq.eventloop.zmqstream.ZMQStream object>>\n    441                 if not self.socket:\n    442                     return\n    443             if events & IOLoop.WRITE:\n    444                 self._handle_send()\n\n...........................................................................\nC:\\Users\\Josh\\Anaconda3\\lib\\site-packages\\zmq\\eventloop\\zmqstream.py in _handle_recv(self=<zmq.eventloop.zmqstream.ZMQStream object>)\n    467                 gen_log.error(\"RECV Error: %s\"%zmq.strerror(e.errno))\n    468         else:\n    469             if self._recv_callback:\n    470                 callback = self._recv_callback\n    471                 # self._recv_callback = None\n--> 472                 self._run_callback(callback, msg)\n        self._run_callback = <bound method ZMQStream._run_callback of <zmq.eventloop.zmqstream.ZMQStream object>>\n        callback = <function wrap.<locals>.null_wrapper>\n        msg = [<zmq.sugar.frame.Frame object>, <zmq.sugar.frame.Frame object>, <zmq.sugar.frame.Frame object>, <zmq.sugar.frame.Frame object>, <zmq.sugar.frame.Frame object>, <zmq.sugar.frame.Frame object>, <zmq.sugar.frame.Frame object>]\n    473                 \n    474         # self.update_state()\n    475         \n    476 \n\n...........................................................................\nC:\\Users\\Josh\\Anaconda3\\lib\\site-packages\\zmq\\eventloop\\zmqstream.py in _run_callback(self=<zmq.eventloop.zmqstream.ZMQStream object>, callback=<function wrap.<locals>.null_wrapper>, *args=([<zmq.sugar.frame.Frame object>, <zmq.sugar.frame.Frame object>, <zmq.sugar.frame.Frame object>, <zmq.sugar.frame.Frame object>, <zmq.sugar.frame.Frame object>, <zmq.sugar.frame.Frame object>, <zmq.sugar.frame.Frame object>],), **kwargs={})\n    409         close our socket.\"\"\"\n    410         try:\n    411             # Use a NullContext to ensure that all StackContexts are run\n    412             # inside our blanket exception handler rather than outside.\n    413             with stack_context.NullContext():\n--> 414                 callback(*args, **kwargs)\n        callback = <function wrap.<locals>.null_wrapper>\n        args = ([<zmq.sugar.frame.Frame object>, <zmq.sugar.frame.Frame object>, <zmq.sugar.frame.Frame object>, <zmq.sugar.frame.Frame object>, <zmq.sugar.frame.Frame object>, <zmq.sugar.frame.Frame object>, <zmq.sugar.frame.Frame object>],)\n        kwargs = {}\n    415         except:\n    416             gen_log.error(\"Uncaught exception, closing connection.\",\n    417                           exc_info=True)\n    418             # Close the socket on an uncaught exception from a user callback\n\n...........................................................................\nC:\\Users\\Josh\\Anaconda3\\lib\\site-packages\\tornado\\stack_context.py in null_wrapper(*args=([<zmq.sugar.frame.Frame object>, <zmq.sugar.frame.Frame object>, <zmq.sugar.frame.Frame object>, <zmq.sugar.frame.Frame object>, <zmq.sugar.frame.Frame object>, <zmq.sugar.frame.Frame object>, <zmq.sugar.frame.Frame object>],), **kwargs={})\n    272         # Fast path when there are no active contexts.\n    273         def null_wrapper(*args, **kwargs):\n    274             try:\n    275                 current_state = _state.contexts\n    276                 _state.contexts = cap_contexts[0]\n--> 277                 return fn(*args, **kwargs)\n        args = ([<zmq.sugar.frame.Frame object>, <zmq.sugar.frame.Frame object>, <zmq.sugar.frame.Frame object>, <zmq.sugar.frame.Frame object>, <zmq.sugar.frame.Frame object>, <zmq.sugar.frame.Frame object>, <zmq.sugar.frame.Frame object>],)\n        kwargs = {}\n    278             finally:\n    279                 _state.contexts = current_state\n    280         null_wrapper._wrapped = True\n    281         return null_wrapper\n\n...........................................................................\nC:\\Users\\Josh\\Anaconda3\\lib\\site-packages\\ipykernel\\kernelbase.py in dispatcher(msg=[<zmq.sugar.frame.Frame object>, <zmq.sugar.frame.Frame object>, <zmq.sugar.frame.Frame object>, <zmq.sugar.frame.Frame object>, <zmq.sugar.frame.Frame object>, <zmq.sugar.frame.Frame object>, <zmq.sugar.frame.Frame object>])\n    278         if self.control_stream:\n    279             self.control_stream.on_recv(self.dispatch_control, copy=False)\n    280 \n    281         def make_dispatcher(stream):\n    282             def dispatcher(msg):\n--> 283                 return self.dispatch_shell(stream, msg)\n        msg = [<zmq.sugar.frame.Frame object>, <zmq.sugar.frame.Frame object>, <zmq.sugar.frame.Frame object>, <zmq.sugar.frame.Frame object>, <zmq.sugar.frame.Frame object>, <zmq.sugar.frame.Frame object>, <zmq.sugar.frame.Frame object>]\n    284             return dispatcher\n    285 \n    286         for s in self.shell_streams:\n    287             s.on_recv(make_dispatcher(s), copy=False)\n\n...........................................................................\nC:\\Users\\Josh\\Anaconda3\\lib\\site-packages\\ipykernel\\kernelbase.py in dispatch_shell(self=<ipykernel.ipkernel.IPythonKernel object>, stream=<zmq.eventloop.zmqstream.ZMQStream object>, msg={'buffers': [], 'content': {'allow_stdin': True, 'code': 'xgb = XGBRegressor()\\n\\n#brute force scan for all ...verbose=2, refit=True)\\n\\nclf.fit(X_train, y_train)', 'silent': False, 'stop_on_error': True, 'store_history': True, 'user_expressions': {}}, 'header': {'date': datetime.datetime(2017, 9, 15, 18, 53, 25, 235533, tzinfo=datetime.timezone.utc), 'msg_id': 'F3BF21FA33224869AAD355AFF5B363D3', 'msg_type': 'execute_request', 'session': '5260C41D777F4040BA2A47C999CD67D8', 'username': 'username', 'version': '5.0'}, 'metadata': {}, 'msg_id': 'F3BF21FA33224869AAD355AFF5B363D3', 'msg_type': 'execute_request', 'parent_header': {}})\n    230             self.log.warn(\"Unknown message type: %r\", msg_type)\n    231         else:\n    232             self.log.debug(\"%s: %s\", msg_type, msg)\n    233             self.pre_handler_hook()\n    234             try:\n--> 235                 handler(stream, idents, msg)\n        handler = <bound method Kernel.execute_request of <ipykernel.ipkernel.IPythonKernel object>>\n        stream = <zmq.eventloop.zmqstream.ZMQStream object>\n        idents = [b'5260C41D777F4040BA2A47C999CD67D8']\n        msg = {'buffers': [], 'content': {'allow_stdin': True, 'code': 'xgb = XGBRegressor()\\n\\n#brute force scan for all ...verbose=2, refit=True)\\n\\nclf.fit(X_train, y_train)', 'silent': False, 'stop_on_error': True, 'store_history': True, 'user_expressions': {}}, 'header': {'date': datetime.datetime(2017, 9, 15, 18, 53, 25, 235533, tzinfo=datetime.timezone.utc), 'msg_id': 'F3BF21FA33224869AAD355AFF5B363D3', 'msg_type': 'execute_request', 'session': '5260C41D777F4040BA2A47C999CD67D8', 'username': 'username', 'version': '5.0'}, 'metadata': {}, 'msg_id': 'F3BF21FA33224869AAD355AFF5B363D3', 'msg_type': 'execute_request', 'parent_header': {}}\n    236             except Exception:\n    237                 self.log.error(\"Exception in message handler:\", exc_info=True)\n    238             finally:\n    239                 self.post_handler_hook()\n\n...........................................................................\nC:\\Users\\Josh\\Anaconda3\\lib\\site-packages\\ipykernel\\kernelbase.py in execute_request(self=<ipykernel.ipkernel.IPythonKernel object>, stream=<zmq.eventloop.zmqstream.ZMQStream object>, ident=[b'5260C41D777F4040BA2A47C999CD67D8'], parent={'buffers': [], 'content': {'allow_stdin': True, 'code': 'xgb = XGBRegressor()\\n\\n#brute force scan for all ...verbose=2, refit=True)\\n\\nclf.fit(X_train, y_train)', 'silent': False, 'stop_on_error': True, 'store_history': True, 'user_expressions': {}}, 'header': {'date': datetime.datetime(2017, 9, 15, 18, 53, 25, 235533, tzinfo=datetime.timezone.utc), 'msg_id': 'F3BF21FA33224869AAD355AFF5B363D3', 'msg_type': 'execute_request', 'session': '5260C41D777F4040BA2A47C999CD67D8', 'username': 'username', 'version': '5.0'}, 'metadata': {}, 'msg_id': 'F3BF21FA33224869AAD355AFF5B363D3', 'msg_type': 'execute_request', 'parent_header': {}})\n    394         if not silent:\n    395             self.execution_count += 1\n    396             self._publish_execute_input(code, parent, self.execution_count)\n    397 \n    398         reply_content = self.do_execute(code, silent, store_history,\n--> 399                                         user_expressions, allow_stdin)\n        user_expressions = {}\n        allow_stdin = True\n    400 \n    401         # Flush output before sending the reply.\n    402         sys.stdout.flush()\n    403         sys.stderr.flush()\n\n...........................................................................\nC:\\Users\\Josh\\Anaconda3\\lib\\site-packages\\ipykernel\\ipkernel.py in do_execute(self=<ipykernel.ipkernel.IPythonKernel object>, code='xgb = XGBRegressor()\\n\\n#brute force scan for all ...verbose=2, refit=True)\\n\\nclf.fit(X_train, y_train)', silent=False, store_history=True, user_expressions={}, allow_stdin=True)\n    191 \n    192         self._forward_input(allow_stdin)\n    193 \n    194         reply_content = {}\n    195         try:\n--> 196             res = shell.run_cell(code, store_history=store_history, silent=silent)\n        res = undefined\n        shell.run_cell = <bound method ZMQInteractiveShell.run_cell of <ipykernel.zmqshell.ZMQInteractiveShell object>>\n        code = 'xgb = XGBRegressor()\\n\\n#brute force scan for all ...verbose=2, refit=True)\\n\\nclf.fit(X_train, y_train)'\n        store_history = True\n        silent = False\n    197         finally:\n    198             self._restore_input()\n    199 \n    200         if res.error_before_exec is not None:\n\n...........................................................................\nC:\\Users\\Josh\\Anaconda3\\lib\\site-packages\\ipykernel\\zmqshell.py in run_cell(self=<ipykernel.zmqshell.ZMQInteractiveShell object>, *args=('xgb = XGBRegressor()\\n\\n#brute force scan for all ...verbose=2, refit=True)\\n\\nclf.fit(X_train, y_train)',), **kwargs={'silent': False, 'store_history': True})\n    528             )\n    529         self.payload_manager.write_payload(payload)\n    530 \n    531     def run_cell(self, *args, **kwargs):\n    532         self._last_traceback = None\n--> 533         return super(ZMQInteractiveShell, self).run_cell(*args, **kwargs)\n        self.run_cell = <bound method ZMQInteractiveShell.run_cell of <ipykernel.zmqshell.ZMQInteractiveShell object>>\n        args = ('xgb = XGBRegressor()\\n\\n#brute force scan for all ...verbose=2, refit=True)\\n\\nclf.fit(X_train, y_train)',)\n        kwargs = {'silent': False, 'store_history': True}\n    534 \n    535     def _showtraceback(self, etype, evalue, stb):\n    536         # try to preserve ordering of tracebacks and print statements\n    537         sys.stdout.flush()\n\n...........................................................................\nC:\\Users\\Josh\\Anaconda3\\lib\\site-packages\\IPython\\core\\interactiveshell.py in run_cell(self=<ipykernel.zmqshell.ZMQInteractiveShell object>, raw_cell='xgb = XGBRegressor()\\n\\n#brute force scan for all ...verbose=2, refit=True)\\n\\nclf.fit(X_train, y_train)', store_history=True, silent=False, shell_futures=True)\n   2712                 self.displayhook.exec_result = result\n   2713 \n   2714                 # Execute the user code\n   2715                 interactivity = \"none\" if silent else self.ast_node_interactivity\n   2716                 has_raised = self.run_ast_nodes(code_ast.body, cell_name,\n-> 2717                    interactivity=interactivity, compiler=compiler, result=result)\n        interactivity = 'last_expr'\n        compiler = <IPython.core.compilerop.CachingCompiler object>\n   2718                 \n   2719                 self.last_execution_succeeded = not has_raised\n   2720 \n   2721                 # Reset this so later displayed values do not modify the\n\n...........................................................................\nC:\\Users\\Josh\\Anaconda3\\lib\\site-packages\\IPython\\core\\interactiveshell.py in run_ast_nodes(self=<ipykernel.zmqshell.ZMQInteractiveShell object>, nodelist=[<_ast.Assign object>, <_ast.Assign object>, <_ast.Assign object>, <_ast.Expr object>], cell_name='<ipython-input-45-f130e4046d35>', interactivity='last', compiler=<IPython.core.compilerop.CachingCompiler object>, result=<ExecutionResult object at 1d0465b0cc0, executio..._before_exec=None error_in_exec=None result=None>)\n   2822                     return True\n   2823 \n   2824             for i, node in enumerate(to_run_interactive):\n   2825                 mod = ast.Interactive([node])\n   2826                 code = compiler(mod, cell_name, \"single\")\n-> 2827                 if self.run_code(code, result):\n        self.run_code = <bound method InteractiveShell.run_code of <ipykernel.zmqshell.ZMQInteractiveShell object>>\n        code = <code object <module> at 0x000001D02AC86420, file \"<ipython-input-45-f130e4046d35>\", line 24>\n        result = <ExecutionResult object at 1d0465b0cc0, executio..._before_exec=None error_in_exec=None result=None>\n   2828                     return True\n   2829 \n   2830             # Flush softspace\n   2831             if softspace(sys.stdout, 0):\n\n...........................................................................\nC:\\Users\\Josh\\Anaconda3\\lib\\site-packages\\IPython\\core\\interactiveshell.py in run_code(self=<ipykernel.zmqshell.ZMQInteractiveShell object>, code_obj=<code object <module> at 0x000001D02AC86420, file \"<ipython-input-45-f130e4046d35>\", line 24>, result=<ExecutionResult object at 1d0465b0cc0, executio..._before_exec=None error_in_exec=None result=None>)\n   2876         outflag = 1  # happens in more places, so it's easier as default\n   2877         try:\n   2878             try:\n   2879                 self.hooks.pre_run_code_hook()\n   2880                 #rprint('Running code', repr(code_obj)) # dbg\n-> 2881                 exec(code_obj, self.user_global_ns, self.user_ns)\n        code_obj = <code object <module> at 0x000001D02AC86420, file \"<ipython-input-45-f130e4046d35>\", line 24>\n        self.user_global_ns = {'GradientBoostingRegressor': <class 'sklearn.ensemble.gradient_boosting.GradientBoostingRegressor'>, 'GridSearchCV': <class 'sklearn.model_selection._search.GridSearchCV'>, 'In': ['', \"import pandas as pd\\nimport numpy as np\\nimport ma...t as xgb\\nget_ipython().magic('matplotlib inline')\", \"import pandas as pd\\nimport numpy as np\\nimport ma...t as xgb\\nget_ipython().magic('matplotlib inline')\", 'from sklearn.model_selection import train_test_s...sklearn.ensemble import GradientBoostingRegressor', \"train = pd.read_csv('train.csv') #change to '../...../input/sample_submission.csv' for kaggle upload\", 'train.head(1)', 'test.head(1)', 'sample_submission.head(1)', 'train.columns', 'test.columns', 'len(train)', 'len(test)', '# Extra features in train (which are note presen...n in train.columns if column not in test.columns]', 'train.isnull().sum()', 'train[train.isnull().any(axis=1)] #No missing values', 'def remove_outliers(old_df,number_of_std,columns... outliers from this column\\n    \\n    return new_df', \"#Remove outlier trips (in case length was caused...move_outliers(train,4,columns=['trip_duration']) \", \"train['dist'] = np.sqrt((train['pickup_latitude'...ickup_longitude']-test['dropoff_longitude'])**2) \", \"train['manh'] = abs(train['pickup_latitude']-tra...st['pickup_longitude']-test['dropoff_longitude'])\", \"#Convert to datetime\\ntrain['pickup_datetime'] = ...etime'] = pd.to_datetime(test['pickup_datetime'])\", ...], 'LinearRegression': <class 'sklearn.linear_model.base.LinearRegression'>, 'Out': {5:           id  vendor_id      pickup_datetime    ...    40.765602                  N            455  , 6:           id  vendor_id      pickup_datetime  pa...  \n\n  store_and_fwd_flag  \n0                  N  , 7:           id  trip_duration\n0  id3004672            959, 8: Index(['id', 'vendor_id', 'pickup_datetime', 'dr...',\n       'trip_duration'],\n      dtype='object'), 9: Index(['id', 'vendor_id', 'pickup_datetime', 'pa...de', 'store_and_fwd_flag'],\n      dtype='object'), 10: 1458644, 11: 625134, 12: ['dropoff_datetime', 'trip_duration'], 13: id                    0\nvendor_id             0\n...wd_flag    0\ntrip_duration         0\ndtype: int64, 14: Empty DataFrame\nColumns: [id, vendor_id, pickup_...ude, store_and_fwd_flag, trip_duration]\nIndex: [], ...}, 'X':              dist      manh  hour  dayofweek  mo...    1      4        0\n\n[1456583 rows x 6 columns], 'XGBRegressor': <class 'xgboost.sklearn.XGBRegressor'>, 'X_final':             dist      manh  hour  dayofweek  mon...     4      1        0\n\n[625134 rows x 6 columns], 'X_test':              dist      manh  hour  dayofweek  mo...     2      6        0\n\n[291317 rows x 6 columns], 'X_train':              dist      manh  hour  dayofweek  mo...    0      2        0\n\n[1165266 rows x 6 columns], ...}\n        self.user_ns = {'GradientBoostingRegressor': <class 'sklearn.ensemble.gradient_boosting.GradientBoostingRegressor'>, 'GridSearchCV': <class 'sklearn.model_selection._search.GridSearchCV'>, 'In': ['', \"import pandas as pd\\nimport numpy as np\\nimport ma...t as xgb\\nget_ipython().magic('matplotlib inline')\", \"import pandas as pd\\nimport numpy as np\\nimport ma...t as xgb\\nget_ipython().magic('matplotlib inline')\", 'from sklearn.model_selection import train_test_s...sklearn.ensemble import GradientBoostingRegressor', \"train = pd.read_csv('train.csv') #change to '../...../input/sample_submission.csv' for kaggle upload\", 'train.head(1)', 'test.head(1)', 'sample_submission.head(1)', 'train.columns', 'test.columns', 'len(train)', 'len(test)', '# Extra features in train (which are note presen...n in train.columns if column not in test.columns]', 'train.isnull().sum()', 'train[train.isnull().any(axis=1)] #No missing values', 'def remove_outliers(old_df,number_of_std,columns... outliers from this column\\n    \\n    return new_df', \"#Remove outlier trips (in case length was caused...move_outliers(train,4,columns=['trip_duration']) \", \"train['dist'] = np.sqrt((train['pickup_latitude'...ickup_longitude']-test['dropoff_longitude'])**2) \", \"train['manh'] = abs(train['pickup_latitude']-tra...st['pickup_longitude']-test['dropoff_longitude'])\", \"#Convert to datetime\\ntrain['pickup_datetime'] = ...etime'] = pd.to_datetime(test['pickup_datetime'])\", ...], 'LinearRegression': <class 'sklearn.linear_model.base.LinearRegression'>, 'Out': {5:           id  vendor_id      pickup_datetime    ...    40.765602                  N            455  , 6:           id  vendor_id      pickup_datetime  pa...  \n\n  store_and_fwd_flag  \n0                  N  , 7:           id  trip_duration\n0  id3004672            959, 8: Index(['id', 'vendor_id', 'pickup_datetime', 'dr...',\n       'trip_duration'],\n      dtype='object'), 9: Index(['id', 'vendor_id', 'pickup_datetime', 'pa...de', 'store_and_fwd_flag'],\n      dtype='object'), 10: 1458644, 11: 625134, 12: ['dropoff_datetime', 'trip_duration'], 13: id                    0\nvendor_id             0\n...wd_flag    0\ntrip_duration         0\ndtype: int64, 14: Empty DataFrame\nColumns: [id, vendor_id, pickup_...ude, store_and_fwd_flag, trip_duration]\nIndex: [], ...}, 'X':              dist      manh  hour  dayofweek  mo...    1      4        0\n\n[1456583 rows x 6 columns], 'XGBRegressor': <class 'xgboost.sklearn.XGBRegressor'>, 'X_final':             dist      manh  hour  dayofweek  mon...     4      1        0\n\n[625134 rows x 6 columns], 'X_test':              dist      manh  hour  dayofweek  mo...     2      6        0\n\n[291317 rows x 6 columns], 'X_train':              dist      manh  hour  dayofweek  mo...    0      2        0\n\n[1165266 rows x 6 columns], ...}\n   2882             finally:\n   2883                 # Reset our crash handler in place\n   2884                 sys.excepthook = old_excepthook\n   2885         except SystemExit as e:\n\n...........................................................................\nC:\\Users\\Josh\\Documents\\Kaggle\\taxi\\<ipython-input-45-f130e4046d35> in <module>()\n     19               'seed': [1337]}\n     20 \n     21 \n     22 clf = GridSearchCV(xgb, parameters, n_jobs=-1, cv=3, scoring='roc_auc',verbose=2, refit=True)\n     23 \n---> 24 clf.fit(X_train, y_train)\n\n...........................................................................\nC:\\Users\\Josh\\Anaconda3\\lib\\site-packages\\sklearn\\model_selection\\_search.py in fit(self=GridSearchCV(cv=3, error_score='raise',\n       e..._score=True,\n       scoring='roc_auc', verbose=2), X=             dist      manh  hour  dayofweek  mo...    0      2        0\n\n[1165266 rows x 6 columns], y=438841     1124\n408043     1249\n890675      528\n...ame: trip_duration, Length: 1165266, dtype: int64, groups=None, **fit_params={})\n    633                                   return_train_score=self.return_train_score,\n    634                                   return_n_test_samples=True,\n    635                                   return_times=True, return_parameters=False,\n    636                                   error_score=self.error_score)\n    637           for parameters, (train, test) in product(candidate_params,\n--> 638                                                    cv.split(X, y, groups)))\n        cv.split = <bound method _BaseKFold.split of KFold(n_splits=3, random_state=None, shuffle=False)>\n        X =              dist      manh  hour  dayofweek  mo...    0      2        0\n\n[1165266 rows x 6 columns]\n        y = 438841     1124\n408043     1249\n890675      528\n...ame: trip_duration, Length: 1165266, dtype: int64\n        groups = None\n    639 \n    640         # if one choose to see train score, \"out\" will contain train score info\n    641         if self.return_train_score:\n    642             (train_score_dicts, test_score_dicts, test_sample_counts, fit_time,\n\n...........................................................................\nC:\\Users\\Josh\\Anaconda3\\lib\\site-packages\\sklearn\\externals\\joblib\\parallel.py in __call__(self=Parallel(n_jobs=-1), iterable=<generator object BaseSearchCV.fit.<locals>.<genexpr>>)\n    784             if pre_dispatch == \"all\" or n_jobs == 1:\n    785                 # The iterable was consumed all at once by the above for loop.\n    786                 # No need to wait for async callbacks to trigger to\n    787                 # consumption.\n    788                 self._iterating = False\n--> 789             self.retrieve()\n        self.retrieve = <bound method Parallel.retrieve of Parallel(n_jobs=-1)>\n    790             # Make sure that we get a last message telling us we are done\n    791             elapsed_time = time.time() - self._start_time\n    792             self._print('Done %3i out of %3i | elapsed: %s finished',\n    793                         (len(self._output), len(self._output),\n\n---------------------------------------------------------------------------\nSub-process traceback:\n---------------------------------------------------------------------------\nValueError                                         Fri Sep 15 11:53:27 2017\nPID: 7944                  Python 3.6.1: C:\\Users\\Josh\\Anaconda3\\python.exe\n...........................................................................\nC:\\Users\\Josh\\Anaconda3\\lib\\site-packages\\sklearn\\externals\\joblib\\parallel.py in __call__(self=<sklearn.externals.joblib.parallel.BatchedCalls object>)\n    126     def __init__(self, iterator_slice):\n    127         self.items = list(iterator_slice)\n    128         self._size = len(self.items)\n    129 \n    130     def __call__(self):\n--> 131         return [func(*args, **kwargs) for func, args, kwargs in self.items]\n        self.items = [(<function _fit_and_score>, (XGBRegressor(base_score=0.5, booster='gbtree', c...ght=1, seed=1337, silent=1,\n       subsample=0.8),              dist      manh  hour  dayofweek  mo...    0      2        0\n\n[1165266 rows x 6 columns], 438841     1124\n408043     1249\n890675      528\n...ame: trip_duration, Length: 1165266, dtype: int64, {'score': make_scorer(roc_auc_score, needs_threshold=True)}, memmap([ 388422,  388423,  388424, ..., 1165263, 1165264, 1165265]), memmap([     0,      1,      2, ..., 388419, 388420, 388421]), 2, {'colsample_bytree': 0.7, 'learning_rate': 0.05, 'max_depth': 6, 'min_child_weight': 11, 'missing': -999, 'n_estimators': 1, 'nthread': 4, 'seed': 1337, 'silent': 1, 'subsample': 0.8}), {'error_score': 'raise', 'fit_params': {}, 'return_n_test_samples': True, 'return_parameters': False, 'return_times': True, 'return_train_score': True})]\n    132 \n    133     def __len__(self):\n    134         return self._size\n    135 \n\n...........................................................................\nC:\\Users\\Josh\\Anaconda3\\lib\\site-packages\\sklearn\\externals\\joblib\\parallel.py in <listcomp>(.0=<list_iterator object>)\n    126     def __init__(self, iterator_slice):\n    127         self.items = list(iterator_slice)\n    128         self._size = len(self.items)\n    129 \n    130     def __call__(self):\n--> 131         return [func(*args, **kwargs) for func, args, kwargs in self.items]\n        func = <function _fit_and_score>\n        args = (XGBRegressor(base_score=0.5, booster='gbtree', c...ght=1, seed=1337, silent=1,\n       subsample=0.8),              dist      manh  hour  dayofweek  mo...    0      2        0\n\n[1165266 rows x 6 columns], 438841     1124\n408043     1249\n890675      528\n...ame: trip_duration, Length: 1165266, dtype: int64, {'score': make_scorer(roc_auc_score, needs_threshold=True)}, memmap([ 388422,  388423,  388424, ..., 1165263, 1165264, 1165265]), memmap([     0,      1,      2, ..., 388419, 388420, 388421]), 2, {'colsample_bytree': 0.7, 'learning_rate': 0.05, 'max_depth': 6, 'min_child_weight': 11, 'missing': -999, 'n_estimators': 1, 'nthread': 4, 'seed': 1337, 'silent': 1, 'subsample': 0.8})\n        kwargs = {'error_score': 'raise', 'fit_params': {}, 'return_n_test_samples': True, 'return_parameters': False, 'return_times': True, 'return_train_score': True}\n    132 \n    133     def __len__(self):\n    134         return self._size\n    135 \n\n...........................................................................\nC:\\Users\\Josh\\Anaconda3\\lib\\site-packages\\sklearn\\model_selection\\_validation.py in _fit_and_score(estimator=XGBRegressor(base_score=0.5, booster='gbtree', c...ght=1, seed=1337, silent=1,\n       subsample=0.8), X=             dist      manh  hour  dayofweek  mo...    0      2        0\n\n[1165266 rows x 6 columns], y=438841     1124\n408043     1249\n890675      528\n...ame: trip_duration, Length: 1165266, dtype: int64, scorer={'score': make_scorer(roc_auc_score, needs_threshold=True)}, train=memmap([ 388422,  388423,  388424, ..., 1165263, 1165264, 1165265]), test=memmap([     0,      1,      2, ..., 388419, 388420, 388421]), verbose=2, parameters={'colsample_bytree': 0.7, 'learning_rate': 0.05, 'max_depth': 6, 'min_child_weight': 11, 'missing': -999, 'n_estimators': 1, 'nthread': 4, 'seed': 1337, 'silent': 1, 'subsample': 0.8}, fit_params={}, return_train_score=True, return_parameters=False, return_n_test_samples=True, return_times=True, error_score='raise')\n    462                              \" make sure that it has been spelled correctly.)\")\n    463 \n    464     else:\n    465         fit_time = time.time() - start_time\n    466         # _score will return dict if is_multimetric is True\n--> 467         test_scores = _score(estimator, X_test, y_test, scorer, is_multimetric)\n        test_scores = {}\n        estimator = XGBRegressor(base_score=0.5, booster='gbtree', c...ght=1, seed=1337, silent=1,\n       subsample=0.8)\n        X_test =              dist      manh  hour  dayofweek  mo...     5      4        0\n\n[388422 rows x 6 columns]\n        y_test = 438841     1124\n408043     1249\n890675      528\n...Name: trip_duration, Length: 388422, dtype: int64\n        scorer = {'score': make_scorer(roc_auc_score, needs_threshold=True)}\n        is_multimetric = True\n    468         score_time = time.time() - start_time - fit_time\n    469         if return_train_score:\n    470             train_scores = _score(estimator, X_train, y_train, scorer,\n    471                                   is_multimetric)\n\n...........................................................................\nC:\\Users\\Josh\\Anaconda3\\lib\\site-packages\\sklearn\\model_selection\\_validation.py in _score(estimator=XGBRegressor(base_score=0.5, booster='gbtree', c...ght=1, seed=1337, silent=1,\n       subsample=0.8), X_test=             dist      manh  hour  dayofweek  mo...     5      4        0\n\n[388422 rows x 6 columns], y_test=438841     1124\n408043     1249\n890675      528\n...Name: trip_duration, Length: 388422, dtype: int64, scorer={'score': make_scorer(roc_auc_score, needs_threshold=True)}, is_multimetric=True)\n    497 \n    498     Will return a single float if is_multimetric is False and a dict of floats,\n    499     if is_multimetric is True\n    500     \"\"\"\n    501     if is_multimetric:\n--> 502         return _multimetric_score(estimator, X_test, y_test, scorer)\n        estimator = XGBRegressor(base_score=0.5, booster='gbtree', c...ght=1, seed=1337, silent=1,\n       subsample=0.8)\n        X_test =              dist      manh  hour  dayofweek  mo...     5      4        0\n\n[388422 rows x 6 columns]\n        y_test = 438841     1124\n408043     1249\n890675      528\n...Name: trip_duration, Length: 388422, dtype: int64\n        scorer = {'score': make_scorer(roc_auc_score, needs_threshold=True)}\n    503     else:\n    504         if y_test is None:\n    505             score = scorer(estimator, X_test)\n    506         else:\n\n...........................................................................\nC:\\Users\\Josh\\Anaconda3\\lib\\site-packages\\sklearn\\model_selection\\_validation.py in _multimetric_score(estimator=XGBRegressor(base_score=0.5, booster='gbtree', c...ght=1, seed=1337, silent=1,\n       subsample=0.8), X_test=             dist      manh  hour  dayofweek  mo...     5      4        0\n\n[388422 rows x 6 columns], y_test=438841     1124\n408043     1249\n890675      528\n...Name: trip_duration, Length: 388422, dtype: int64, scorers={'score': make_scorer(roc_auc_score, needs_threshold=True)})\n    527 \n    528     for name, scorer in scorers.items():\n    529         if y_test is None:\n    530             score = scorer(estimator, X_test)\n    531         else:\n--> 532             score = scorer(estimator, X_test, y_test)\n        score = undefined\n        scorer = make_scorer(roc_auc_score, needs_threshold=True)\n        estimator = XGBRegressor(base_score=0.5, booster='gbtree', c...ght=1, seed=1337, silent=1,\n       subsample=0.8)\n        X_test =              dist      manh  hour  dayofweek  mo...     5      4        0\n\n[388422 rows x 6 columns]\n        y_test = 438841     1124\n408043     1249\n890675      528\n...Name: trip_duration, Length: 388422, dtype: int64\n    533 \n    534         if hasattr(score, 'item'):\n    535             try:\n    536                 # e.g. unwrap memmapped scalars\n\n...........................................................................\nC:\\Users\\Josh\\Anaconda3\\lib\\site-packages\\sklearn\\metrics\\scorer.py in __call__(self=make_scorer(roc_auc_score, needs_threshold=True), clf=XGBRegressor(base_score=0.5, booster='gbtree', c...ght=1, seed=1337, silent=1,\n       subsample=0.8), X=             dist      manh  hour  dayofweek  mo...     5      4        0\n\n[388422 rows x 6 columns], y=438841     1124\n408043     1249\n890675      528\n...Name: trip_duration, Length: 388422, dtype: int64, sample_weight=None)\n    176         \"\"\"\n    177         super(_ThresholdScorer, self).__call__(clf, X, y,\n    178                                                sample_weight=sample_weight)\n    179         y_type = type_of_target(y)\n    180         if y_type not in (\"binary\", \"multilabel-indicator\"):\n--> 181             raise ValueError(\"{0} format is not supported\".format(y_type))\n        y_type = 'multiclass'\n    182 \n    183         if is_regressor(clf):\n    184             y_pred = clf.predict(X)\n    185         else:\n\nValueError: multiclass format is not supported\n___________________________________________________________________________",
     "output_type": "error",
     "traceback": [
      "\u001b[1;31m---------------------------------------------------------------------------\u001b[0m",
      "\u001b[1;31mRemoteTraceback\u001b[0m                           Traceback (most recent call last)",
      "\u001b[1;31mRemoteTraceback\u001b[0m: \n\"\"\"\nTraceback (most recent call last):\n  File \"C:\\Users\\Josh\\Anaconda3\\lib\\site-packages\\sklearn\\externals\\joblib\\_parallel_backends.py\", line 350, in __call__\n    return self.func(*args, **kwargs)\n  File \"C:\\Users\\Josh\\Anaconda3\\lib\\site-packages\\sklearn\\externals\\joblib\\parallel.py\", line 131, in __call__\n    return [func(*args, **kwargs) for func, args, kwargs in self.items]\n  File \"C:\\Users\\Josh\\Anaconda3\\lib\\site-packages\\sklearn\\externals\\joblib\\parallel.py\", line 131, in <listcomp>\n    return [func(*args, **kwargs) for func, args, kwargs in self.items]\n  File \"C:\\Users\\Josh\\Anaconda3\\lib\\site-packages\\sklearn\\model_selection\\_validation.py\", line 467, in _fit_and_score\n    test_scores = _score(estimator, X_test, y_test, scorer, is_multimetric)\n  File \"C:\\Users\\Josh\\Anaconda3\\lib\\site-packages\\sklearn\\model_selection\\_validation.py\", line 502, in _score\n    return _multimetric_score(estimator, X_test, y_test, scorer)\n  File \"C:\\Users\\Josh\\Anaconda3\\lib\\site-packages\\sklearn\\model_selection\\_validation.py\", line 532, in _multimetric_score\n    score = scorer(estimator, X_test, y_test)\n  File \"C:\\Users\\Josh\\Anaconda3\\lib\\site-packages\\sklearn\\metrics\\scorer.py\", line 181, in __call__\n    raise ValueError(\"{0} format is not supported\".format(y_type))\nValueError: multiclass format is not supported\n\nDuring handling of the above exception, another exception occurred:\n\nTraceback (most recent call last):\n  File \"C:\\Users\\Josh\\Anaconda3\\lib\\multiprocessing\\pool.py\", line 119, in worker\n    result = (True, func(*args, **kwds))\n  File \"C:\\Users\\Josh\\Anaconda3\\lib\\site-packages\\sklearn\\externals\\joblib\\_parallel_backends.py\", line 359, in __call__\n    raise TransportableException(text, e_type)\nsklearn.externals.joblib.my_exceptions.TransportableException: TransportableException\n___________________________________________________________________________\nValueError                                         Fri Sep 15 11:53:27 2017\nPID: 7944                  Python 3.6.1: C:\\Users\\Josh\\Anaconda3\\python.exe\n...........................................................................\nC:\\Users\\Josh\\Anaconda3\\lib\\site-packages\\sklearn\\externals\\joblib\\parallel.py in __call__(self=<sklearn.externals.joblib.parallel.BatchedCalls object>)\n    126     def __init__(self, iterator_slice):\n    127         self.items = list(iterator_slice)\n    128         self._size = len(self.items)\n    129 \n    130     def __call__(self):\n--> 131         return [func(*args, **kwargs) for func, args, kwargs in self.items]\n        self.items = [(<function _fit_and_score>, (XGBRegressor(base_score=0.5, booster='gbtree', c...ght=1, seed=1337, silent=1,\n       subsample=0.8),              dist      manh  hour  dayofweek  mo...    0      2        0\n\n[1165266 rows x 6 columns], 438841     1124\n408043     1249\n890675      528\n...ame: trip_duration, Length: 1165266, dtype: int64, {'score': make_scorer(roc_auc_score, needs_threshold=True)}, memmap([ 388422,  388423,  388424, ..., 1165263, 1165264, 1165265]), memmap([     0,      1,      2, ..., 388419, 388420, 388421]), 2, {'colsample_bytree': 0.7, 'learning_rate': 0.05, 'max_depth': 6, 'min_child_weight': 11, 'missing': -999, 'n_estimators': 1, 'nthread': 4, 'seed': 1337, 'silent': 1, 'subsample': 0.8}), {'error_score': 'raise', 'fit_params': {}, 'return_n_test_samples': True, 'return_parameters': False, 'return_times': True, 'return_train_score': True})]\n    132 \n    133     def __len__(self):\n    134         return self._size\n    135 \n\n...........................................................................\nC:\\Users\\Josh\\Anaconda3\\lib\\site-packages\\sklearn\\externals\\joblib\\parallel.py in <listcomp>(.0=<list_iterator object>)\n    126     def __init__(self, iterator_slice):\n    127         self.items = list(iterator_slice)\n    128         self._size = len(self.items)\n    129 \n    130     def __call__(self):\n--> 131         return [func(*args, **kwargs) for func, args, kwargs in self.items]\n        func = <function _fit_and_score>\n        args = (XGBRegressor(base_score=0.5, booster='gbtree', c...ght=1, seed=1337, silent=1,\n       subsample=0.8),              dist      manh  hour  dayofweek  mo...    0      2        0\n\n[1165266 rows x 6 columns], 438841     1124\n408043     1249\n890675      528\n...ame: trip_duration, Length: 1165266, dtype: int64, {'score': make_scorer(roc_auc_score, needs_threshold=True)}, memmap([ 388422,  388423,  388424, ..., 1165263, 1165264, 1165265]), memmap([     0,      1,      2, ..., 388419, 388420, 388421]), 2, {'colsample_bytree': 0.7, 'learning_rate': 0.05, 'max_depth': 6, 'min_child_weight': 11, 'missing': -999, 'n_estimators': 1, 'nthread': 4, 'seed': 1337, 'silent': 1, 'subsample': 0.8})\n        kwargs = {'error_score': 'raise', 'fit_params': {}, 'return_n_test_samples': True, 'return_parameters': False, 'return_times': True, 'return_train_score': True}\n    132 \n    133     def __len__(self):\n    134         return self._size\n    135 \n\n...........................................................................\nC:\\Users\\Josh\\Anaconda3\\lib\\site-packages\\sklearn\\model_selection\\_validation.py in _fit_and_score(estimator=XGBRegressor(base_score=0.5, booster='gbtree', c...ght=1, seed=1337, silent=1,\n       subsample=0.8), X=             dist      manh  hour  dayofweek  mo...    0      2        0\n\n[1165266 rows x 6 columns], y=438841     1124\n408043     1249\n890675      528\n...ame: trip_duration, Length: 1165266, dtype: int64, scorer={'score': make_scorer(roc_auc_score, needs_threshold=True)}, train=memmap([ 388422,  388423,  388424, ..., 1165263, 1165264, 1165265]), test=memmap([     0,      1,      2, ..., 388419, 388420, 388421]), verbose=2, parameters={'colsample_bytree': 0.7, 'learning_rate': 0.05, 'max_depth': 6, 'min_child_weight': 11, 'missing': -999, 'n_estimators': 1, 'nthread': 4, 'seed': 1337, 'silent': 1, 'subsample': 0.8}, fit_params={}, return_train_score=True, return_parameters=False, return_n_test_samples=True, return_times=True, error_score='raise')\n    462                              \" make sure that it has been spelled correctly.)\")\n    463 \n    464     else:\n    465         fit_time = time.time() - start_time\n    466         # _score will return dict if is_multimetric is True\n--> 467         test_scores = _score(estimator, X_test, y_test, scorer, is_multimetric)\n        test_scores = {}\n        estimator = XGBRegressor(base_score=0.5, booster='gbtree', c...ght=1, seed=1337, silent=1,\n       subsample=0.8)\n        X_test =              dist      manh  hour  dayofweek  mo...     5      4        0\n\n[388422 rows x 6 columns]\n        y_test = 438841     1124\n408043     1249\n890675      528\n...Name: trip_duration, Length: 388422, dtype: int64\n        scorer = {'score': make_scorer(roc_auc_score, needs_threshold=True)}\n        is_multimetric = True\n    468         score_time = time.time() - start_time - fit_time\n    469         if return_train_score:\n    470             train_scores = _score(estimator, X_train, y_train, scorer,\n    471                                   is_multimetric)\n\n...........................................................................\nC:\\Users\\Josh\\Anaconda3\\lib\\site-packages\\sklearn\\model_selection\\_validation.py in _score(estimator=XGBRegressor(base_score=0.5, booster='gbtree', c...ght=1, seed=1337, silent=1,\n       subsample=0.8), X_test=             dist      manh  hour  dayofweek  mo...     5      4        0\n\n[388422 rows x 6 columns], y_test=438841     1124\n408043     1249\n890675      528\n...Name: trip_duration, Length: 388422, dtype: int64, scorer={'score': make_scorer(roc_auc_score, needs_threshold=True)}, is_multimetric=True)\n    497 \n    498     Will return a single float if is_multimetric is False and a dict of floats,\n    499     if is_multimetric is True\n    500     \"\"\"\n    501     if is_multimetric:\n--> 502         return _multimetric_score(estimator, X_test, y_test, scorer)\n        estimator = XGBRegressor(base_score=0.5, booster='gbtree', c...ght=1, seed=1337, silent=1,\n       subsample=0.8)\n        X_test =              dist      manh  hour  dayofweek  mo...     5      4        0\n\n[388422 rows x 6 columns]\n        y_test = 438841     1124\n408043     1249\n890675      528\n...Name: trip_duration, Length: 388422, dtype: int64\n        scorer = {'score': make_scorer(roc_auc_score, needs_threshold=True)}\n    503     else:\n    504         if y_test is None:\n    505             score = scorer(estimator, X_test)\n    506         else:\n\n...........................................................................\nC:\\Users\\Josh\\Anaconda3\\lib\\site-packages\\sklearn\\model_selection\\_validation.py in _multimetric_score(estimator=XGBRegressor(base_score=0.5, booster='gbtree', c...ght=1, seed=1337, silent=1,\n       subsample=0.8), X_test=             dist      manh  hour  dayofweek  mo...     5      4        0\n\n[388422 rows x 6 columns], y_test=438841     1124\n408043     1249\n890675      528\n...Name: trip_duration, Length: 388422, dtype: int64, scorers={'score': make_scorer(roc_auc_score, needs_threshold=True)})\n    527 \n    528     for name, scorer in scorers.items():\n    529         if y_test is None:\n    530             score = scorer(estimator, X_test)\n    531         else:\n--> 532             score = scorer(estimator, X_test, y_test)\n        score = undefined\n        scorer = make_scorer(roc_auc_score, needs_threshold=True)\n        estimator = XGBRegressor(base_score=0.5, booster='gbtree', c...ght=1, seed=1337, silent=1,\n       subsample=0.8)\n        X_test =              dist      manh  hour  dayofweek  mo...     5      4        0\n\n[388422 rows x 6 columns]\n        y_test = 438841     1124\n408043     1249\n890675      528\n...Name: trip_duration, Length: 388422, dtype: int64\n    533 \n    534         if hasattr(score, 'item'):\n    535             try:\n    536                 # e.g. unwrap memmapped scalars\n\n...........................................................................\nC:\\Users\\Josh\\Anaconda3\\lib\\site-packages\\sklearn\\metrics\\scorer.py in __call__(self=make_scorer(roc_auc_score, needs_threshold=True), clf=XGBRegressor(base_score=0.5, booster='gbtree', c...ght=1, seed=1337, silent=1,\n       subsample=0.8), X=             dist      manh  hour  dayofweek  mo...     5      4        0\n\n[388422 rows x 6 columns], y=438841     1124\n408043     1249\n890675      528\n...Name: trip_duration, Length: 388422, dtype: int64, sample_weight=None)\n    176         \"\"\"\n    177         super(_ThresholdScorer, self).__call__(clf, X, y,\n    178                                                sample_weight=sample_weight)\n    179         y_type = type_of_target(y)\n    180         if y_type not in (\"binary\", \"multilabel-indicator\"):\n--> 181             raise ValueError(\"{0} format is not supported\".format(y_type))\n        y_type = 'multiclass'\n    182 \n    183         if is_regressor(clf):\n    184             y_pred = clf.predict(X)\n    185         else:\n\nValueError: multiclass format is not supported\n___________________________________________________________________________\n\"\"\"",
      "\nThe above exception was the direct cause of the following exception:\n",
      "\u001b[1;31mTransportableException\u001b[0m                    Traceback (most recent call last)",
      "\u001b[1;32mC:\\Users\\Josh\\Anaconda3\\lib\\site-packages\\sklearn\\externals\\joblib\\parallel.py\u001b[0m in \u001b[0;36mretrieve\u001b[1;34m(self)\u001b[0m\n\u001b[0;32m    698\u001b[0m                 \u001b[1;32mif\u001b[0m \u001b[0mgetattr\u001b[0m\u001b[1;33m(\u001b[0m\u001b[0mself\u001b[0m\u001b[1;33m.\u001b[0m\u001b[0m_backend\u001b[0m\u001b[1;33m,\u001b[0m \u001b[1;34m'supports_timeout'\u001b[0m\u001b[1;33m,\u001b[0m \u001b[1;32mFalse\u001b[0m\u001b[1;33m)\u001b[0m\u001b[1;33m:\u001b[0m\u001b[1;33m\u001b[0m\u001b[0m\n\u001b[1;32m--> 699\u001b[1;33m                     \u001b[0mself\u001b[0m\u001b[1;33m.\u001b[0m\u001b[0m_output\u001b[0m\u001b[1;33m.\u001b[0m\u001b[0mextend\u001b[0m\u001b[1;33m(\u001b[0m\u001b[0mjob\u001b[0m\u001b[1;33m.\u001b[0m\u001b[0mget\u001b[0m\u001b[1;33m(\u001b[0m\u001b[0mtimeout\u001b[0m\u001b[1;33m=\u001b[0m\u001b[0mself\u001b[0m\u001b[1;33m.\u001b[0m\u001b[0mtimeout\u001b[0m\u001b[1;33m)\u001b[0m\u001b[1;33m)\u001b[0m\u001b[1;33m\u001b[0m\u001b[0m\n\u001b[0m\u001b[0;32m    700\u001b[0m                 \u001b[1;32melse\u001b[0m\u001b[1;33m:\u001b[0m\u001b[1;33m\u001b[0m\u001b[0m\n",
      "\u001b[1;32mC:\\Users\\Josh\\Anaconda3\\lib\\multiprocessing\\pool.py\u001b[0m in \u001b[0;36mget\u001b[1;34m(self, timeout)\u001b[0m\n\u001b[0;32m    607\u001b[0m         \u001b[1;32melse\u001b[0m\u001b[1;33m:\u001b[0m\u001b[1;33m\u001b[0m\u001b[0m\n\u001b[1;32m--> 608\u001b[1;33m             \u001b[1;32mraise\u001b[0m \u001b[0mself\u001b[0m\u001b[1;33m.\u001b[0m\u001b[0m_value\u001b[0m\u001b[1;33m\u001b[0m\u001b[0m\n\u001b[0m\u001b[0;32m    609\u001b[0m \u001b[1;33m\u001b[0m\u001b[0m\n",
      "\u001b[1;31mTransportableException\u001b[0m: TransportableException\n___________________________________________________________________________\nValueError                                         Fri Sep 15 11:53:27 2017\nPID: 7944                  Python 3.6.1: C:\\Users\\Josh\\Anaconda3\\python.exe\n...........................................................................\nC:\\Users\\Josh\\Anaconda3\\lib\\site-packages\\sklearn\\externals\\joblib\\parallel.py in __call__(self=<sklearn.externals.joblib.parallel.BatchedCalls object>)\n    126     def __init__(self, iterator_slice):\n    127         self.items = list(iterator_slice)\n    128         self._size = len(self.items)\n    129 \n    130     def __call__(self):\n--> 131         return [func(*args, **kwargs) for func, args, kwargs in self.items]\n        self.items = [(<function _fit_and_score>, (XGBRegressor(base_score=0.5, booster='gbtree', c...ght=1, seed=1337, silent=1,\n       subsample=0.8),              dist      manh  hour  dayofweek  mo...    0      2        0\n\n[1165266 rows x 6 columns], 438841     1124\n408043     1249\n890675      528\n...ame: trip_duration, Length: 1165266, dtype: int64, {'score': make_scorer(roc_auc_score, needs_threshold=True)}, memmap([ 388422,  388423,  388424, ..., 1165263, 1165264, 1165265]), memmap([     0,      1,      2, ..., 388419, 388420, 388421]), 2, {'colsample_bytree': 0.7, 'learning_rate': 0.05, 'max_depth': 6, 'min_child_weight': 11, 'missing': -999, 'n_estimators': 1, 'nthread': 4, 'seed': 1337, 'silent': 1, 'subsample': 0.8}), {'error_score': 'raise', 'fit_params': {}, 'return_n_test_samples': True, 'return_parameters': False, 'return_times': True, 'return_train_score': True})]\n    132 \n    133     def __len__(self):\n    134         return self._size\n    135 \n\n...........................................................................\nC:\\Users\\Josh\\Anaconda3\\lib\\site-packages\\sklearn\\externals\\joblib\\parallel.py in <listcomp>(.0=<list_iterator object>)\n    126     def __init__(self, iterator_slice):\n    127         self.items = list(iterator_slice)\n    128         self._size = len(self.items)\n    129 \n    130     def __call__(self):\n--> 131         return [func(*args, **kwargs) for func, args, kwargs in self.items]\n        func = <function _fit_and_score>\n        args = (XGBRegressor(base_score=0.5, booster='gbtree', c...ght=1, seed=1337, silent=1,\n       subsample=0.8),              dist      manh  hour  dayofweek  mo...    0      2        0\n\n[1165266 rows x 6 columns], 438841     1124\n408043     1249\n890675      528\n...ame: trip_duration, Length: 1165266, dtype: int64, {'score': make_scorer(roc_auc_score, needs_threshold=True)}, memmap([ 388422,  388423,  388424, ..., 1165263, 1165264, 1165265]), memmap([     0,      1,      2, ..., 388419, 388420, 388421]), 2, {'colsample_bytree': 0.7, 'learning_rate': 0.05, 'max_depth': 6, 'min_child_weight': 11, 'missing': -999, 'n_estimators': 1, 'nthread': 4, 'seed': 1337, 'silent': 1, 'subsample': 0.8})\n        kwargs = {'error_score': 'raise', 'fit_params': {}, 'return_n_test_samples': True, 'return_parameters': False, 'return_times': True, 'return_train_score': True}\n    132 \n    133     def __len__(self):\n    134         return self._size\n    135 \n\n...........................................................................\nC:\\Users\\Josh\\Anaconda3\\lib\\site-packages\\sklearn\\model_selection\\_validation.py in _fit_and_score(estimator=XGBRegressor(base_score=0.5, booster='gbtree', c...ght=1, seed=1337, silent=1,\n       subsample=0.8), X=             dist      manh  hour  dayofweek  mo...    0      2        0\n\n[1165266 rows x 6 columns], y=438841     1124\n408043     1249\n890675      528\n...ame: trip_duration, Length: 1165266, dtype: int64, scorer={'score': make_scorer(roc_auc_score, needs_threshold=True)}, train=memmap([ 388422,  388423,  388424, ..., 1165263, 1165264, 1165265]), test=memmap([     0,      1,      2, ..., 388419, 388420, 388421]), verbose=2, parameters={'colsample_bytree': 0.7, 'learning_rate': 0.05, 'max_depth': 6, 'min_child_weight': 11, 'missing': -999, 'n_estimators': 1, 'nthread': 4, 'seed': 1337, 'silent': 1, 'subsample': 0.8}, fit_params={}, return_train_score=True, return_parameters=False, return_n_test_samples=True, return_times=True, error_score='raise')\n    462                              \" make sure that it has been spelled correctly.)\")\n    463 \n    464     else:\n    465         fit_time = time.time() - start_time\n    466         # _score will return dict if is_multimetric is True\n--> 467         test_scores = _score(estimator, X_test, y_test, scorer, is_multimetric)\n        test_scores = {}\n        estimator = XGBRegressor(base_score=0.5, booster='gbtree', c...ght=1, seed=1337, silent=1,\n       subsample=0.8)\n        X_test =              dist      manh  hour  dayofweek  mo...     5      4        0\n\n[388422 rows x 6 columns]\n        y_test = 438841     1124\n408043     1249\n890675      528\n...Name: trip_duration, Length: 388422, dtype: int64\n        scorer = {'score': make_scorer(roc_auc_score, needs_threshold=True)}\n        is_multimetric = True\n    468         score_time = time.time() - start_time - fit_time\n    469         if return_train_score:\n    470             train_scores = _score(estimator, X_train, y_train, scorer,\n    471                                   is_multimetric)\n\n...........................................................................\nC:\\Users\\Josh\\Anaconda3\\lib\\site-packages\\sklearn\\model_selection\\_validation.py in _score(estimator=XGBRegressor(base_score=0.5, booster='gbtree', c...ght=1, seed=1337, silent=1,\n       subsample=0.8), X_test=             dist      manh  hour  dayofweek  mo...     5      4        0\n\n[388422 rows x 6 columns], y_test=438841     1124\n408043     1249\n890675      528\n...Name: trip_duration, Length: 388422, dtype: int64, scorer={'score': make_scorer(roc_auc_score, needs_threshold=True)}, is_multimetric=True)\n    497 \n    498     Will return a single float if is_multimetric is False and a dict of floats,\n    499     if is_multimetric is True\n    500     \"\"\"\n    501     if is_multimetric:\n--> 502         return _multimetric_score(estimator, X_test, y_test, scorer)\n        estimator = XGBRegressor(base_score=0.5, booster='gbtree', c...ght=1, seed=1337, silent=1,\n       subsample=0.8)\n        X_test =              dist      manh  hour  dayofweek  mo...     5      4        0\n\n[388422 rows x 6 columns]\n        y_test = 438841     1124\n408043     1249\n890675      528\n...Name: trip_duration, Length: 388422, dtype: int64\n        scorer = {'score': make_scorer(roc_auc_score, needs_threshold=True)}\n    503     else:\n    504         if y_test is None:\n    505             score = scorer(estimator, X_test)\n    506         else:\n\n...........................................................................\nC:\\Users\\Josh\\Anaconda3\\lib\\site-packages\\sklearn\\model_selection\\_validation.py in _multimetric_score(estimator=XGBRegressor(base_score=0.5, booster='gbtree', c...ght=1, seed=1337, silent=1,\n       subsample=0.8), X_test=             dist      manh  hour  dayofweek  mo...     5      4        0\n\n[388422 rows x 6 columns], y_test=438841     1124\n408043     1249\n890675      528\n...Name: trip_duration, Length: 388422, dtype: int64, scorers={'score': make_scorer(roc_auc_score, needs_threshold=True)})\n    527 \n    528     for name, scorer in scorers.items():\n    529         if y_test is None:\n    530             score = scorer(estimator, X_test)\n    531         else:\n--> 532             score = scorer(estimator, X_test, y_test)\n        score = undefined\n        scorer = make_scorer(roc_auc_score, needs_threshold=True)\n        estimator = XGBRegressor(base_score=0.5, booster='gbtree', c...ght=1, seed=1337, silent=1,\n       subsample=0.8)\n        X_test =              dist      manh  hour  dayofweek  mo...     5      4        0\n\n[388422 rows x 6 columns]\n        y_test = 438841     1124\n408043     1249\n890675      528\n...Name: trip_duration, Length: 388422, dtype: int64\n    533 \n    534         if hasattr(score, 'item'):\n    535             try:\n    536                 # e.g. unwrap memmapped scalars\n\n...........................................................................\nC:\\Users\\Josh\\Anaconda3\\lib\\site-packages\\sklearn\\metrics\\scorer.py in __call__(self=make_scorer(roc_auc_score, needs_threshold=True), clf=XGBRegressor(base_score=0.5, booster='gbtree', c...ght=1, seed=1337, silent=1,\n       subsample=0.8), X=             dist      manh  hour  dayofweek  mo...     5      4        0\n\n[388422 rows x 6 columns], y=438841     1124\n408043     1249\n890675      528\n...Name: trip_duration, Length: 388422, dtype: int64, sample_weight=None)\n    176         \"\"\"\n    177         super(_ThresholdScorer, self).__call__(clf, X, y,\n    178                                                sample_weight=sample_weight)\n    179         y_type = type_of_target(y)\n    180         if y_type not in (\"binary\", \"multilabel-indicator\"):\n--> 181             raise ValueError(\"{0} format is not supported\".format(y_type))\n        y_type = 'multiclass'\n    182 \n    183         if is_regressor(clf):\n    184             y_pred = clf.predict(X)\n    185         else:\n\nValueError: multiclass format is not supported\n___________________________________________________________________________",
      "\nDuring handling of the above exception, another exception occurred:\n",
      "\u001b[1;31mJoblibValueError\u001b[0m                          Traceback (most recent call last)",
      "\u001b[1;32m<ipython-input-45-f130e4046d35>\u001b[0m in \u001b[0;36m<module>\u001b[1;34m()\u001b[0m\n\u001b[0;32m     22\u001b[0m \u001b[0mclf\u001b[0m \u001b[1;33m=\u001b[0m \u001b[0mGridSearchCV\u001b[0m\u001b[1;33m(\u001b[0m\u001b[0mxgb\u001b[0m\u001b[1;33m,\u001b[0m \u001b[0mparameters\u001b[0m\u001b[1;33m,\u001b[0m \u001b[0mn_jobs\u001b[0m\u001b[1;33m=\u001b[0m\u001b[1;33m-\u001b[0m\u001b[1;36m1\u001b[0m\u001b[1;33m,\u001b[0m \u001b[0mcv\u001b[0m\u001b[1;33m=\u001b[0m\u001b[1;36m3\u001b[0m\u001b[1;33m,\u001b[0m \u001b[0mscoring\u001b[0m\u001b[1;33m=\u001b[0m\u001b[1;34m'roc_auc'\u001b[0m\u001b[1;33m,\u001b[0m\u001b[0mverbose\u001b[0m\u001b[1;33m=\u001b[0m\u001b[1;36m2\u001b[0m\u001b[1;33m,\u001b[0m \u001b[0mrefit\u001b[0m\u001b[1;33m=\u001b[0m\u001b[1;32mTrue\u001b[0m\u001b[1;33m)\u001b[0m\u001b[1;33m\u001b[0m\u001b[0m\n\u001b[0;32m     23\u001b[0m \u001b[1;33m\u001b[0m\u001b[0m\n\u001b[1;32m---> 24\u001b[1;33m \u001b[0mclf\u001b[0m\u001b[1;33m.\u001b[0m\u001b[0mfit\u001b[0m\u001b[1;33m(\u001b[0m\u001b[0mX_train\u001b[0m\u001b[1;33m,\u001b[0m \u001b[0my_train\u001b[0m\u001b[1;33m)\u001b[0m\u001b[1;33m\u001b[0m\u001b[0m\n\u001b[0m",
      "\u001b[1;32mC:\\Users\\Josh\\Anaconda3\\lib\\site-packages\\sklearn\\model_selection\\_search.py\u001b[0m in \u001b[0;36mfit\u001b[1;34m(self, X, y, groups, **fit_params)\u001b[0m\n\u001b[0;32m    636\u001b[0m                                   error_score=self.error_score)\n\u001b[0;32m    637\u001b[0m           for parameters, (train, test) in product(candidate_params,\n\u001b[1;32m--> 638\u001b[1;33m                                                    cv.split(X, y, groups)))\n\u001b[0m\u001b[0;32m    639\u001b[0m \u001b[1;33m\u001b[0m\u001b[0m\n\u001b[0;32m    640\u001b[0m         \u001b[1;31m# if one choose to see train score, \"out\" will contain train score info\u001b[0m\u001b[1;33m\u001b[0m\u001b[1;33m\u001b[0m\u001b[0m\n",
      "\u001b[1;32mC:\\Users\\Josh\\Anaconda3\\lib\\site-packages\\sklearn\\externals\\joblib\\parallel.py\u001b[0m in \u001b[0;36m__call__\u001b[1;34m(self, iterable)\u001b[0m\n\u001b[0;32m    787\u001b[0m                 \u001b[1;31m# consumption.\u001b[0m\u001b[1;33m\u001b[0m\u001b[1;33m\u001b[0m\u001b[0m\n\u001b[0;32m    788\u001b[0m                 \u001b[0mself\u001b[0m\u001b[1;33m.\u001b[0m\u001b[0m_iterating\u001b[0m \u001b[1;33m=\u001b[0m \u001b[1;32mFalse\u001b[0m\u001b[1;33m\u001b[0m\u001b[0m\n\u001b[1;32m--> 789\u001b[1;33m             \u001b[0mself\u001b[0m\u001b[1;33m.\u001b[0m\u001b[0mretrieve\u001b[0m\u001b[1;33m(\u001b[0m\u001b[1;33m)\u001b[0m\u001b[1;33m\u001b[0m\u001b[0m\n\u001b[0m\u001b[0;32m    790\u001b[0m             \u001b[1;31m# Make sure that we get a last message telling us we are done\u001b[0m\u001b[1;33m\u001b[0m\u001b[1;33m\u001b[0m\u001b[0m\n\u001b[0;32m    791\u001b[0m             \u001b[0melapsed_time\u001b[0m \u001b[1;33m=\u001b[0m \u001b[0mtime\u001b[0m\u001b[1;33m.\u001b[0m\u001b[0mtime\u001b[0m\u001b[1;33m(\u001b[0m\u001b[1;33m)\u001b[0m \u001b[1;33m-\u001b[0m \u001b[0mself\u001b[0m\u001b[1;33m.\u001b[0m\u001b[0m_start_time\u001b[0m\u001b[1;33m\u001b[0m\u001b[0m\n",
      "\u001b[1;32mC:\\Users\\Josh\\Anaconda3\\lib\\site-packages\\sklearn\\externals\\joblib\\parallel.py\u001b[0m in \u001b[0;36mretrieve\u001b[1;34m(self)\u001b[0m\n\u001b[0;32m    738\u001b[0m                     \u001b[0mexception\u001b[0m \u001b[1;33m=\u001b[0m \u001b[0mexception_type\u001b[0m\u001b[1;33m(\u001b[0m\u001b[0mreport\u001b[0m\u001b[1;33m)\u001b[0m\u001b[1;33m\u001b[0m\u001b[0m\n\u001b[0;32m    739\u001b[0m \u001b[1;33m\u001b[0m\u001b[0m\n\u001b[1;32m--> 740\u001b[1;33m                     \u001b[1;32mraise\u001b[0m \u001b[0mexception\u001b[0m\u001b[1;33m\u001b[0m\u001b[0m\n\u001b[0m\u001b[0;32m    741\u001b[0m \u001b[1;33m\u001b[0m\u001b[0m\n\u001b[0;32m    742\u001b[0m     \u001b[1;32mdef\u001b[0m \u001b[0m__call__\u001b[0m\u001b[1;33m(\u001b[0m\u001b[0mself\u001b[0m\u001b[1;33m,\u001b[0m \u001b[0miterable\u001b[0m\u001b[1;33m)\u001b[0m\u001b[1;33m:\u001b[0m\u001b[1;33m\u001b[0m\u001b[0m\n",
      "\u001b[1;31mJoblibValueError\u001b[0m: JoblibValueError\n___________________________________________________________________________\nMultiprocessing exception:\n...........................................................................\nC:\\Users\\Josh\\Anaconda3\\lib\\runpy.py in _run_module_as_main(mod_name='ipykernel_launcher', alter_argv=1)\n    188         sys.exit(msg)\n    189     main_globals = sys.modules[\"__main__\"].__dict__\n    190     if alter_argv:\n    191         sys.argv[0] = mod_spec.origin\n    192     return _run_code(code, main_globals, None,\n--> 193                      \"__main__\", mod_spec)\n        mod_spec = ModuleSpec(name='ipykernel_launcher', loader=<_f...nda3\\\\lib\\\\site-packages\\\\ipykernel_launcher.py')\n    194 \n    195 def run_module(mod_name, init_globals=None,\n    196                run_name=None, alter_sys=False):\n    197     \"\"\"Execute a module's code without importing it\n\n...........................................................................\nC:\\Users\\Josh\\Anaconda3\\lib\\runpy.py in _run_code(code=<code object <module> at 0x000001D02285BC90, fil...lib\\site-packages\\ipykernel_launcher.py\", line 5>, run_globals={'__annotations__': {}, '__builtins__': <module 'builtins' (built-in)>, '__cached__': r'C:\\Users\\Josh\\Anaconda3\\lib\\site-packages\\__pycache__\\ipykernel_launcher.cpython-36.pyc', '__doc__': 'Entry point for launching an IPython kernel.\\n\\nTh...orts until\\nafter removing the cwd from sys.path.\\n', '__file__': r'C:\\Users\\Josh\\Anaconda3\\lib\\site-packages\\ipykernel_launcher.py', '__loader__': <_frozen_importlib_external.SourceFileLoader object>, '__name__': '__main__', '__package__': '', '__spec__': ModuleSpec(name='ipykernel_launcher', loader=<_f...nda3\\\\lib\\\\site-packages\\\\ipykernel_launcher.py'), 'app': <module 'ipykernel.kernelapp' from 'C:\\\\Users\\\\J...a3\\\\lib\\\\site-packages\\\\ipykernel\\\\kernelapp.py'>, ...}, init_globals=None, mod_name='__main__', mod_spec=ModuleSpec(name='ipykernel_launcher', loader=<_f...nda3\\\\lib\\\\site-packages\\\\ipykernel_launcher.py'), pkg_name='', script_name=None)\n     80                        __cached__ = cached,\n     81                        __doc__ = None,\n     82                        __loader__ = loader,\n     83                        __package__ = pkg_name,\n     84                        __spec__ = mod_spec)\n---> 85     exec(code, run_globals)\n        code = <code object <module> at 0x000001D02285BC90, fil...lib\\site-packages\\ipykernel_launcher.py\", line 5>\n        run_globals = {'__annotations__': {}, '__builtins__': <module 'builtins' (built-in)>, '__cached__': r'C:\\Users\\Josh\\Anaconda3\\lib\\site-packages\\__pycache__\\ipykernel_launcher.cpython-36.pyc', '__doc__': 'Entry point for launching an IPython kernel.\\n\\nTh...orts until\\nafter removing the cwd from sys.path.\\n', '__file__': r'C:\\Users\\Josh\\Anaconda3\\lib\\site-packages\\ipykernel_launcher.py', '__loader__': <_frozen_importlib_external.SourceFileLoader object>, '__name__': '__main__', '__package__': '', '__spec__': ModuleSpec(name='ipykernel_launcher', loader=<_f...nda3\\\\lib\\\\site-packages\\\\ipykernel_launcher.py'), 'app': <module 'ipykernel.kernelapp' from 'C:\\\\Users\\\\J...a3\\\\lib\\\\site-packages\\\\ipykernel\\\\kernelapp.py'>, ...}\n     86     return run_globals\n     87 \n     88 def _run_module_code(code, init_globals=None,\n     89                     mod_name=None, mod_spec=None,\n\n...........................................................................\nC:\\Users\\Josh\\Anaconda3\\lib\\site-packages\\ipykernel_launcher.py in <module>()\n     11     # This is added back by InteractiveShellApp.init_path()\n     12     if sys.path[0] == '':\n     13         del sys.path[0]\n     14 \n     15     from ipykernel import kernelapp as app\n---> 16     app.launch_new_instance()\n\n...........................................................................\nC:\\Users\\Josh\\Anaconda3\\lib\\site-packages\\traitlets\\config\\application.py in launch_instance(cls=<class 'ipykernel.kernelapp.IPKernelApp'>, argv=None, **kwargs={})\n    653 \n    654         If a global instance already exists, this reinitializes and starts it\n    655         \"\"\"\n    656         app = cls.instance(**kwargs)\n    657         app.initialize(argv)\n--> 658         app.start()\n        app.start = <bound method IPKernelApp.start of <ipykernel.kernelapp.IPKernelApp object>>\n    659 \n    660 #-----------------------------------------------------------------------------\n    661 # utility functions, for convenience\n    662 #-----------------------------------------------------------------------------\n\n...........................................................................\nC:\\Users\\Josh\\Anaconda3\\lib\\site-packages\\ipykernel\\kernelapp.py in start(self=<ipykernel.kernelapp.IPKernelApp object>)\n    472             return self.subapp.start()\n    473         if self.poller is not None:\n    474             self.poller.start()\n    475         self.kernel.start()\n    476         try:\n--> 477             ioloop.IOLoop.instance().start()\n    478         except KeyboardInterrupt:\n    479             pass\n    480 \n    481 launch_new_instance = IPKernelApp.launch_instance\n\n...........................................................................\nC:\\Users\\Josh\\Anaconda3\\lib\\site-packages\\zmq\\eventloop\\ioloop.py in start(self=<zmq.eventloop.ioloop.ZMQIOLoop object>)\n    172             )\n    173         return loop\n    174     \n    175     def start(self):\n    176         try:\n--> 177             super(ZMQIOLoop, self).start()\n        self.start = <bound method ZMQIOLoop.start of <zmq.eventloop.ioloop.ZMQIOLoop object>>\n    178         except ZMQError as e:\n    179             if e.errno == ETERM:\n    180                 # quietly return on ETERM\n    181                 pass\n\n...........................................................................\nC:\\Users\\Josh\\Anaconda3\\lib\\site-packages\\tornado\\ioloop.py in start(self=<zmq.eventloop.ioloop.ZMQIOLoop object>)\n    883                 self._events.update(event_pairs)\n    884                 while self._events:\n    885                     fd, events = self._events.popitem()\n    886                     try:\n    887                         fd_obj, handler_func = self._handlers[fd]\n--> 888                         handler_func(fd_obj, events)\n        handler_func = <function wrap.<locals>.null_wrapper>\n        fd_obj = <zmq.sugar.socket.Socket object>\n        events = 1\n    889                     except (OSError, IOError) as e:\n    890                         if errno_from_exception(e) == errno.EPIPE:\n    891                             # Happens when the client closes the connection\n    892                             pass\n\n...........................................................................\nC:\\Users\\Josh\\Anaconda3\\lib\\site-packages\\tornado\\stack_context.py in null_wrapper(*args=(<zmq.sugar.socket.Socket object>, 1), **kwargs={})\n    272         # Fast path when there are no active contexts.\n    273         def null_wrapper(*args, **kwargs):\n    274             try:\n    275                 current_state = _state.contexts\n    276                 _state.contexts = cap_contexts[0]\n--> 277                 return fn(*args, **kwargs)\n        args = (<zmq.sugar.socket.Socket object>, 1)\n        kwargs = {}\n    278             finally:\n    279                 _state.contexts = current_state\n    280         null_wrapper._wrapped = True\n    281         return null_wrapper\n\n...........................................................................\nC:\\Users\\Josh\\Anaconda3\\lib\\site-packages\\zmq\\eventloop\\zmqstream.py in _handle_events(self=<zmq.eventloop.zmqstream.ZMQStream object>, fd=<zmq.sugar.socket.Socket object>, events=1)\n    435             # dispatch events:\n    436             if events & IOLoop.ERROR:\n    437                 gen_log.error(\"got POLLERR event on ZMQStream, which doesn't make sense\")\n    438                 return\n    439             if events & IOLoop.READ:\n--> 440                 self._handle_recv()\n        self._handle_recv = <bound method ZMQStream._handle_recv of <zmq.eventloop.zmqstream.ZMQStream object>>\n    441                 if not self.socket:\n    442                     return\n    443             if events & IOLoop.WRITE:\n    444                 self._handle_send()\n\n...........................................................................\nC:\\Users\\Josh\\Anaconda3\\lib\\site-packages\\zmq\\eventloop\\zmqstream.py in _handle_recv(self=<zmq.eventloop.zmqstream.ZMQStream object>)\n    467                 gen_log.error(\"RECV Error: %s\"%zmq.strerror(e.errno))\n    468         else:\n    469             if self._recv_callback:\n    470                 callback = self._recv_callback\n    471                 # self._recv_callback = None\n--> 472                 self._run_callback(callback, msg)\n        self._run_callback = <bound method ZMQStream._run_callback of <zmq.eventloop.zmqstream.ZMQStream object>>\n        callback = <function wrap.<locals>.null_wrapper>\n        msg = [<zmq.sugar.frame.Frame object>, <zmq.sugar.frame.Frame object>, <zmq.sugar.frame.Frame object>, <zmq.sugar.frame.Frame object>, <zmq.sugar.frame.Frame object>, <zmq.sugar.frame.Frame object>, <zmq.sugar.frame.Frame object>]\n    473                 \n    474         # self.update_state()\n    475         \n    476 \n\n...........................................................................\nC:\\Users\\Josh\\Anaconda3\\lib\\site-packages\\zmq\\eventloop\\zmqstream.py in _run_callback(self=<zmq.eventloop.zmqstream.ZMQStream object>, callback=<function wrap.<locals>.null_wrapper>, *args=([<zmq.sugar.frame.Frame object>, <zmq.sugar.frame.Frame object>, <zmq.sugar.frame.Frame object>, <zmq.sugar.frame.Frame object>, <zmq.sugar.frame.Frame object>, <zmq.sugar.frame.Frame object>, <zmq.sugar.frame.Frame object>],), **kwargs={})\n    409         close our socket.\"\"\"\n    410         try:\n    411             # Use a NullContext to ensure that all StackContexts are run\n    412             # inside our blanket exception handler rather than outside.\n    413             with stack_context.NullContext():\n--> 414                 callback(*args, **kwargs)\n        callback = <function wrap.<locals>.null_wrapper>\n        args = ([<zmq.sugar.frame.Frame object>, <zmq.sugar.frame.Frame object>, <zmq.sugar.frame.Frame object>, <zmq.sugar.frame.Frame object>, <zmq.sugar.frame.Frame object>, <zmq.sugar.frame.Frame object>, <zmq.sugar.frame.Frame object>],)\n        kwargs = {}\n    415         except:\n    416             gen_log.error(\"Uncaught exception, closing connection.\",\n    417                           exc_info=True)\n    418             # Close the socket on an uncaught exception from a user callback\n\n...........................................................................\nC:\\Users\\Josh\\Anaconda3\\lib\\site-packages\\tornado\\stack_context.py in null_wrapper(*args=([<zmq.sugar.frame.Frame object>, <zmq.sugar.frame.Frame object>, <zmq.sugar.frame.Frame object>, <zmq.sugar.frame.Frame object>, <zmq.sugar.frame.Frame object>, <zmq.sugar.frame.Frame object>, <zmq.sugar.frame.Frame object>],), **kwargs={})\n    272         # Fast path when there are no active contexts.\n    273         def null_wrapper(*args, **kwargs):\n    274             try:\n    275                 current_state = _state.contexts\n    276                 _state.contexts = cap_contexts[0]\n--> 277                 return fn(*args, **kwargs)\n        args = ([<zmq.sugar.frame.Frame object>, <zmq.sugar.frame.Frame object>, <zmq.sugar.frame.Frame object>, <zmq.sugar.frame.Frame object>, <zmq.sugar.frame.Frame object>, <zmq.sugar.frame.Frame object>, <zmq.sugar.frame.Frame object>],)\n        kwargs = {}\n    278             finally:\n    279                 _state.contexts = current_state\n    280         null_wrapper._wrapped = True\n    281         return null_wrapper\n\n...........................................................................\nC:\\Users\\Josh\\Anaconda3\\lib\\site-packages\\ipykernel\\kernelbase.py in dispatcher(msg=[<zmq.sugar.frame.Frame object>, <zmq.sugar.frame.Frame object>, <zmq.sugar.frame.Frame object>, <zmq.sugar.frame.Frame object>, <zmq.sugar.frame.Frame object>, <zmq.sugar.frame.Frame object>, <zmq.sugar.frame.Frame object>])\n    278         if self.control_stream:\n    279             self.control_stream.on_recv(self.dispatch_control, copy=False)\n    280 \n    281         def make_dispatcher(stream):\n    282             def dispatcher(msg):\n--> 283                 return self.dispatch_shell(stream, msg)\n        msg = [<zmq.sugar.frame.Frame object>, <zmq.sugar.frame.Frame object>, <zmq.sugar.frame.Frame object>, <zmq.sugar.frame.Frame object>, <zmq.sugar.frame.Frame object>, <zmq.sugar.frame.Frame object>, <zmq.sugar.frame.Frame object>]\n    284             return dispatcher\n    285 \n    286         for s in self.shell_streams:\n    287             s.on_recv(make_dispatcher(s), copy=False)\n\n...........................................................................\nC:\\Users\\Josh\\Anaconda3\\lib\\site-packages\\ipykernel\\kernelbase.py in dispatch_shell(self=<ipykernel.ipkernel.IPythonKernel object>, stream=<zmq.eventloop.zmqstream.ZMQStream object>, msg={'buffers': [], 'content': {'allow_stdin': True, 'code': 'xgb = XGBRegressor()\\n\\n#brute force scan for all ...verbose=2, refit=True)\\n\\nclf.fit(X_train, y_train)', 'silent': False, 'stop_on_error': True, 'store_history': True, 'user_expressions': {}}, 'header': {'date': datetime.datetime(2017, 9, 15, 18, 53, 25, 235533, tzinfo=datetime.timezone.utc), 'msg_id': 'F3BF21FA33224869AAD355AFF5B363D3', 'msg_type': 'execute_request', 'session': '5260C41D777F4040BA2A47C999CD67D8', 'username': 'username', 'version': '5.0'}, 'metadata': {}, 'msg_id': 'F3BF21FA33224869AAD355AFF5B363D3', 'msg_type': 'execute_request', 'parent_header': {}})\n    230             self.log.warn(\"Unknown message type: %r\", msg_type)\n    231         else:\n    232             self.log.debug(\"%s: %s\", msg_type, msg)\n    233             self.pre_handler_hook()\n    234             try:\n--> 235                 handler(stream, idents, msg)\n        handler = <bound method Kernel.execute_request of <ipykernel.ipkernel.IPythonKernel object>>\n        stream = <zmq.eventloop.zmqstream.ZMQStream object>\n        idents = [b'5260C41D777F4040BA2A47C999CD67D8']\n        msg = {'buffers': [], 'content': {'allow_stdin': True, 'code': 'xgb = XGBRegressor()\\n\\n#brute force scan for all ...verbose=2, refit=True)\\n\\nclf.fit(X_train, y_train)', 'silent': False, 'stop_on_error': True, 'store_history': True, 'user_expressions': {}}, 'header': {'date': datetime.datetime(2017, 9, 15, 18, 53, 25, 235533, tzinfo=datetime.timezone.utc), 'msg_id': 'F3BF21FA33224869AAD355AFF5B363D3', 'msg_type': 'execute_request', 'session': '5260C41D777F4040BA2A47C999CD67D8', 'username': 'username', 'version': '5.0'}, 'metadata': {}, 'msg_id': 'F3BF21FA33224869AAD355AFF5B363D3', 'msg_type': 'execute_request', 'parent_header': {}}\n    236             except Exception:\n    237                 self.log.error(\"Exception in message handler:\", exc_info=True)\n    238             finally:\n    239                 self.post_handler_hook()\n\n...........................................................................\nC:\\Users\\Josh\\Anaconda3\\lib\\site-packages\\ipykernel\\kernelbase.py in execute_request(self=<ipykernel.ipkernel.IPythonKernel object>, stream=<zmq.eventloop.zmqstream.ZMQStream object>, ident=[b'5260C41D777F4040BA2A47C999CD67D8'], parent={'buffers': [], 'content': {'allow_stdin': True, 'code': 'xgb = XGBRegressor()\\n\\n#brute force scan for all ...verbose=2, refit=True)\\n\\nclf.fit(X_train, y_train)', 'silent': False, 'stop_on_error': True, 'store_history': True, 'user_expressions': {}}, 'header': {'date': datetime.datetime(2017, 9, 15, 18, 53, 25, 235533, tzinfo=datetime.timezone.utc), 'msg_id': 'F3BF21FA33224869AAD355AFF5B363D3', 'msg_type': 'execute_request', 'session': '5260C41D777F4040BA2A47C999CD67D8', 'username': 'username', 'version': '5.0'}, 'metadata': {}, 'msg_id': 'F3BF21FA33224869AAD355AFF5B363D3', 'msg_type': 'execute_request', 'parent_header': {}})\n    394         if not silent:\n    395             self.execution_count += 1\n    396             self._publish_execute_input(code, parent, self.execution_count)\n    397 \n    398         reply_content = self.do_execute(code, silent, store_history,\n--> 399                                         user_expressions, allow_stdin)\n        user_expressions = {}\n        allow_stdin = True\n    400 \n    401         # Flush output before sending the reply.\n    402         sys.stdout.flush()\n    403         sys.stderr.flush()\n\n...........................................................................\nC:\\Users\\Josh\\Anaconda3\\lib\\site-packages\\ipykernel\\ipkernel.py in do_execute(self=<ipykernel.ipkernel.IPythonKernel object>, code='xgb = XGBRegressor()\\n\\n#brute force scan for all ...verbose=2, refit=True)\\n\\nclf.fit(X_train, y_train)', silent=False, store_history=True, user_expressions={}, allow_stdin=True)\n    191 \n    192         self._forward_input(allow_stdin)\n    193 \n    194         reply_content = {}\n    195         try:\n--> 196             res = shell.run_cell(code, store_history=store_history, silent=silent)\n        res = undefined\n        shell.run_cell = <bound method ZMQInteractiveShell.run_cell of <ipykernel.zmqshell.ZMQInteractiveShell object>>\n        code = 'xgb = XGBRegressor()\\n\\n#brute force scan for all ...verbose=2, refit=True)\\n\\nclf.fit(X_train, y_train)'\n        store_history = True\n        silent = False\n    197         finally:\n    198             self._restore_input()\n    199 \n    200         if res.error_before_exec is not None:\n\n...........................................................................\nC:\\Users\\Josh\\Anaconda3\\lib\\site-packages\\ipykernel\\zmqshell.py in run_cell(self=<ipykernel.zmqshell.ZMQInteractiveShell object>, *args=('xgb = XGBRegressor()\\n\\n#brute force scan for all ...verbose=2, refit=True)\\n\\nclf.fit(X_train, y_train)',), **kwargs={'silent': False, 'store_history': True})\n    528             )\n    529         self.payload_manager.write_payload(payload)\n    530 \n    531     def run_cell(self, *args, **kwargs):\n    532         self._last_traceback = None\n--> 533         return super(ZMQInteractiveShell, self).run_cell(*args, **kwargs)\n        self.run_cell = <bound method ZMQInteractiveShell.run_cell of <ipykernel.zmqshell.ZMQInteractiveShell object>>\n        args = ('xgb = XGBRegressor()\\n\\n#brute force scan for all ...verbose=2, refit=True)\\n\\nclf.fit(X_train, y_train)',)\n        kwargs = {'silent': False, 'store_history': True}\n    534 \n    535     def _showtraceback(self, etype, evalue, stb):\n    536         # try to preserve ordering of tracebacks and print statements\n    537         sys.stdout.flush()\n\n...........................................................................\nC:\\Users\\Josh\\Anaconda3\\lib\\site-packages\\IPython\\core\\interactiveshell.py in run_cell(self=<ipykernel.zmqshell.ZMQInteractiveShell object>, raw_cell='xgb = XGBRegressor()\\n\\n#brute force scan for all ...verbose=2, refit=True)\\n\\nclf.fit(X_train, y_train)', store_history=True, silent=False, shell_futures=True)\n   2712                 self.displayhook.exec_result = result\n   2713 \n   2714                 # Execute the user code\n   2715                 interactivity = \"none\" if silent else self.ast_node_interactivity\n   2716                 has_raised = self.run_ast_nodes(code_ast.body, cell_name,\n-> 2717                    interactivity=interactivity, compiler=compiler, result=result)\n        interactivity = 'last_expr'\n        compiler = <IPython.core.compilerop.CachingCompiler object>\n   2718                 \n   2719                 self.last_execution_succeeded = not has_raised\n   2720 \n   2721                 # Reset this so later displayed values do not modify the\n\n...........................................................................\nC:\\Users\\Josh\\Anaconda3\\lib\\site-packages\\IPython\\core\\interactiveshell.py in run_ast_nodes(self=<ipykernel.zmqshell.ZMQInteractiveShell object>, nodelist=[<_ast.Assign object>, <_ast.Assign object>, <_ast.Assign object>, <_ast.Expr object>], cell_name='<ipython-input-45-f130e4046d35>', interactivity='last', compiler=<IPython.core.compilerop.CachingCompiler object>, result=<ExecutionResult object at 1d0465b0cc0, executio..._before_exec=None error_in_exec=None result=None>)\n   2822                     return True\n   2823 \n   2824             for i, node in enumerate(to_run_interactive):\n   2825                 mod = ast.Interactive([node])\n   2826                 code = compiler(mod, cell_name, \"single\")\n-> 2827                 if self.run_code(code, result):\n        self.run_code = <bound method InteractiveShell.run_code of <ipykernel.zmqshell.ZMQInteractiveShell object>>\n        code = <code object <module> at 0x000001D02AC86420, file \"<ipython-input-45-f130e4046d35>\", line 24>\n        result = <ExecutionResult object at 1d0465b0cc0, executio..._before_exec=None error_in_exec=None result=None>\n   2828                     return True\n   2829 \n   2830             # Flush softspace\n   2831             if softspace(sys.stdout, 0):\n\n...........................................................................\nC:\\Users\\Josh\\Anaconda3\\lib\\site-packages\\IPython\\core\\interactiveshell.py in run_code(self=<ipykernel.zmqshell.ZMQInteractiveShell object>, code_obj=<code object <module> at 0x000001D02AC86420, file \"<ipython-input-45-f130e4046d35>\", line 24>, result=<ExecutionResult object at 1d0465b0cc0, executio..._before_exec=None error_in_exec=None result=None>)\n   2876         outflag = 1  # happens in more places, so it's easier as default\n   2877         try:\n   2878             try:\n   2879                 self.hooks.pre_run_code_hook()\n   2880                 #rprint('Running code', repr(code_obj)) # dbg\n-> 2881                 exec(code_obj, self.user_global_ns, self.user_ns)\n        code_obj = <code object <module> at 0x000001D02AC86420, file \"<ipython-input-45-f130e4046d35>\", line 24>\n        self.user_global_ns = {'GradientBoostingRegressor': <class 'sklearn.ensemble.gradient_boosting.GradientBoostingRegressor'>, 'GridSearchCV': <class 'sklearn.model_selection._search.GridSearchCV'>, 'In': ['', \"import pandas as pd\\nimport numpy as np\\nimport ma...t as xgb\\nget_ipython().magic('matplotlib inline')\", \"import pandas as pd\\nimport numpy as np\\nimport ma...t as xgb\\nget_ipython().magic('matplotlib inline')\", 'from sklearn.model_selection import train_test_s...sklearn.ensemble import GradientBoostingRegressor', \"train = pd.read_csv('train.csv') #change to '../...../input/sample_submission.csv' for kaggle upload\", 'train.head(1)', 'test.head(1)', 'sample_submission.head(1)', 'train.columns', 'test.columns', 'len(train)', 'len(test)', '# Extra features in train (which are note presen...n in train.columns if column not in test.columns]', 'train.isnull().sum()', 'train[train.isnull().any(axis=1)] #No missing values', 'def remove_outliers(old_df,number_of_std,columns... outliers from this column\\n    \\n    return new_df', \"#Remove outlier trips (in case length was caused...move_outliers(train,4,columns=['trip_duration']) \", \"train['dist'] = np.sqrt((train['pickup_latitude'...ickup_longitude']-test['dropoff_longitude'])**2) \", \"train['manh'] = abs(train['pickup_latitude']-tra...st['pickup_longitude']-test['dropoff_longitude'])\", \"#Convert to datetime\\ntrain['pickup_datetime'] = ...etime'] = pd.to_datetime(test['pickup_datetime'])\", ...], 'LinearRegression': <class 'sklearn.linear_model.base.LinearRegression'>, 'Out': {5:           id  vendor_id      pickup_datetime    ...    40.765602                  N            455  , 6:           id  vendor_id      pickup_datetime  pa...  \n\n  store_and_fwd_flag  \n0                  N  , 7:           id  trip_duration\n0  id3004672            959, 8: Index(['id', 'vendor_id', 'pickup_datetime', 'dr...',\n       'trip_duration'],\n      dtype='object'), 9: Index(['id', 'vendor_id', 'pickup_datetime', 'pa...de', 'store_and_fwd_flag'],\n      dtype='object'), 10: 1458644, 11: 625134, 12: ['dropoff_datetime', 'trip_duration'], 13: id                    0\nvendor_id             0\n...wd_flag    0\ntrip_duration         0\ndtype: int64, 14: Empty DataFrame\nColumns: [id, vendor_id, pickup_...ude, store_and_fwd_flag, trip_duration]\nIndex: [], ...}, 'X':              dist      manh  hour  dayofweek  mo...    1      4        0\n\n[1456583 rows x 6 columns], 'XGBRegressor': <class 'xgboost.sklearn.XGBRegressor'>, 'X_final':             dist      manh  hour  dayofweek  mon...     4      1        0\n\n[625134 rows x 6 columns], 'X_test':              dist      manh  hour  dayofweek  mo...     2      6        0\n\n[291317 rows x 6 columns], 'X_train':              dist      manh  hour  dayofweek  mo...    0      2        0\n\n[1165266 rows x 6 columns], ...}\n        self.user_ns = {'GradientBoostingRegressor': <class 'sklearn.ensemble.gradient_boosting.GradientBoostingRegressor'>, 'GridSearchCV': <class 'sklearn.model_selection._search.GridSearchCV'>, 'In': ['', \"import pandas as pd\\nimport numpy as np\\nimport ma...t as xgb\\nget_ipython().magic('matplotlib inline')\", \"import pandas as pd\\nimport numpy as np\\nimport ma...t as xgb\\nget_ipython().magic('matplotlib inline')\", 'from sklearn.model_selection import train_test_s...sklearn.ensemble import GradientBoostingRegressor', \"train = pd.read_csv('train.csv') #change to '../...../input/sample_submission.csv' for kaggle upload\", 'train.head(1)', 'test.head(1)', 'sample_submission.head(1)', 'train.columns', 'test.columns', 'len(train)', 'len(test)', '# Extra features in train (which are note presen...n in train.columns if column not in test.columns]', 'train.isnull().sum()', 'train[train.isnull().any(axis=1)] #No missing values', 'def remove_outliers(old_df,number_of_std,columns... outliers from this column\\n    \\n    return new_df', \"#Remove outlier trips (in case length was caused...move_outliers(train,4,columns=['trip_duration']) \", \"train['dist'] = np.sqrt((train['pickup_latitude'...ickup_longitude']-test['dropoff_longitude'])**2) \", \"train['manh'] = abs(train['pickup_latitude']-tra...st['pickup_longitude']-test['dropoff_longitude'])\", \"#Convert to datetime\\ntrain['pickup_datetime'] = ...etime'] = pd.to_datetime(test['pickup_datetime'])\", ...], 'LinearRegression': <class 'sklearn.linear_model.base.LinearRegression'>, 'Out': {5:           id  vendor_id      pickup_datetime    ...    40.765602                  N            455  , 6:           id  vendor_id      pickup_datetime  pa...  \n\n  store_and_fwd_flag  \n0                  N  , 7:           id  trip_duration\n0  id3004672            959, 8: Index(['id', 'vendor_id', 'pickup_datetime', 'dr...',\n       'trip_duration'],\n      dtype='object'), 9: Index(['id', 'vendor_id', 'pickup_datetime', 'pa...de', 'store_and_fwd_flag'],\n      dtype='object'), 10: 1458644, 11: 625134, 12: ['dropoff_datetime', 'trip_duration'], 13: id                    0\nvendor_id             0\n...wd_flag    0\ntrip_duration         0\ndtype: int64, 14: Empty DataFrame\nColumns: [id, vendor_id, pickup_...ude, store_and_fwd_flag, trip_duration]\nIndex: [], ...}, 'X':              dist      manh  hour  dayofweek  mo...    1      4        0\n\n[1456583 rows x 6 columns], 'XGBRegressor': <class 'xgboost.sklearn.XGBRegressor'>, 'X_final':             dist      manh  hour  dayofweek  mon...     4      1        0\n\n[625134 rows x 6 columns], 'X_test':              dist      manh  hour  dayofweek  mo...     2      6        0\n\n[291317 rows x 6 columns], 'X_train':              dist      manh  hour  dayofweek  mo...    0      2        0\n\n[1165266 rows x 6 columns], ...}\n   2882             finally:\n   2883                 # Reset our crash handler in place\n   2884                 sys.excepthook = old_excepthook\n   2885         except SystemExit as e:\n\n...........................................................................\nC:\\Users\\Josh\\Documents\\Kaggle\\taxi\\<ipython-input-45-f130e4046d35> in <module>()\n     19               'seed': [1337]}\n     20 \n     21 \n     22 clf = GridSearchCV(xgb, parameters, n_jobs=-1, cv=3, scoring='roc_auc',verbose=2, refit=True)\n     23 \n---> 24 clf.fit(X_train, y_train)\n\n...........................................................................\nC:\\Users\\Josh\\Anaconda3\\lib\\site-packages\\sklearn\\model_selection\\_search.py in fit(self=GridSearchCV(cv=3, error_score='raise',\n       e..._score=True,\n       scoring='roc_auc', verbose=2), X=             dist      manh  hour  dayofweek  mo...    0      2        0\n\n[1165266 rows x 6 columns], y=438841     1124\n408043     1249\n890675      528\n...ame: trip_duration, Length: 1165266, dtype: int64, groups=None, **fit_params={})\n    633                                   return_train_score=self.return_train_score,\n    634                                   return_n_test_samples=True,\n    635                                   return_times=True, return_parameters=False,\n    636                                   error_score=self.error_score)\n    637           for parameters, (train, test) in product(candidate_params,\n--> 638                                                    cv.split(X, y, groups)))\n        cv.split = <bound method _BaseKFold.split of KFold(n_splits=3, random_state=None, shuffle=False)>\n        X =              dist      manh  hour  dayofweek  mo...    0      2        0\n\n[1165266 rows x 6 columns]\n        y = 438841     1124\n408043     1249\n890675      528\n...ame: trip_duration, Length: 1165266, dtype: int64\n        groups = None\n    639 \n    640         # if one choose to see train score, \"out\" will contain train score info\n    641         if self.return_train_score:\n    642             (train_score_dicts, test_score_dicts, test_sample_counts, fit_time,\n\n...........................................................................\nC:\\Users\\Josh\\Anaconda3\\lib\\site-packages\\sklearn\\externals\\joblib\\parallel.py in __call__(self=Parallel(n_jobs=-1), iterable=<generator object BaseSearchCV.fit.<locals>.<genexpr>>)\n    784             if pre_dispatch == \"all\" or n_jobs == 1:\n    785                 # The iterable was consumed all at once by the above for loop.\n    786                 # No need to wait for async callbacks to trigger to\n    787                 # consumption.\n    788                 self._iterating = False\n--> 789             self.retrieve()\n        self.retrieve = <bound method Parallel.retrieve of Parallel(n_jobs=-1)>\n    790             # Make sure that we get a last message telling us we are done\n    791             elapsed_time = time.time() - self._start_time\n    792             self._print('Done %3i out of %3i | elapsed: %s finished',\n    793                         (len(self._output), len(self._output),\n\n---------------------------------------------------------------------------\nSub-process traceback:\n---------------------------------------------------------------------------\nValueError                                         Fri Sep 15 11:53:27 2017\nPID: 7944                  Python 3.6.1: C:\\Users\\Josh\\Anaconda3\\python.exe\n...........................................................................\nC:\\Users\\Josh\\Anaconda3\\lib\\site-packages\\sklearn\\externals\\joblib\\parallel.py in __call__(self=<sklearn.externals.joblib.parallel.BatchedCalls object>)\n    126     def __init__(self, iterator_slice):\n    127         self.items = list(iterator_slice)\n    128         self._size = len(self.items)\n    129 \n    130     def __call__(self):\n--> 131         return [func(*args, **kwargs) for func, args, kwargs in self.items]\n        self.items = [(<function _fit_and_score>, (XGBRegressor(base_score=0.5, booster='gbtree', c...ght=1, seed=1337, silent=1,\n       subsample=0.8),              dist      manh  hour  dayofweek  mo...    0      2        0\n\n[1165266 rows x 6 columns], 438841     1124\n408043     1249\n890675      528\n...ame: trip_duration, Length: 1165266, dtype: int64, {'score': make_scorer(roc_auc_score, needs_threshold=True)}, memmap([ 388422,  388423,  388424, ..., 1165263, 1165264, 1165265]), memmap([     0,      1,      2, ..., 388419, 388420, 388421]), 2, {'colsample_bytree': 0.7, 'learning_rate': 0.05, 'max_depth': 6, 'min_child_weight': 11, 'missing': -999, 'n_estimators': 1, 'nthread': 4, 'seed': 1337, 'silent': 1, 'subsample': 0.8}), {'error_score': 'raise', 'fit_params': {}, 'return_n_test_samples': True, 'return_parameters': False, 'return_times': True, 'return_train_score': True})]\n    132 \n    133     def __len__(self):\n    134         return self._size\n    135 \n\n...........................................................................\nC:\\Users\\Josh\\Anaconda3\\lib\\site-packages\\sklearn\\externals\\joblib\\parallel.py in <listcomp>(.0=<list_iterator object>)\n    126     def __init__(self, iterator_slice):\n    127         self.items = list(iterator_slice)\n    128         self._size = len(self.items)\n    129 \n    130     def __call__(self):\n--> 131         return [func(*args, **kwargs) for func, args, kwargs in self.items]\n        func = <function _fit_and_score>\n        args = (XGBRegressor(base_score=0.5, booster='gbtree', c...ght=1, seed=1337, silent=1,\n       subsample=0.8),              dist      manh  hour  dayofweek  mo...    0      2        0\n\n[1165266 rows x 6 columns], 438841     1124\n408043     1249\n890675      528\n...ame: trip_duration, Length: 1165266, dtype: int64, {'score': make_scorer(roc_auc_score, needs_threshold=True)}, memmap([ 388422,  388423,  388424, ..., 1165263, 1165264, 1165265]), memmap([     0,      1,      2, ..., 388419, 388420, 388421]), 2, {'colsample_bytree': 0.7, 'learning_rate': 0.05, 'max_depth': 6, 'min_child_weight': 11, 'missing': -999, 'n_estimators': 1, 'nthread': 4, 'seed': 1337, 'silent': 1, 'subsample': 0.8})\n        kwargs = {'error_score': 'raise', 'fit_params': {}, 'return_n_test_samples': True, 'return_parameters': False, 'return_times': True, 'return_train_score': True}\n    132 \n    133     def __len__(self):\n    134         return self._size\n    135 \n\n...........................................................................\nC:\\Users\\Josh\\Anaconda3\\lib\\site-packages\\sklearn\\model_selection\\_validation.py in _fit_and_score(estimator=XGBRegressor(base_score=0.5, booster='gbtree', c...ght=1, seed=1337, silent=1,\n       subsample=0.8), X=             dist      manh  hour  dayofweek  mo...    0      2        0\n\n[1165266 rows x 6 columns], y=438841     1124\n408043     1249\n890675      528\n...ame: trip_duration, Length: 1165266, dtype: int64, scorer={'score': make_scorer(roc_auc_score, needs_threshold=True)}, train=memmap([ 388422,  388423,  388424, ..., 1165263, 1165264, 1165265]), test=memmap([     0,      1,      2, ..., 388419, 388420, 388421]), verbose=2, parameters={'colsample_bytree': 0.7, 'learning_rate': 0.05, 'max_depth': 6, 'min_child_weight': 11, 'missing': -999, 'n_estimators': 1, 'nthread': 4, 'seed': 1337, 'silent': 1, 'subsample': 0.8}, fit_params={}, return_train_score=True, return_parameters=False, return_n_test_samples=True, return_times=True, error_score='raise')\n    462                              \" make sure that it has been spelled correctly.)\")\n    463 \n    464     else:\n    465         fit_time = time.time() - start_time\n    466         # _score will return dict if is_multimetric is True\n--> 467         test_scores = _score(estimator, X_test, y_test, scorer, is_multimetric)\n        test_scores = {}\n        estimator = XGBRegressor(base_score=0.5, booster='gbtree', c...ght=1, seed=1337, silent=1,\n       subsample=0.8)\n        X_test =              dist      manh  hour  dayofweek  mo...     5      4        0\n\n[388422 rows x 6 columns]\n        y_test = 438841     1124\n408043     1249\n890675      528\n...Name: trip_duration, Length: 388422, dtype: int64\n        scorer = {'score': make_scorer(roc_auc_score, needs_threshold=True)}\n        is_multimetric = True\n    468         score_time = time.time() - start_time - fit_time\n    469         if return_train_score:\n    470             train_scores = _score(estimator, X_train, y_train, scorer,\n    471                                   is_multimetric)\n\n...........................................................................\nC:\\Users\\Josh\\Anaconda3\\lib\\site-packages\\sklearn\\model_selection\\_validation.py in _score(estimator=XGBRegressor(base_score=0.5, booster='gbtree', c...ght=1, seed=1337, silent=1,\n       subsample=0.8), X_test=             dist      manh  hour  dayofweek  mo...     5      4        0\n\n[388422 rows x 6 columns], y_test=438841     1124\n408043     1249\n890675      528\n...Name: trip_duration, Length: 388422, dtype: int64, scorer={'score': make_scorer(roc_auc_score, needs_threshold=True)}, is_multimetric=True)\n    497 \n    498     Will return a single float if is_multimetric is False and a dict of floats,\n    499     if is_multimetric is True\n    500     \"\"\"\n    501     if is_multimetric:\n--> 502         return _multimetric_score(estimator, X_test, y_test, scorer)\n        estimator = XGBRegressor(base_score=0.5, booster='gbtree', c...ght=1, seed=1337, silent=1,\n       subsample=0.8)\n        X_test =              dist      manh  hour  dayofweek  mo...     5      4        0\n\n[388422 rows x 6 columns]\n        y_test = 438841     1124\n408043     1249\n890675      528\n...Name: trip_duration, Length: 388422, dtype: int64\n        scorer = {'score': make_scorer(roc_auc_score, needs_threshold=True)}\n    503     else:\n    504         if y_test is None:\n    505             score = scorer(estimator, X_test)\n    506         else:\n\n...........................................................................\nC:\\Users\\Josh\\Anaconda3\\lib\\site-packages\\sklearn\\model_selection\\_validation.py in _multimetric_score(estimator=XGBRegressor(base_score=0.5, booster='gbtree', c...ght=1, seed=1337, silent=1,\n       subsample=0.8), X_test=             dist      manh  hour  dayofweek  mo...     5      4        0\n\n[388422 rows x 6 columns], y_test=438841     1124\n408043     1249\n890675      528\n...Name: trip_duration, Length: 388422, dtype: int64, scorers={'score': make_scorer(roc_auc_score, needs_threshold=True)})\n    527 \n    528     for name, scorer in scorers.items():\n    529         if y_test is None:\n    530             score = scorer(estimator, X_test)\n    531         else:\n--> 532             score = scorer(estimator, X_test, y_test)\n        score = undefined\n        scorer = make_scorer(roc_auc_score, needs_threshold=True)\n        estimator = XGBRegressor(base_score=0.5, booster='gbtree', c...ght=1, seed=1337, silent=1,\n       subsample=0.8)\n        X_test =              dist      manh  hour  dayofweek  mo...     5      4        0\n\n[388422 rows x 6 columns]\n        y_test = 438841     1124\n408043     1249\n890675      528\n...Name: trip_duration, Length: 388422, dtype: int64\n    533 \n    534         if hasattr(score, 'item'):\n    535             try:\n    536                 # e.g. unwrap memmapped scalars\n\n...........................................................................\nC:\\Users\\Josh\\Anaconda3\\lib\\site-packages\\sklearn\\metrics\\scorer.py in __call__(self=make_scorer(roc_auc_score, needs_threshold=True), clf=XGBRegressor(base_score=0.5, booster='gbtree', c...ght=1, seed=1337, silent=1,\n       subsample=0.8), X=             dist      manh  hour  dayofweek  mo...     5      4        0\n\n[388422 rows x 6 columns], y=438841     1124\n408043     1249\n890675      528\n...Name: trip_duration, Length: 388422, dtype: int64, sample_weight=None)\n    176         \"\"\"\n    177         super(_ThresholdScorer, self).__call__(clf, X, y,\n    178                                                sample_weight=sample_weight)\n    179         y_type = type_of_target(y)\n    180         if y_type not in (\"binary\", \"multilabel-indicator\"):\n--> 181             raise ValueError(\"{0} format is not supported\".format(y_type))\n        y_type = 'multiclass'\n    182 \n    183         if is_regressor(clf):\n    184             y_pred = clf.predict(X)\n    185         else:\n\nValueError: multiclass format is not supported\n___________________________________________________________________________"
     ]
    }
   ],
   "source": [
    "\"\"\"\n",
    "xgb = XGBRegressor()\n",
    "\n",
    "#brute force scan for all parameters, here are the tricks\n",
    "#usually max_depth is 6,7,8\n",
    "#learning rate is around 0.05, but small changes may make big diff\n",
    "#tuning min_child_weight subsample colsample_bytree can have \n",
    "#much fun of fighting against overfit \n",
    "#n_estimators is how many round of boosting\n",
    "#finally, ensemble xgboost with multiple seeds may reduce variance\n",
    "parameters = {'nthread':[4], #when use hyperthread, xgboost may become slower\n",
    "              'learning_rate': [0.05], #so called `eta` value\n",
    "              'max_depth': [6],\n",
    "              'min_child_weight': [11],\n",
    "              'silent': [1],\n",
    "              'subsample': [0.8],\n",
    "              'colsample_bytree': [0.7],\n",
    "              'n_estimators': [1], #number of trees, change it to 1000 for better results\n",
    "              'missing':[-999],\n",
    "              'seed': [1337]}\n",
    "\n",
    "\n",
    "clf = GridSearchCV(xgb, parameters, n_jobs=-1, cv=3, scoring='roc_auc',verbose=2, refit=True)\n",
    "\n",
    "clf.fit(X_train, y_train)\n",
    "\"\"\""
   ]
  },
  {
   "cell_type": "code",
   "execution_count": 76,
   "metadata": {},
   "outputs": [
    {
     "data": {
      "text/plain": [
       "\"\\nFOREVER_COMPUTING_FLAG = True\\nxgb_pars = []\\nfor MCW in [10]:\\n    for ETA in [0.05]:\\n        for CS in [0.3]:\\n            for MD in [6]:\\n                for SS in [0.5]:\\n                    for LAMBDA in [0.5, 1.]:\\n                        xgb_pars.append({'min_child_weight': MCW, 'eta': ETA, \\n                                         'colsample_bytree': CS, 'max_depth': MD,\\n                                         'subsample': SS, 'lambda': LAMBDA, \\n                                         'nthread': -1, 'booster' : 'gbtree', 'eval_metric': 'rmse',\\n                                         'silent': 1, 'objective': 'reg:linear'})\\n\\nwhile FOREVER_COMPUTING_FLAG:\\n    xgb_par = np.random.choice(xgb_pars, 1)[0]\\n    print(xgb_par)\\n    model = xgb.train(xgb_par, dtrain, 2000, watchlist, early_stopping_rounds=50,\\n                      maximize=False, verbose_eval=100)\\n    print('Modeling RMSLE %.5f' % model.best_score)\\n    \""
      ]
     },
     "execution_count": 76,
     "metadata": {},
     "output_type": "execute_result"
    }
   ],
   "source": [
    "\"\"\"\n",
    "FOREVER_COMPUTING_FLAG = True\n",
    "xgb_pars = []\n",
    "for MCW in [10]:\n",
    "    for ETA in [0.05]:\n",
    "        for CS in [0.3]:\n",
    "            for MD in [6]:\n",
    "                for SS in [0.5]:\n",
    "                    for LAMBDA in [0.5, 1.]:\n",
    "                        xgb_pars.append({'min_child_weight': MCW, 'eta': ETA, \n",
    "                                         'colsample_bytree': CS, 'max_depth': MD,\n",
    "                                         'subsample': SS, 'lambda': LAMBDA, \n",
    "                                         'nthread': -1, 'booster' : 'gbtree', 'eval_metric': 'rmse',\n",
    "                                         'silent': 1, 'objective': 'reg:linear'})\n",
    "\n",
    "while FOREVER_COMPUTING_FLAG:\n",
    "    xgb_par = np.random.choice(xgb_pars, 1)[0]\n",
    "    print(xgb_par)\n",
    "    model = xgb.train(xgb_par, dtrain, 2000, watchlist, early_stopping_rounds=50,\n",
    "                      maximize=False, verbose_eval=100)\n",
    "    print('Modeling RMSLE %.5f' % model.best_score)\n",
    "    \"\"\""
   ]
  },
  {
   "cell_type": "code",
   "execution_count": null,
   "metadata": {
    "collapsed": true
   },
   "outputs": [],
   "source": [
    "data = np.random.rand(5,10) # 5 entities, each contains 10 features\n",
    "label = np.random.randint(2, size=5) # binary target\n",
    "dtrain = xgb.DMatrix( data, label=label)\n",
    "\n",
    "dtest = dtrain\n",
    "\n",
    "param = {'bst:max_depth':2, 'bst:eta':1, 'silent':1, 'objective':'binary:logistic' }\n",
    "param['nthread'] = 4\n",
    "param['eval_metric'] = 'auc'\n",
    "\n",
    "evallist  = [(dtest,'eval'), (dtrain,'train')]\n",
    "\n",
    "num_round = 10\n",
    "bst = xgb.train( param, dtrain, num_round, evallist )\n",
    "\n",
    "bst.dump_model('dump.raw.txt')"
   ]
  }
 ],
 "metadata": {
  "kernelspec": {
   "display_name": "Python 3",
   "language": "python",
   "name": "python3"
  },
  "language_info": {
   "codemirror_mode": {
    "name": "ipython",
    "version": 3
   },
   "file_extension": ".py",
   "mimetype": "text/x-python",
   "name": "python",
   "nbconvert_exporter": "python",
   "pygments_lexer": "ipython3",
   "version": "3.6.1"
  }
 },
 "nbformat": 4,
 "nbformat_minor": 2
}
